{
 "cells": [
  {
   "cell_type": "markdown",
   "id": "810cc83e-b3cf-4da6-96c4-15ddcecfd5cc",
   "metadata": {},
   "source": [
    "# Testing Conditional Mutual Information\n"
   ]
  },
  {
   "cell_type": "code",
   "execution_count": 1,
   "id": "af43c828-6b80-483a-a6c9-a4d17ed22e3f",
   "metadata": {},
   "outputs": [],
   "source": [
    "%load_ext lab_black"
   ]
  },
  {
   "cell_type": "code",
   "execution_count": 2,
   "id": "82273ec2-9ef1-4081-ba7a-abcf1d23b3d3",
   "metadata": {},
   "outputs": [],
   "source": [
    "%load_ext autoreload\n",
    "%autoreload 2"
   ]
  },
  {
   "cell_type": "code",
   "execution_count": 115,
   "id": "47205476-c9e0-4e21-9bbc-daf90633ed54",
   "metadata": {},
   "outputs": [],
   "source": [
    "import os\n",
    "from pathlib import Path\n",
    "from pprint import pprint\n",
    "import json\n",
    "import collections\n",
    "from itertools import combinations, chain\n",
    "\n",
    "import numpy as np\n",
    "import bnlearn as bn\n",
    "import networkx as nx\n",
    "import pandas as pd\n",
    "from sklearn.metrics import roc_auc_score, precision_score, recall_score\n",
    "from numpy.random import Generator, PCG64\n",
    "import pingouin as pg\n",
    "\n",
    "from dodiscover.ci import CMITest\n",
    "\n",
    "from causal_networkx import DAG, StructuralCausalModel\n",
    "\n",
    "from causal_networkx.ci import (\n",
    "    FisherZCITest,\n",
    "    GSquareCITest,\n",
    "    PartialCorrelation,\n",
    "    Oracle,\n",
    "    ParentChildOracle,\n",
    "    KernelCITest,\n",
    ")\n",
    "\n",
    "import matplotlib.pyplot as plt\n",
    "import seaborn as sns"
   ]
  },
  {
   "cell_type": "code",
   "execution_count": 127,
   "id": "724b2899-f63a-41ea-bc1a-840d38d64b85",
   "metadata": {},
   "outputs": [],
   "source": [
    "seed = 12345\n",
    "rng = Generator(PCG64(seed))\n",
    "\n",
    "# func_uxy = rng.uniform\n",
    "func_uz = rng.normal\n",
    "func_ux = rng.normal\n",
    "func_uy = lambda: rng.normal()  # (scale=5.0)\n",
    "func_uw = lambda: rng.normal()  # (scale=1.0)\n",
    "\n",
    "xz_weight = 0.1\n",
    "xy_weight = 0.1\n",
    "wy_weight = 0.1\n",
    "\n",
    "func_z = lambda u_z: u_z\n",
    "func_x = lambda u_x, z: u_x + xz_weight * z\n",
    "func_y = lambda u_y, w, x: wy_weight * w + u_y + xy_weight * x\n",
    "func_w = lambda u_w: u_w\n",
    "\n",
    "scm = StructuralCausalModel(\n",
    "    exogenous={\n",
    "        \"u_x\": func_ux,\n",
    "        \"u_y\": func_uy,\n",
    "        \"u_z\": func_uz,\n",
    "        \"u_w\": func_uw,\n",
    "    },\n",
    "    endogenous={\"x\": func_x, \"z\": func_z, \"y\": func_y, \"w\": func_w},\n",
    ")"
   ]
  },
  {
   "cell_type": "code",
   "execution_count": 128,
   "id": "8d17704a-805f-4d9a-bd84-744df887d85b",
   "metadata": {},
   "outputs": [
    {
     "data": {
      "image/png": "[encoded data removed]",
      "text/plain": [
       "<Figure size 432x288 with 1 Axes>"
      ]
     },
     "metadata": {},
     "output_type": "display_data"
    }
   ],
   "source": [
    "scm.get_causal_graph().draw()"
   ]
  },
  {
   "cell_type": "code",
   "execution_count": 129,
   "id": "198d29fd-0892-435c-a9a2-2c4d8647febf",
   "metadata": {},
   "outputs": [
    {
     "data": {
      "text/html": [
       "<div>\n",
       "<style scoped>\n",
       "    .dataframe tbody tr th:only-of-type {\n",
       "        vertical-align: middle;\n",
       "    }\n",
       "\n",
       "    .dataframe tbody tr th {\n",
       "        vertical-align: top;\n",
       "    }\n",
       "\n",
       "    .dataframe thead th {\n",
       "        text-align: right;\n",
       "    }\n",
       "</style>\n",
       "<table border=\"1\" class=\"dataframe\">\n",
       "  <thead>\n",
       "    <tr style=\"text-align: right;\">\n",
       "      <th></th>\n",
       "      <th>z</th>\n",
       "      <th>x</th>\n",
       "      <th>w</th>\n",
       "      <th>y</th>\n",
       "      <th>noise_var</th>\n",
       "    </tr>\n",
       "  </thead>\n",
       "  <tbody>\n",
       "    <tr>\n",
       "      <th>0</th>\n",
       "      <td>-0.870662</td>\n",
       "      <td>-1.510891</td>\n",
       "      <td>-0.259173</td>\n",
       "      <td>1.086722</td>\n",
       "      <td>-1.491922</td>\n",
       "    </tr>\n",
       "    <tr>\n",
       "      <th>1</th>\n",
       "      <td>-1.367793</td>\n",
       "      <td>-0.212123</td>\n",
       "      <td>0.648893</td>\n",
       "      <td>-0.697208</td>\n",
       "      <td>-0.225261</td>\n",
       "    </tr>\n",
       "    <tr>\n",
       "      <th>2</th>\n",
       "      <td>2.347410</td>\n",
       "      <td>0.595799</td>\n",
       "      <td>0.968497</td>\n",
       "      <td>-1.796433</td>\n",
       "      <td>0.310921</td>\n",
       "    </tr>\n",
       "    <tr>\n",
       "      <th>3</th>\n",
       "      <td>-0.466953</td>\n",
       "      <td>-0.806082</td>\n",
       "      <td>-0.060690</td>\n",
       "      <td>0.815521</td>\n",
       "      <td>0.487616</td>\n",
       "    </tr>\n",
       "    <tr>\n",
       "      <th>4</th>\n",
       "      <td>0.575858</td>\n",
       "      <td>0.846430</td>\n",
       "      <td>1.398979</td>\n",
       "      <td>-1.032127</td>\n",
       "      <td>0.770893</td>\n",
       "    </tr>\n",
       "  </tbody>\n",
       "</table>\n",
       "</div>"
      ],
      "text/plain": [
       "          z         x         w         y  noise_var\n",
       "0 -0.870662 -1.510891 -0.259173  1.086722  -1.491922\n",
       "1 -1.367793 -0.212123  0.648893 -0.697208  -0.225261\n",
       "2  2.347410  0.595799  0.968497 -1.796433   0.310921\n",
       "3 -0.466953 -0.806082 -0.060690  0.815521   0.487616\n",
       "4  0.575858  0.846430  1.398979 -1.032127   0.770893"
      ]
     },
     "metadata": {},
     "output_type": "display_data"
    }
   ],
   "source": [
    "n_samples = 1000\n",
    "df = scm.sample(n_samples, include_latents=False)\n",
    "df[\"noise_var\"] = rng.normal(size=(n_samples,))\n",
    "display(df.head())"
   ]
  },
  {
   "cell_type": "markdown",
   "id": "ec4fee6a-4f0f-4236-8897-5a646ad3ed79",
   "metadata": {},
   "source": [
    "## Try with Tigramite"
   ]
  },
  {
   "cell_type": "code",
   "execution_count": 125,
   "id": "7eb92c8c-23c2-425e-a84e-7cd91a568a54",
   "metadata": {},
   "outputs": [],
   "source": [
    "import tigramite\n",
    "from tigramite.independence_tests import CMIknn"
   ]
  },
  {
   "cell_type": "code",
   "execution_count": 73,
   "id": "3282f477-ce9c-421e-b5e4-8c41d56e1fac",
   "metadata": {},
   "outputs": [
    {
     "data": {
      "text/html": [
       "<div>\n",
       "<style scoped>\n",
       "    .dataframe tbody tr th:only-of-type {\n",
       "        vertical-align: middle;\n",
       "    }\n",
       "\n",
       "    .dataframe tbody tr th {\n",
       "        vertical-align: top;\n",
       "    }\n",
       "\n",
       "    .dataframe thead th {\n",
       "        text-align: right;\n",
       "    }\n",
       "</style>\n",
       "<table border=\"1\" class=\"dataframe\">\n",
       "  <thead>\n",
       "    <tr style=\"text-align: right;\">\n",
       "      <th></th>\n",
       "      <th>x</th>\n",
       "      <th>y</th>\n",
       "      <th>z</th>\n",
       "    </tr>\n",
       "  </thead>\n",
       "  <tbody>\n",
       "    <tr>\n",
       "      <th>0</th>\n",
       "      <td>-0.137732</td>\n",
       "      <td>1.599983</td>\n",
       "      <td>-0.739516</td>\n",
       "    </tr>\n",
       "    <tr>\n",
       "      <th>1</th>\n",
       "      <td>0.339274</td>\n",
       "      <td>-2.027234</td>\n",
       "      <td>-0.553149</td>\n",
       "    </tr>\n",
       "    <tr>\n",
       "      <th>2</th>\n",
       "      <td>0.372393</td>\n",
       "      <td>-0.032053</td>\n",
       "      <td>-0.511149</td>\n",
       "    </tr>\n",
       "    <tr>\n",
       "      <th>3</th>\n",
       "      <td>-2.003163</td>\n",
       "      <td>4.964599</td>\n",
       "      <td>-2.077740</td>\n",
       "    </tr>\n",
       "    <tr>\n",
       "      <th>4</th>\n",
       "      <td>0.000668</td>\n",
       "      <td>-0.446530</td>\n",
       "      <td>-0.099900</td>\n",
       "    </tr>\n",
       "  </tbody>\n",
       "</table>\n",
       "</div>"
      ],
      "text/plain": [
       "          x         y         z\n",
       "0 -0.137732  1.599983 -0.739516\n",
       "1  0.339274 -2.027234 -0.553149\n",
       "2  0.372393 -0.032053 -0.511149\n",
       "3 -2.003163  4.964599 -2.077740\n",
       "4  0.000668 -0.446530 -0.099900"
      ]
     },
     "metadata": {},
     "output_type": "display_data"
    }
   ],
   "source": [
    "df = df[[\"x\", \"y\", \"z\"]]\n",
    "display(df.head())"
   ]
  },
  {
   "cell_type": "code",
   "execution_count": 75,
   "id": "0e8d3ad4-8202-429f-a5b0-e7c2c7730299",
   "metadata": {},
   "outputs": [
    {
     "name": "stdout",
     "output_type": "stream",
     "text": [
      "(3, 1000)\n",
      "0.012280920379629912\n",
      "0.012\n"
     ]
    },
    {
     "data": {
      "text/plain": [
       "<seaborn.axisgrid.FacetGrid at 0x18af1eb50>"
      ]
     },
     "execution_count": 75,
     "metadata": {},
     "output_type": "execute_result"
    },
    {
     "data": {
      "image/png": "[encoded data removed]",
      "text/plain": [
       "<Figure size 360x360 with 1 Axes>"
      ]
     },
     "metadata": {
      "needs_background": "light"
     },
     "output_type": "display_data"
    }
   ],
   "source": [
    "cmi_est = CMIknn()\n",
    "\n",
    "arr = df.to_numpy().T\n",
    "dim, T = arr.shape\n",
    "print(arr.shape)\n",
    "xyz = np.array([0, 1, 2])\n",
    "val = cmi_est.get_dependence_measure(arr, xyz)\n",
    "print(val)\n",
    "\n",
    "# xyz = np.array([0, 1, -1])\n",
    "# val = cmi_est.get_dependence_measure(arr, xyz)\n",
    "# print(val)\n",
    "\n",
    "if cmi_est.knn < 1:\n",
    "    knn_here = max(1, int(cmi_est.knn * T))\n",
    "else:\n",
    "    knn_here = max(1, int(cmi_est.knn))\n",
    "\n",
    "# print(knn_here)\n",
    "\n",
    "k_xz, k_yz, k_z = cmi_est._get_nearest_neighbors(array=arr, xyz=xyz, knn=knn_here)\n",
    "\n",
    "pval, null_dist = cmi_est.get_shuffle_significance(arr, xyz, val, return_null_dist=True)\n",
    "\n",
    "print(pval)\n",
    "\n",
    "sns.displot(null_dist)"
   ]
  },
  {
   "cell_type": "markdown",
   "id": "efe67ac7-e368-4fc2-b3b5-00507c0fcc89",
   "metadata": {
    "tags": []
   },
   "source": [
    "## With Dodiscover"
   ]
  },
  {
   "cell_type": "code",
   "execution_count": 113,
   "id": "2b5d3973-b217-442d-940d-4952db6412b8",
   "metadata": {},
   "outputs": [],
   "source": [
    "cmi_est = CMITest(k=5, n_shuffle_nbrs=10)"
   ]
  },
  {
   "cell_type": "code",
   "execution_count": 109,
   "id": "67a97fce-6f32-4ccf-9e63-299a2e79d41a",
   "metadata": {},
   "outputs": [
    {
     "data": {
      "text/html": [
       "<div>\n",
       "<style scoped>\n",
       "    .dataframe tbody tr th:only-of-type {\n",
       "        vertical-align: middle;\n",
       "    }\n",
       "\n",
       "    .dataframe tbody tr th {\n",
       "        vertical-align: top;\n",
       "    }\n",
       "\n",
       "    .dataframe thead th {\n",
       "        text-align: right;\n",
       "    }\n",
       "</style>\n",
       "<table border=\"1\" class=\"dataframe\">\n",
       "  <thead>\n",
       "    <tr style=\"text-align: right;\">\n",
       "      <th></th>\n",
       "      <th>z</th>\n",
       "      <th>x</th>\n",
       "      <th>w</th>\n",
       "      <th>y</th>\n",
       "      <th>noise_var</th>\n",
       "    </tr>\n",
       "  </thead>\n",
       "  <tbody>\n",
       "    <tr>\n",
       "      <th>0</th>\n",
       "      <td>3744.0</td>\n",
       "      <td>3246.0</td>\n",
       "      <td>6185.0</td>\n",
       "      <td>1740.0</td>\n",
       "      <td>2393.0</td>\n",
       "    </tr>\n",
       "    <tr>\n",
       "      <th>1</th>\n",
       "      <td>6878.0</td>\n",
       "      <td>3738.0</td>\n",
       "      <td>663.0</td>\n",
       "      <td>635.0</td>\n",
       "      <td>4983.0</td>\n",
       "    </tr>\n",
       "    <tr>\n",
       "      <th>2</th>\n",
       "      <td>1024.0</td>\n",
       "      <td>7614.0</td>\n",
       "      <td>3934.0</td>\n",
       "      <td>199.0</td>\n",
       "      <td>4484.0</td>\n",
       "    </tr>\n",
       "    <tr>\n",
       "      <th>3</th>\n",
       "      <td>2366.0</td>\n",
       "      <td>7416.0</td>\n",
       "      <td>3936.0</td>\n",
       "      <td>3442.0</td>\n",
       "      <td>168.0</td>\n",
       "    </tr>\n",
       "    <tr>\n",
       "      <th>4</th>\n",
       "      <td>640.0</td>\n",
       "      <td>1390.0</td>\n",
       "      <td>9784.0</td>\n",
       "      <td>8208.0</td>\n",
       "      <td>2098.0</td>\n",
       "    </tr>\n",
       "  </tbody>\n",
       "</table>\n",
       "</div>"
      ],
      "text/plain": [
       "        z       x       w       y  noise_var\n",
       "0  3744.0  3246.0  6185.0  1740.0     2393.0\n",
       "1  6878.0  3738.0   663.0   635.0     4983.0\n",
       "2  1024.0  7614.0  3934.0   199.0     4484.0\n",
       "3  2366.0  7416.0  3936.0  3442.0      168.0\n",
       "4   640.0  1390.0  9784.0  8208.0     2098.0"
      ]
     },
     "metadata": {},
     "output_type": "display_data"
    }
   ],
   "source": [
    "data = df.copy()\n",
    "n_samples, n_dims = data.shape\n",
    "\n",
    "# add minor noise to make sure there are no ties\n",
    "random_noise = rng.random((n_samples, n_dims))\n",
    "data += 1e-6 * random_noise @ data.std(axis=0).to_numpy().reshape(n_dims, 1)\n",
    "# display(data.head())\n",
    "\n",
    "data = data.rank(axis=0) - 1\n",
    "display(data.head())"
   ]
  },
  {
   "cell_type": "code",
   "execution_count": 83,
   "id": "732f3953-724c-4aa9-a397-c38efe72a627",
   "metadata": {},
   "outputs": [],
   "source": [
    "do_k_xz, do_k_yz, do_k_z = cmi_est_._get_knn(data, \"x\", \"y\", set())"
   ]
  },
  {
   "cell_type": "code",
   "execution_count": 86,
   "id": "53921ac9-fd4c-4a1a-9603-6576a480de1a",
   "metadata": {
    "tags": []
   },
   "outputs": [],
   "source": [
    "# compute the significance of the CMI value\n",
    "null_dist = cmi_est._estimate_null_dist(data, \"x\", \"y\", {\"z\"})"
   ]
  },
  {
   "cell_type": "code",
   "execution_count": 85,
   "id": "8c49858f-68d9-4a18-be8e-3e4f55e018bc",
   "metadata": {},
   "outputs": [
    {
     "name": "stdout",
     "output_type": "stream",
     "text": [
      "0.17093462666360493\n"
     ]
    }
   ],
   "source": [
    "# compute the estimate of the CMI\n",
    "val = cmi_est._compute_cmi(data, \"x\", \"y\", {\"z\"})\n",
    "print(val)"
   ]
  },
  {
   "cell_type": "code",
   "execution_count": 87,
   "id": "762b7331-612a-4de3-a86c-e4235ecfd7dc",
   "metadata": {},
   "outputs": [
    {
     "name": "stdout",
     "output_type": "stream",
     "text": [
      "(1000,)\n",
      "0.17093462666360493 0.0\n"
     ]
    },
    {
     "data": {
      "image/png": "[encoded data removed]",
      "text/plain": [
       "<Figure size 360x360 with 1 Axes>"
      ]
     },
     "metadata": {
      "needs_background": "light"
     },
     "output_type": "display_data"
    }
   ],
   "source": [
    "sns.displot(null_dist)\n",
    "print(null_dist.shape)\n",
    "\n",
    "# compute pvalue\n",
    "pvalue = (null_dist >= val).mean()\n",
    "print(val, pvalue)"
   ]
  },
  {
   "cell_type": "code",
   "execution_count": 80,
   "id": "473b4653-44e2-49a4-b94d-217493c63fd2",
   "metadata": {},
   "outputs": [
    {
     "name": "stdout",
     "output_type": "stream",
     "text": [
      "-0.2295729466226798\n"
     ]
    }
   ],
   "source": [
    "print(null_dist.mean())"
   ]
  },
  {
   "cell_type": "code",
   "execution_count": 91,
   "id": "afc00cf4-e73b-4f66-a2e4-399ef4a3a014",
   "metadata": {},
   "outputs": [
    {
     "data": {
      "text/html": [
       "<div>\n",
       "<style scoped>\n",
       "    .dataframe tbody tr th:only-of-type {\n",
       "        vertical-align: middle;\n",
       "    }\n",
       "\n",
       "    .dataframe tbody tr th {\n",
       "        vertical-align: top;\n",
       "    }\n",
       "\n",
       "    .dataframe thead th {\n",
       "        text-align: right;\n",
       "    }\n",
       "</style>\n",
       "<table border=\"1\" class=\"dataframe\">\n",
       "  <thead>\n",
       "    <tr style=\"text-align: right;\">\n",
       "      <th></th>\n",
       "      <th>z</th>\n",
       "      <th>x</th>\n",
       "      <th>w</th>\n",
       "      <th>y</th>\n",
       "      <th>noise_var</th>\n",
       "    </tr>\n",
       "  </thead>\n",
       "  <tbody>\n",
       "    <tr>\n",
       "      <th>0</th>\n",
       "      <td>0.522139</td>\n",
       "      <td>0.277172</td>\n",
       "      <td>-1.124605</td>\n",
       "      <td>-1.847519</td>\n",
       "      <td>0.156594</td>\n",
       "    </tr>\n",
       "    <tr>\n",
       "      <th>1</th>\n",
       "      <td>-0.825979</td>\n",
       "      <td>-1.008133</td>\n",
       "      <td>2.804720</td>\n",
       "      <td>2.084343</td>\n",
       "      <td>0.341027</td>\n",
       "    </tr>\n",
       "    <tr>\n",
       "      <th>2</th>\n",
       "      <td>0.905372</td>\n",
       "      <td>-0.872308</td>\n",
       "      <td>-0.063357</td>\n",
       "      <td>1.101624</td>\n",
       "      <td>-1.057253</td>\n",
       "    </tr>\n",
       "    <tr>\n",
       "      <th>3</th>\n",
       "      <td>0.060266</td>\n",
       "      <td>-0.005724</td>\n",
       "      <td>-2.473517</td>\n",
       "      <td>-1.321829</td>\n",
       "      <td>1.118174</td>\n",
       "    </tr>\n",
       "    <tr>\n",
       "      <th>4</th>\n",
       "      <td>0.910959</td>\n",
       "      <td>0.587845</td>\n",
       "      <td>0.803030</td>\n",
       "      <td>-0.190115</td>\n",
       "      <td>1.986065</td>\n",
       "    </tr>\n",
       "  </tbody>\n",
       "</table>\n",
       "</div>"
      ],
      "text/plain": [
       "          z         x         w         y  noise_var\n",
       "0  0.522139  0.277172 -1.124605 -1.847519   0.156594\n",
       "1 -0.825979 -1.008133  2.804720  2.084343   0.341027\n",
       "2  0.905372 -0.872308 -0.063357  1.101624  -1.057253\n",
       "3  0.060266 -0.005724 -2.473517 -1.321829   1.118174\n",
       "4  0.910959  0.587845  0.803030 -0.190115   1.986065"
      ]
     },
     "metadata": {},
     "output_type": "display_data"
    }
   ],
   "source": [
    "data = df.copy()\n",
    "\n",
    "display(data.head())"
   ]
  },
  {
   "cell_type": "code",
   "execution_count": 131,
   "id": "41c2e761-aa65-4ba0-96fc-6a535236658a",
   "metadata": {},
   "outputs": [
    {
     "name": "stdout",
     "output_type": "stream",
     "text": [
      "CMI estimate for X \\perp Y | {}:  -3.2997395605681064\n",
      "CMI estimate for X \\perp Y | {z}:  -2.232316809700627\n",
      "CMI estimate for X \\perp Y | {w}:  -2.190066537208865\n",
      "CMI estimate for X \\perp Y | {noise_var}:  -2.2137675742773277\n",
      "CMI estimate for X \\perp Y | {w, z, noise_var}:  -0.01891241163725299\n"
     ]
    }
   ],
   "source": [
    "# compute the estimate of the CMI\n",
    "val = cmi_est._compute_cmi(data, \"x\", \"y\", set())\n",
    "print(r\"CMI estimate for X \\perp Y | {}: \", val)\n",
    "\n",
    "# compute the estimate of the CMI\n",
    "val = cmi_est._compute_cmi(data, \"x\", \"y\", {\"z\"})\n",
    "print(r\"CMI estimate for X \\perp Y | {z}: \", val)\n",
    "\n",
    "# compute the estimate of the CMI\n",
    "val = cmi_est._compute_cmi(data, \"x\", \"y\", {\"w\"})\n",
    "print(r\"CMI estimate for X \\perp Y | {w}: \", val)\n",
    "\n",
    "# compute the estimate of the CMI\n",
    "val = cmi_est._compute_cmi(data, \"x\", \"y\", {\"noise_var\"})\n",
    "print(r\"CMI estimate for X \\perp Y | {noise_var}: \", val)\n",
    "\n",
    "# compute the estimate of the CMI\n",
    "val = cmi_est._compute_cmi(data, \"x\", \"y\", {\"w\", \"noise_var\", \"z\"})\n",
    "print(r\"CMI estimate for X \\perp Y | {w, z, noise_var}: \", val)"
   ]
  },
  {
   "cell_type": "code",
   "execution_count": 130,
   "id": "24c2c289-2dc3-408c-85d7-5c7147faf3ce",
   "metadata": {},
   "outputs": [
    {
     "name": "stdout",
     "output_type": "stream",
     "text": [
      "CI estimate for X \\perp Y | {}:  0.00030317632384635473\n",
      "Ci estimate for X \\perp Y | {z}:  0.00014996543329592882\n",
      "Ci estimate for X \\perp Y | {w}:  0.38838419223141063\n",
      "Ci estimate for X \\perp Y | {noise_var}:  0.0002882658720682052\n",
      "Ci estimate for X \\perp Y | {w, z, noise_var}:  0.0001603625466857217\n"
     ]
    }
   ],
   "source": [
    "ci_est = \"fisherz\"\n",
    "ci_estimator = FisherZCITest()\n",
    "data = df.copy()\n",
    "\n",
    "# compute the estimate of the CMI\n",
    "_, val = ci_estimator.test(data, \"x\", \"y\", set())\n",
    "print(r\"CI estimate for X \\perp Y | {}: \", val)\n",
    "\n",
    "# compute the estimate of the CMI\n",
    "_, val = ci_estimator.test(data, \"x\", \"y\", {\"z\"})\n",
    "print(r\"Ci estimate for X \\perp Y | {z}: \", val)\n",
    "\n",
    "# compute the estimate of the CMI\n",
    "_, val = ci_estimator.test(data, \"x\", \"y\", {\"w\"})\n",
    "print(r\"Ci estimate for X \\perp Y | {w}: \", val)\n",
    "\n",
    "# compute the estimate of the CMI\n",
    "_, val = ci_estimator.test(data, \"x\", \"y\", {\"noise_var\"})\n",
    "print(r\"Ci estimate for X \\perp Y | {noise_var}: \", val)\n",
    "\n",
    "# compute the estimate of the CMI\n",
    "_, val = ci_estimator.test(data, \"x\", \"y\", {\"w\", \"noise_var\", \"z\"})\n",
    "print(r\"Ci estimate for X \\perp Y | {w, z, noise_var}: \", val)"
   ]
  },
  {
   "cell_type": "code",
   "execution_count": 20,
   "id": "f3138335-8a30-4257-a025-518c138ba67a",
   "metadata": {},
   "outputs": [
    {
     "data": {
      "text/html": [
       "<div>\n",
       "<style scoped>\n",
       "    .dataframe tbody tr th:only-of-type {\n",
       "        vertical-align: middle;\n",
       "    }\n",
       "\n",
       "    .dataframe tbody tr th {\n",
       "        vertical-align: top;\n",
       "    }\n",
       "\n",
       "    .dataframe thead th {\n",
       "        text-align: right;\n",
       "    }\n",
       "</style>\n",
       "<table border=\"1\" class=\"dataframe\">\n",
       "  <thead>\n",
       "    <tr style=\"text-align: right;\">\n",
       "      <th></th>\n",
       "      <th>z</th>\n",
       "      <th>x</th>\n",
       "      <th>w</th>\n",
       "      <th>y</th>\n",
       "      <th>noise_var</th>\n",
       "    </tr>\n",
       "  </thead>\n",
       "  <tbody>\n",
       "    <tr>\n",
       "      <th>0</th>\n",
       "      <td>-0.734725</td>\n",
       "      <td>0.889322</td>\n",
       "      <td>0.367746</td>\n",
       "      <td>1.856121</td>\n",
       "      <td>1.916435</td>\n",
       "    </tr>\n",
       "    <tr>\n",
       "      <th>1</th>\n",
       "      <td>2.309688</td>\n",
       "      <td>0.658690</td>\n",
       "      <td>0.644224</td>\n",
       "      <td>1.690991</td>\n",
       "      <td>-1.084692</td>\n",
       "    </tr>\n",
       "    <tr>\n",
       "      <th>2</th>\n",
       "      <td>1.667053</td>\n",
       "      <td>0.564517</td>\n",
       "      <td>0.825895</td>\n",
       "      <td>1.683689</td>\n",
       "      <td>-0.554238</td>\n",
       "    </tr>\n",
       "    <tr>\n",
       "      <th>3</th>\n",
       "      <td>0.557479</td>\n",
       "      <td>-0.196060</td>\n",
       "      <td>0.733319</td>\n",
       "      <td>-0.298586</td>\n",
       "      <td>-0.373313</td>\n",
       "    </tr>\n",
       "    <tr>\n",
       "      <th>4</th>\n",
       "      <td>-1.377411</td>\n",
       "      <td>-1.298313</td>\n",
       "      <td>0.738045</td>\n",
       "      <td>-2.287691</td>\n",
       "      <td>-0.218734</td>\n",
       "    </tr>\n",
       "  </tbody>\n",
       "</table>\n",
       "</div>"
      ],
      "text/plain": [
       "          z         x         w         y  noise_var\n",
       "0 -0.734725  0.889322  0.367746  1.856121   1.916435\n",
       "1  2.309688  0.658690  0.644224  1.690991  -1.084692\n",
       "2  1.667053  0.564517  0.825895  1.683689  -0.554238\n",
       "3  0.557479 -0.196060  0.733319 -0.298586  -0.373313\n",
       "4 -1.377411 -1.298313  0.738045 -2.287691  -0.218734"
      ]
     },
     "metadata": {},
     "output_type": "display_data"
    }
   ],
   "source": [
    "# preprocess the data\n",
    "df = cmi_est._preprocess_data(df)\n",
    "\n",
    "display(df.head())"
   ]
  },
  {
   "cell_type": "code",
   "execution_count": 18,
   "id": "4cdd2ab0-13e0-41d0-82fa-501fa7181ce4",
   "metadata": {},
   "outputs": [
    {
     "ename": "InvalidIndexError",
     "evalue": "('x', array([ 158., 3204., 3439., ..., 3561., 3356., 4999.]))",
     "output_type": "error",
     "traceback": [
      "\u001b[0;31m---------------------------------------------------------------------------\u001b[0m",
      "\u001b[0;31mTypeError\u001b[0m                                 Traceback (most recent call last)",
      "File \u001b[0;32m~/miniconda3/envs/causalx64_2/lib/python3.9/site-packages/pandas/core/indexes/base.py:3621\u001b[0m, in \u001b[0;36mIndex.get_loc\u001b[0;34m(self, key, method, tolerance)\u001b[0m\n\u001b[1;32m   3620\u001b[0m \u001b[38;5;28;01mtry\u001b[39;00m:\n\u001b[0;32m-> 3621\u001b[0m     \u001b[38;5;28;01mreturn\u001b[39;00m \u001b[38;5;28;43mself\u001b[39;49m\u001b[38;5;241;43m.\u001b[39;49m\u001b[43m_engine\u001b[49m\u001b[38;5;241;43m.\u001b[39;49m\u001b[43mget_loc\u001b[49m\u001b[43m(\u001b[49m\u001b[43mcasted_key\u001b[49m\u001b[43m)\u001b[49m\n\u001b[1;32m   3622\u001b[0m \u001b[38;5;28;01mexcept\u001b[39;00m \u001b[38;5;167;01mKeyError\u001b[39;00m \u001b[38;5;28;01mas\u001b[39;00m err:\n",
      "File \u001b[0;32m~/miniconda3/envs/causalx64_2/lib/python3.9/site-packages/pandas/_libs/index.pyx:136\u001b[0m, in \u001b[0;36mpandas._libs.index.IndexEngine.get_loc\u001b[0;34m()\u001b[0m\n",
      "File \u001b[0;32m~/miniconda3/envs/causalx64_2/lib/python3.9/site-packages/pandas/_libs/index.pyx:142\u001b[0m, in \u001b[0;36mpandas._libs.index.IndexEngine.get_loc\u001b[0;34m()\u001b[0m\n",
      "\u001b[0;31mTypeError\u001b[0m: '('x', array([ 158., 3204., 3439., ..., 3561., 3356., 4999.]))' is an invalid key",
      "\nDuring handling of the above exception, another exception occurred:\n",
      "\u001b[0;31mInvalidIndexError\u001b[0m                         Traceback (most recent call last)",
      "Input \u001b[0;32mIn [18]\u001b[0m, in \u001b[0;36m<cell line: 1>\u001b[0;34m()\u001b[0m\n\u001b[0;32m----> 1\u001b[0m \u001b[43mcmi_est\u001b[49m\u001b[38;5;241;43m.\u001b[39;49m\u001b[43mtest\u001b[49m\u001b[43m(\u001b[49m\u001b[43mdf\u001b[49m\u001b[43m,\u001b[49m\u001b[43m \u001b[49m\u001b[38;5;124;43m'\u001b[39;49m\u001b[38;5;124;43mx\u001b[39;49m\u001b[38;5;124;43m'\u001b[39;49m\u001b[43m,\u001b[49m\u001b[43m \u001b[49m\u001b[38;5;124;43m'\u001b[39;49m\u001b[38;5;124;43my\u001b[39;49m\u001b[38;5;124;43m'\u001b[39;49m\u001b[43m,\u001b[49m\u001b[43m \u001b[49m\u001b[43m{\u001b[49m\u001b[38;5;124;43m'\u001b[39;49m\u001b[38;5;124;43mz\u001b[39;49m\u001b[38;5;124;43m'\u001b[39;49m\u001b[43m}\u001b[49m\u001b[43m)\u001b[49m\n",
      "File \u001b[0;32m~/Documents/dodiscover/dodiscover/ci/cmi_test.py:84\u001b[0m, in \u001b[0;36mCMITest.test\u001b[0;34m(self, df, x_var, y_var, z_covariates)\u001b[0m\n\u001b[1;32m     81\u001b[0m val \u001b[38;5;241m=\u001b[39m \u001b[38;5;28mself\u001b[39m\u001b[38;5;241m.\u001b[39m_compute_cmi(df, x_var, y_var, z_covariates)\n\u001b[1;32m     83\u001b[0m \u001b[38;5;66;03m# compute the significance of the CMI value\u001b[39;00m\n\u001b[0;32m---> 84\u001b[0m null_dist \u001b[38;5;241m=\u001b[39m \u001b[38;5;28;43mself\u001b[39;49m\u001b[38;5;241;43m.\u001b[39;49m\u001b[43m_estimate_null_dist\u001b[49m\u001b[43m(\u001b[49m\u001b[43mdf\u001b[49m\u001b[43m,\u001b[49m\u001b[43m \u001b[49m\u001b[43mx_var\u001b[49m\u001b[43m,\u001b[49m\u001b[43m \u001b[49m\u001b[43my_var\u001b[49m\u001b[43m,\u001b[49m\u001b[43m \u001b[49m\u001b[43mz_covariates\u001b[49m\u001b[43m)\u001b[49m\n\u001b[1;32m     86\u001b[0m \u001b[38;5;66;03m# compute pvalue\u001b[39;00m\n\u001b[1;32m     87\u001b[0m pvalue \u001b[38;5;241m=\u001b[39m (null_dist \u001b[38;5;241m>\u001b[39m\u001b[38;5;241m=\u001b[39m val)\u001b[38;5;241m.\u001b[39mmean()\n",
      "File \u001b[0;32m~/Documents/dodiscover/dodiscover/ci/cmi_test.py:248\u001b[0m, in \u001b[0;36mCMITest._estimate_null_dist\u001b[0;34m(self, data, x_var, y_var, z_covariates)\u001b[0m\n\u001b[1;32m    244\u001b[0m restricted_permutation \u001b[38;5;241m=\u001b[39m _restricted_permutation(\n\u001b[1;32m    245\u001b[0m     nbrs, \u001b[38;5;28mself\u001b[39m\u001b[38;5;241m.\u001b[39mn_shuffle_nbrs, n_samples\u001b[38;5;241m=\u001b[39mn_samples, random_state\u001b[38;5;241m=\u001b[39m\u001b[38;5;28mself\u001b[39m\u001b[38;5;241m.\u001b[39mrandom_state)\n\u001b[1;32m    247\u001b[0m \u001b[38;5;66;03m# update the X variable column\u001b[39;00m\n\u001b[0;32m--> 248\u001b[0m data_copy[x_var, :] \u001b[38;5;241m=\u001b[39m \u001b[43mdata\u001b[49m\u001b[43m[\u001b[49m\u001b[43mx_var\u001b[49m\u001b[43m,\u001b[49m\u001b[43m \u001b[49m\u001b[43mrestricted_permutation\u001b[49m\u001b[43m]\u001b[49m\n\u001b[1;32m    250\u001b[0m \u001b[38;5;66;03m# compute the CMI on the shuffled array\u001b[39;00m\n\u001b[1;32m    251\u001b[0m null_dist[idx] \u001b[38;5;241m=\u001b[39m \u001b[38;5;28mself\u001b[39m\u001b[38;5;241m.\u001b[39m_compute_cmi(data_copy, x_var, y_var, z_covariates)\n",
      "File \u001b[0;32m~/miniconda3/envs/causalx64_2/lib/python3.9/site-packages/pandas/core/frame.py:3505\u001b[0m, in \u001b[0;36mDataFrame.__getitem__\u001b[0;34m(self, key)\u001b[0m\n\u001b[1;32m   3503\u001b[0m \u001b[38;5;28;01mif\u001b[39;00m \u001b[38;5;28mself\u001b[39m\u001b[38;5;241m.\u001b[39mcolumns\u001b[38;5;241m.\u001b[39mnlevels \u001b[38;5;241m>\u001b[39m \u001b[38;5;241m1\u001b[39m:\n\u001b[1;32m   3504\u001b[0m     \u001b[38;5;28;01mreturn\u001b[39;00m \u001b[38;5;28mself\u001b[39m\u001b[38;5;241m.\u001b[39m_getitem_multilevel(key)\n\u001b[0;32m-> 3505\u001b[0m indexer \u001b[38;5;241m=\u001b[39m \u001b[38;5;28;43mself\u001b[39;49m\u001b[38;5;241;43m.\u001b[39;49m\u001b[43mcolumns\u001b[49m\u001b[38;5;241;43m.\u001b[39;49m\u001b[43mget_loc\u001b[49m\u001b[43m(\u001b[49m\u001b[43mkey\u001b[49m\u001b[43m)\u001b[49m\n\u001b[1;32m   3506\u001b[0m \u001b[38;5;28;01mif\u001b[39;00m is_integer(indexer):\n\u001b[1;32m   3507\u001b[0m     indexer \u001b[38;5;241m=\u001b[39m [indexer]\n",
      "File \u001b[0;32m~/miniconda3/envs/causalx64_2/lib/python3.9/site-packages/pandas/core/indexes/base.py:3628\u001b[0m, in \u001b[0;36mIndex.get_loc\u001b[0;34m(self, key, method, tolerance)\u001b[0m\n\u001b[1;32m   3623\u001b[0m         \u001b[38;5;28;01mraise\u001b[39;00m \u001b[38;5;167;01mKeyError\u001b[39;00m(key) \u001b[38;5;28;01mfrom\u001b[39;00m \u001b[38;5;21;01merr\u001b[39;00m\n\u001b[1;32m   3624\u001b[0m     \u001b[38;5;28;01mexcept\u001b[39;00m \u001b[38;5;167;01mTypeError\u001b[39;00m:\n\u001b[1;32m   3625\u001b[0m         \u001b[38;5;66;03m# If we have a listlike key, _check_indexing_error will raise\u001b[39;00m\n\u001b[1;32m   3626\u001b[0m         \u001b[38;5;66;03m#  InvalidIndexError. Otherwise we fall through and re-raise\u001b[39;00m\n\u001b[1;32m   3627\u001b[0m         \u001b[38;5;66;03m#  the TypeError.\u001b[39;00m\n\u001b[0;32m-> 3628\u001b[0m         \u001b[38;5;28;43mself\u001b[39;49m\u001b[38;5;241;43m.\u001b[39;49m\u001b[43m_check_indexing_error\u001b[49m\u001b[43m(\u001b[49m\u001b[43mkey\u001b[49m\u001b[43m)\u001b[49m\n\u001b[1;32m   3629\u001b[0m         \u001b[38;5;28;01mraise\u001b[39;00m\n\u001b[1;32m   3631\u001b[0m \u001b[38;5;66;03m# GH#42269\u001b[39;00m\n",
      "File \u001b[0;32m~/miniconda3/envs/causalx64_2/lib/python3.9/site-packages/pandas/core/indexes/base.py:5637\u001b[0m, in \u001b[0;36mIndex._check_indexing_error\u001b[0;34m(self, key)\u001b[0m\n\u001b[1;32m   5633\u001b[0m \u001b[38;5;28;01mdef\u001b[39;00m \u001b[38;5;21m_check_indexing_error\u001b[39m(\u001b[38;5;28mself\u001b[39m, key):\n\u001b[1;32m   5634\u001b[0m     \u001b[38;5;28;01mif\u001b[39;00m \u001b[38;5;129;01mnot\u001b[39;00m is_scalar(key):\n\u001b[1;32m   5635\u001b[0m         \u001b[38;5;66;03m# if key is not a scalar, directly raise an error (the code below\u001b[39;00m\n\u001b[1;32m   5636\u001b[0m         \u001b[38;5;66;03m# would convert to numpy arrays and raise later any way) - GH29926\u001b[39;00m\n\u001b[0;32m-> 5637\u001b[0m         \u001b[38;5;28;01mraise\u001b[39;00m InvalidIndexError(key)\n",
      "\u001b[0;31mInvalidIndexError\u001b[0m: ('x', array([ 158., 3204., 3439., ..., 3561., 3356., 4999.]))"
     ]
    }
   ],
   "source": [
    "cmi_est.test(df, 'x', 'y', {'z'})"
   ]
  },
  {
   "cell_type": "code",
   "execution_count": null,
   "id": "da590a41-da9e-400f-bb16-ca38e2df5049",
   "metadata": {},
   "outputs": [],
   "source": []
  }
 ],
 "metadata": {
  "kernelspec": {
   "display_name": "causalx64_2",
   "language": "python",
   "name": "causalx64_2"
  },
  "language_info": {
   "codemirror_mode": {
    "name": "ipython",
    "version": 3
   },
   "file_extension": ".py",
   "mimetype": "text/x-python",
   "name": "python",
   "nbconvert_exporter": "python",
   "pygments_lexer": "ipython3",
   "version": "3.9.13"
  }
 },
 "nbformat": 4,
 "nbformat_minor": 5
}
