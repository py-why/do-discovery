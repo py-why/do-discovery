{
 "cells": [
  {
   "cell_type": "markdown",
   "id": "3e91e320",
   "metadata": {},
   "source": [
    "# PC algorithm for causal discovery from observational data without latent confounders\n",
    "\n",
    "In this tutorial, we will demonstrate how to use the PC algorithm to learn a causal graph structure.\n",
    "\n",
    "The PC algorithm works on observational data when there are no unobserved latent confounders."
   ]
  },
  {
   "cell_type": "code",
   "execution_count": 1,
   "id": "95e12b39",
   "metadata": {},
   "outputs": [],
   "source": [
    "import numpy as np\n",
    "import networkx as nx\n",
    "from scipy import stats\n",
    "from pywhy_graphs import CPDAG\n",
    "from pywhy_graphs.viz import draw\n",
    "from dodiscover.ci import GSquareCITest, Oracle\n",
    "from dodiscover import PC, make_context\n",
    "import pandas as pd\n",
    "\n",
    "from dodiscover.metrics import structure_hamming_dist"
   ]
  },
  {
   "cell_type": "code",
   "execution_count": 2,
   "id": "e77e7416",
   "metadata": {},
   "outputs": [],
   "source": [
    "data = pd.read_csv(\"data/asia.csv\")"
   ]
  },
  {
   "cell_type": "markdown",
   "id": "84323abd",
   "metadata": {},
   "source": [
    "We'll use the PC algorithm to infer the ASIA network.  The ASIA network is a case study of an expert system for diagnosing lung disease from Lauritzen and Spiegelhalter (1988).  Given respiratory symptions and other evidence, the goal is to distinquish between tuberculosis, lung cancer or bronchitis in a given patient.  The ground truth causal DAG is as follows:\n",
    "\n",
    "![asia](figures/asia.png)\n",
    "\n",
    "The variables in the DAG have the following interpretation:\n",
    "\n",
    "* T: Whether or not the patient has **tuberculosis**.\n",
    "* L: Whether or not the patient has **lung cancer**.\n",
    "* B: Whether or not the patient has **bronchitis**.\n",
    "* A: Whether or not the patient has recently visited **Asia**.\n",
    "* S: Whether or not the patient is a **smoker**.\n",
    "* E: An indicator of whether the patient has either lung cancer or tuberculosis (or both).\n",
    "* X: Whether or not a chest X-ray shows evidence of tuberculosis or lung cancer.\n",
    "* D: Whether or not the patient has **dyspnoea** (difficulty breathing).\n",
    "\n",
    "Note we have three kinds of variables, diseases (B, L, T, and E which indicates one or more diseases), symptoms (X and D), and behaviors (S and A).  The goal of the model is to use symptoms and behaviors to diagnose (i.e. infer) diseases.  Further, note that diseases are causes of symptoms, and are effects of behaviors."
   ]
  },
  {
   "cell_type": "markdown",
   "id": "e5620376",
   "metadata": {},
   "source": [
    "Our goal is to discover this graph structure from observational data.  To this end, we'll use the dodiscover implemention of the PC algorithm.  First, we'll implement the ground truth graph."
   ]
  },
  {
   "cell_type": "code",
   "execution_count": 3,
   "id": "33fa1389",
   "metadata": {},
   "outputs": [],
   "source": [
    "ground_truth_edges = [\n",
    "        (\"A\", \"T\"),\n",
    "        (\"T\", \"E\"),\n",
    "        (\"L\", \"E\"),\n",
    "        (\"S\", \"L\"),\n",
    "        (\"S\", \"B\"),\n",
    "        (\"B\", \"D\"),\n",
    "        (\"E\", \"D\"),\n",
    "        (\"E\", \"X\")\n",
    "    ]\n",
    "\n",
    "ground_truth = nx.DiGraph(ground_truth_edges)"
   ]
  },
  {
   "cell_type": "markdown",
   "id": "b769b7f1",
   "metadata": {},
   "source": [
    "This is the ground truth, but ground truth is not learnable from observational data alone.  We can only learn a CPDAG (complete partially directed acyclic graph), which has a mixture of directed and undirected graph.  The undirected edges are edges where we cannot learn causal direction from observations alone.\n",
    "\n",
    "In technical terms, the CPDAG represents an equivalence class of DAGs. In other words, the CPDAG represents all the DAGs that we could create by orienting the undirected edges (except for those DAGs that would introduce new colliders), because each of those DAGs are equally probable given the data. "
   ]
  },
  {
   "cell_type": "code",
   "execution_count": 4,
   "id": "30a29f1d",
   "metadata": {},
   "outputs": [],
   "source": [
    "cpdag_directed = [\n",
    "        (\"T\", \"E\"),\n",
    "        (\"L\", \"E\"),\n",
    "        (\"B\", \"D\"),\n",
    "        (\"E\", \"D\"),\n",
    "        (\"E\", \"X\")\n",
    "    ]\n",
    "\n",
    "cpdag_undirected = [\n",
    "        (\"A\", \"T\"),\n",
    "        (\"S\", \"L\"),\n",
    "        (\"S\", \"B\"),\n",
    "    ]\n",
    "\n",
    "ground_truth_cpdag = CPDAG(cpdag_directed, cpdag_undirected)"
   ]
  },
  {
   "cell_type": "markdown",
   "id": "5a9d2aae",
   "metadata": {},
   "source": [
    "## Instantiate some conditional independence tests\n",
    "\n",
    "The PC algorithm is a constraint-based causal discovery algorithm, which means it uses statistical constraints induced by causal relationships to learn those causal relationships.  The most commonly used constraint is conditional independence.  Constraint-based algorithms run a series of statistical tests for conditional independence (CI) and construct a graph consistent with those assumptions.\n",
    "\n",
    "So we need a way to test for CI constraints. There are various options for tests. If we are applying the algorithm on real data, we would want to use the CI test that best suits the data. \n",
    "\n",
    "If we are interested in evaluating how the discovery algorithm works in an ideal setting, we can use an oracle, which is imbued with the ground-truth graph, which can query all the d-separation statements needed. This can help one determine in a simulation setting, what is the best case graph the PC algorithm can learn.\n",
    "\n",
    "**Warnings about statistical tests for independence**. \n",
    "* Note that because of finite sample sizes, any CI test will sometimes make erroneous conclusions.  Errors results in incorrect orientations and edges in the learned graph.  Further, constraint-based algorithms run multiple tests in sequence, which causes those errors to accumulate.  One might use adjustments for multiple comparisons to compensate.\n",
    "* The standard statistical test has a null and alternative hypothesis.  The alternative hypothesis should be the hypothesis that the thing one is looking for is present, while the null hypothesis is that thing is not present.  In causal discovery, the thing we are looking for is causal structure, and conditional independence is evidence of causal structure. So arguably, the alternative hypothesis should be the hypothesis of conditional independence. However, most CI test implementations take the hypothesis of independence as the null hypothesis.\n",
    "*  The p-value decreases with the size of the data.  So the more data is provided, the more likely the test will favor dependence.  For large data sizes, use smaller significance thresholds.\n",
    "\n",
    "For these reasons, the user should view the results of the CI test more as a heuristic than a rigorous statistical test. "
   ]
  },
  {
   "cell_type": "code",
   "execution_count": 5,
   "id": "902d126f",
   "metadata": {},
   "outputs": [],
   "source": [
    "oracle = Oracle(ground_truth)\n"
   ]
  },
  {
   "cell_type": "markdown",
   "id": "591c00cf",
   "metadata": {},
   "source": [
    "## Define the context\n",
    "\n",
    "A common anti-pattern in causal discovery is encouraging the user to see the discovery algorithm as a philosopher's stone that converts data to causal relationships.  In other words, discovery libraries tend to encourage users tend to surrender the task of providing domain-specific assumptions that enable identifiability to the algorithm. PyWhy's key strength is how it guides users to specifying domain assumptions up front (in the form of a DAG) before the data is added, and then addresses identifiability given those assumptions and data. \n",
    "\n",
    "To this end, we introduce the `context.Context` class, where users provide data as the primary input to a discovery algorithm. The Context class houses both data, a priori assumptions and other relevant data that may be used in downstream structure learning algorithms.\n",
    "\n",
    "In this example, we'll use the context object to specify some fixed edges in the graph."
   ]
  },
  {
   "cell_type": "code",
   "execution_count": 6,
   "id": "89a4f0af",
   "metadata": {},
   "outputs": [],
   "source": [
    "context = make_context().variables(data=data).build()"
   ]
  },
  {
   "cell_type": "markdown",
   "id": "efcf01c7",
   "metadata": {},
   "source": [
    "## Run discovery algorithm\n",
    "\n",
    "Now we are ready to run the PC algorithm. First, we will show the output of the oracle, which is the best case scenario the PC algorithm can learn given an infinite amount of data."
   ]
  },
  {
   "cell_type": "code",
   "execution_count": 7,
   "id": "e5cba859",
   "metadata": {},
   "outputs": [],
   "source": [
    "pc = PC(ci_estimator=oracle)\n",
    "pc.fit(data, context)\n",
    "\n"
   ]
  },
  {
   "cell_type": "markdown",
   "id": "ff7ebc10",
   "metadata": {},
   "source": [
    "The resulting completely partially directed acyclic graph (CPDAG) that is learned is a \"Markov equivalence class\", which encodes all the conditional dependences that were learned from the data."
   ]
  },
  {
   "cell_type": "code",
   "execution_count": 8,
   "id": "918c6f5f",
   "metadata": {},
   "outputs": [
    {
     "data": {
      "image/svg+xml": "<?xml version=\"1.0\" encoding=\"UTF-8\" standalone=\"no\"?>\n<!DOCTYPE svg PUBLIC \"-//W3C//DTD SVG 1.1//EN\"\n \"http://www.w3.org/Graphics/SVG/1.1/DTD/svg11.dtd\">\n<!-- Generated by graphviz version 7.0.0 (20221023.0053)\n -->\n<!-- Pages: 1 -->\n<svg width=\"303pt\" height=\"188pt\"\n viewBox=\"0.00 0.00 303.35 188.00\" xmlns=\"http://www.w3.org/2000/svg\" xmlns:xlink=\"http://www.w3.org/1999/xlink\">\n<g id=\"graph0\" class=\"graph\" transform=\"scale(1 1) rotate(0) translate(4 184)\">\n<polygon fill=\"white\" stroke=\"none\" points=\"-4,4 -4,-184 299.35,-184 299.35,4 -4,4\"/>\n<!-- T -->\n<g id=\"node1\" class=\"node\">\n<title>T</title>\n<polygon fill=\"none\" stroke=\"black\" points=\"77.35,-180 41.35,-180 41.35,-144 77.35,-144 77.35,-180\"/>\n<text text-anchor=\"middle\" x=\"59.35\" y=\"-158.3\" font-family=\"Times,serif\" font-size=\"14.00\">T</text>\n</g>\n<!-- X -->\n<g id=\"node2\" class=\"node\">\n<title>X</title>\n<polygon fill=\"none\" stroke=\"black\" points=\"104.35,-36 68.35,-36 68.35,0 104.35,0 104.35,-36\"/>\n<text text-anchor=\"middle\" x=\"86.35\" y=\"-14.3\" font-family=\"Times,serif\" font-size=\"14.00\">X</text>\n</g>\n<!-- T&#45;&gt;X -->\n<g id=\"edge3\" class=\"edge\">\n<title>T&#45;&gt;X</title>\n<path fill=\"none\" stroke=\"blue\" d=\"M41.06,-149.06C28.4,-139.63 12.57,-125.2 5.35,-108 -0.84,-93.25 -2.26,-86.07 5.35,-72 16.33,-51.71 38.83,-37.94 57.33,-29.53\"/>\n<polygon fill=\"blue\" stroke=\"blue\" points=\"58.66,-32.77 66.53,-25.67 55.95,-26.31 58.66,-32.77\"/>\n</g>\n<!-- E -->\n<g id=\"node4\" class=\"node\">\n<title>E</title>\n<polygon fill=\"none\" stroke=\"black\" points=\"104.35,-108 68.35,-108 68.35,-72 104.35,-72 104.35,-108\"/>\n<text text-anchor=\"middle\" x=\"86.35\" y=\"-86.3\" font-family=\"Times,serif\" font-size=\"14.00\">E</text>\n</g>\n<!-- T&#45;&gt;E -->\n<g id=\"edge5\" class=\"edge\">\n<title>T&#45;&gt;E</title>\n<path fill=\"none\" stroke=\"blue\" d=\"M66.03,-143.7C68.94,-136.15 72.42,-127.12 75.68,-118.68\"/>\n<polygon fill=\"blue\" stroke=\"blue\" points=\"78.88,-120.11 79.21,-109.52 72.35,-117.59 78.88,-120.11\"/>\n</g>\n<!-- D -->\n<g id=\"node6\" class=\"node\">\n<title>D</title>\n<polygon fill=\"none\" stroke=\"black\" points=\"192.35,-36 156.35,-36 156.35,0 192.35,0 192.35,-36\"/>\n<text text-anchor=\"middle\" x=\"174.35\" y=\"-14.3\" font-family=\"Times,serif\" font-size=\"14.00\">D</text>\n</g>\n<!-- T&#45;&gt;D -->\n<g id=\"edge7\" class=\"edge\">\n<title>T&#45;&gt;D</title>\n<path fill=\"none\" stroke=\"blue\" d=\"M77.75,-144.63C88.63,-134.55 102.38,-121.09 113.35,-108 129.83,-88.35 146.13,-64.27 157.73,-46.11\"/>\n<polygon fill=\"blue\" stroke=\"blue\" points=\"160.64,-48.05 163.01,-37.72 154.72,-44.32 160.64,-48.05\"/>\n</g>\n<!-- A -->\n<g id=\"node8\" class=\"node\">\n<title>A</title>\n<polygon fill=\"none\" stroke=\"black\" points=\"50.35,-108 14.35,-108 14.35,-72 50.35,-72 50.35,-108\"/>\n<text text-anchor=\"middle\" x=\"32.35\" y=\"-86.3\" font-family=\"Times,serif\" font-size=\"14.00\">A</text>\n</g>\n<!-- T&#45;&gt;A -->\n<g id=\"edge10\" class=\"edge\">\n<title>T&#45;&gt;A</title>\n<path fill=\"none\" stroke=\"brown\" d=\"M52.68,-143.7C48.49,-132.85 43.12,-118.92 38.95,-108.1\"/>\n</g>\n<!-- L -->\n<g id=\"node3\" class=\"node\">\n<title>L</title>\n<polygon fill=\"none\" stroke=\"black\" points=\"207.35,-180 171.35,-180 171.35,-144 207.35,-144 207.35,-180\"/>\n<text text-anchor=\"middle\" x=\"189.35\" y=\"-158.3\" font-family=\"Times,serif\" font-size=\"14.00\">L</text>\n</g>\n<!-- L&#45;&gt;X -->\n<g id=\"edge1\" class=\"edge\">\n<title>L&#45;&gt;X</title>\n<path fill=\"none\" stroke=\"blue\" d=\"M176.72,-143.59C158.87,-118.97 126.1,-73.8 105.32,-45.14\"/>\n<polygon fill=\"blue\" stroke=\"blue\" points=\"108.36,-43.38 99.65,-37.34 102.69,-47.49 108.36,-43.38\"/>\n</g>\n<!-- L&#45;&gt;E -->\n<g id=\"edge4\" class=\"edge\">\n<title>L&#45;&gt;E</title>\n<path fill=\"none\" stroke=\"blue\" d=\"M170.94,-148.49C155.12,-137.73 132.08,-122.08 114.04,-109.82\"/>\n<polygon fill=\"blue\" stroke=\"blue\" points=\"116.1,-106.98 105.86,-104.26 112.16,-112.77 116.1,-106.98\"/>\n</g>\n<!-- L&#45;&gt;D -->\n<g id=\"edge6\" class=\"edge\">\n<title>L&#45;&gt;D</title>\n<path fill=\"none\" stroke=\"blue\" d=\"M189.04,-143.55C188.57,-125.56 187.37,-96.73 184.35,-72 183.36,-63.88 181.89,-55.13 180.37,-47.13\"/>\n<polygon fill=\"blue\" stroke=\"blue\" points=\"183.85,-46.7 178.46,-37.58 176.99,-48.07 183.85,-46.7\"/>\n</g>\n<!-- S -->\n<g id=\"node7\" class=\"node\">\n<title>S</title>\n<polygon fill=\"none\" stroke=\"black\" points=\"272.35,-108 236.35,-108 236.35,-72 272.35,-72 272.35,-108\"/>\n<text text-anchor=\"middle\" x=\"254.35\" y=\"-86.3\" font-family=\"Times,serif\" font-size=\"14.00\">S</text>\n</g>\n<!-- L&#45;&gt;S -->\n<g id=\"edge11\" class=\"edge\">\n<title>L&#45;&gt;S</title>\n<path fill=\"none\" stroke=\"brown\" d=\"M205.42,-143.7C215.5,-132.85 228.43,-118.92 238.47,-108.1\"/>\n</g>\n<!-- E&#45;&gt;X -->\n<g id=\"edge2\" class=\"edge\">\n<title>E&#45;&gt;X</title>\n<path fill=\"none\" stroke=\"blue\" d=\"M86.35,-71.7C86.35,-64.41 86.35,-55.73 86.35,-47.54\"/>\n<polygon fill=\"blue\" stroke=\"blue\" points=\"89.85,-47.62 86.35,-37.62 82.85,-47.62 89.85,-47.62\"/>\n</g>\n<!-- E&#45;&gt;D -->\n<g id=\"edge8\" class=\"edge\">\n<title>E&#45;&gt;D</title>\n<path fill=\"none\" stroke=\"blue\" d=\"M104.59,-74.5C116.98,-64.64 133.57,-51.44 147.47,-40.38\"/>\n<polygon fill=\"blue\" stroke=\"blue\" points=\"149.31,-43.39 154.96,-34.43 144.95,-37.91 149.31,-43.39\"/>\n</g>\n<!-- B -->\n<g id=\"node5\" class=\"node\">\n<title>B</title>\n<polygon fill=\"none\" stroke=\"black\" points=\"295.35,-180 259.35,-180 259.35,-144 295.35,-144 295.35,-180\"/>\n<text text-anchor=\"middle\" x=\"277.35\" y=\"-158.3\" font-family=\"Times,serif\" font-size=\"14.00\">B</text>\n</g>\n<!-- B&#45;&gt;D -->\n<g id=\"edge9\" class=\"edge\">\n<title>B&#45;&gt;D</title>\n<path fill=\"none\" stroke=\"blue\" d=\"M283.51,-143.82C289.19,-124.76 294.89,-93.82 281.35,-72 264.48,-44.81 229.05,-31.14 203.58,-24.57\"/>\n<polygon fill=\"blue\" stroke=\"blue\" points=\"204.69,-21.24 194.15,-22.37 203.1,-28.05 204.69,-21.24\"/>\n</g>\n<!-- B&#45;&gt;S -->\n<g id=\"edge12\" class=\"edge\">\n<title>B&#45;&gt;S</title>\n<path fill=\"none\" stroke=\"brown\" d=\"M271.67,-143.7C268.1,-132.85 263.53,-118.92 259.97,-108.1\"/>\n</g>\n</g>\n</svg>\n",
      "text/plain": [
       "<graphviz.graphs.Digraph at 0x1076a65f0>"
      ]
     },
     "execution_count": 8,
     "metadata": {},
     "output_type": "execute_result"
    }
   ],
   "source": [
    "graph = pc.graph_\n",
    "draw(graph)"
   ]
  },
  {
   "cell_type": "markdown",
   "id": "162d98be",
   "metadata": {},
   "source": [
    "Compare this against the ground truth CPDAG."
   ]
  },
  {
   "cell_type": "code",
   "execution_count": 9,
   "id": "67d47367",
   "metadata": {},
   "outputs": [
    {
     "data": {
      "image/svg+xml": "<?xml version=\"1.0\" encoding=\"UTF-8\" standalone=\"no\"?>\n<!DOCTYPE svg PUBLIC \"-//W3C//DTD SVG 1.1//EN\"\n \"http://www.w3.org/Graphics/SVG/1.1/DTD/svg11.dtd\">\n<!-- Generated by graphviz version 7.0.0 (20221023.0053)\n -->\n<!-- Pages: 1 -->\n<svg width=\"221pt\" height=\"260pt\"\n viewBox=\"0.00 0.00 220.63 260.00\" xmlns=\"http://www.w3.org/2000/svg\" xmlns:xlink=\"http://www.w3.org/1999/xlink\">\n<g id=\"graph0\" class=\"graph\" transform=\"scale(1 1) rotate(0) translate(4 256)\">\n<polygon fill=\"white\" stroke=\"none\" points=\"-4,4 -4,-256 216.63,-256 216.63,4 -4,4\"/>\n<!-- T -->\n<g id=\"node1\" class=\"node\">\n<title>T</title>\n<polygon fill=\"none\" stroke=\"black\" points=\"212,-180 176,-180 176,-144 212,-144 212,-180\"/>\n<text text-anchor=\"middle\" x=\"194\" y=\"-158.3\" font-family=\"Times,serif\" font-size=\"14.00\">T</text>\n</g>\n<!-- E -->\n<g id=\"node2\" class=\"node\">\n<title>E</title>\n<polygon fill=\"none\" stroke=\"black\" points=\"128,-108 92,-108 92,-72 128,-72 128,-108\"/>\n<text text-anchor=\"middle\" x=\"110\" y=\"-86.3\" font-family=\"Times,serif\" font-size=\"14.00\">E</text>\n</g>\n<!-- T&#45;&gt;E -->\n<g id=\"edge2\" class=\"edge\">\n<title>T&#45;&gt;E</title>\n<path fill=\"none\" stroke=\"blue\" d=\"M175.77,-145.81C164.51,-136.43 149.85,-124.21 137.23,-113.69\"/>\n<polygon fill=\"blue\" stroke=\"blue\" points=\"139.57,-111.08 129.64,-107.37 135.09,-116.46 139.57,-111.08\"/>\n</g>\n<!-- D -->\n<g id=\"node5\" class=\"node\">\n<title>D</title>\n<polygon fill=\"none\" stroke=\"black\" points=\"101,-36 65,-36 65,0 101,0 101,-36\"/>\n<text text-anchor=\"middle\" x=\"83\" y=\"-14.3\" font-family=\"Times,serif\" font-size=\"14.00\">D</text>\n</g>\n<!-- T&#45;&gt;D -->\n<g id=\"edge4\" class=\"edge\">\n<title>T&#45;&gt;D</title>\n<path fill=\"none\" stroke=\"blue\" d=\"M184.56,-143.83C174.03,-125.31 155.97,-95.36 137,-72 128.69,-61.77 118.61,-51.43 109.41,-42.62\"/>\n<polygon fill=\"blue\" stroke=\"blue\" points=\"112.09,-40.33 102.4,-36.05 107.3,-45.44 112.09,-40.33\"/>\n</g>\n<!-- X -->\n<g id=\"node6\" class=\"node\">\n<title>X</title>\n<polygon fill=\"none\" stroke=\"black\" points=\"174,-36 138,-36 138,0 174,0 174,-36\"/>\n<text text-anchor=\"middle\" x=\"156\" y=\"-14.3\" font-family=\"Times,serif\" font-size=\"14.00\">X</text>\n</g>\n<!-- T&#45;&gt;X -->\n<g id=\"edge9\" class=\"edge\">\n<title>T&#45;&gt;X</title>\n<path fill=\"none\" stroke=\"blue\" d=\"M202.02,-143.64C209.33,-125.23 217.64,-95.6 208,-72 202.81,-59.3 192.95,-48 183.2,-39.13\"/>\n<polygon fill=\"blue\" stroke=\"blue\" points=\"185.46,-36.46 175.57,-32.68 180.94,-41.81 185.46,-36.46\"/>\n</g>\n<!-- E&#45;&gt;D -->\n<g id=\"edge5\" class=\"edge\">\n<title>E&#45;&gt;D</title>\n<path fill=\"none\" stroke=\"blue\" d=\"M103.33,-71.7C100.42,-64.15 96.93,-55.12 93.68,-46.68\"/>\n<polygon fill=\"blue\" stroke=\"blue\" points=\"97.01,-45.59 90.14,-37.52 90.48,-48.11 97.01,-45.59\"/>\n</g>\n<!-- E&#45;&gt;X -->\n<g id=\"edge8\" class=\"edge\">\n<title>E&#45;&gt;X</title>\n<path fill=\"none\" stroke=\"blue\" d=\"M121.37,-71.7C126.55,-63.81 132.8,-54.3 138.56,-45.55\"/>\n<polygon fill=\"blue\" stroke=\"blue\" points=\"141.36,-47.65 143.93,-37.37 135.51,-43.8 141.36,-47.65\"/>\n</g>\n<!-- L -->\n<g id=\"node3\" class=\"node\">\n<title>L</title>\n<polygon fill=\"none\" stroke=\"black\" points=\"117,-180 81,-180 81,-144 117,-144 117,-180\"/>\n<text text-anchor=\"middle\" x=\"99\" y=\"-158.3\" font-family=\"Times,serif\" font-size=\"14.00\">L</text>\n</g>\n<!-- L&#45;&gt;E -->\n<g id=\"edge1\" class=\"edge\">\n<title>L&#45;&gt;E</title>\n<path fill=\"none\" stroke=\"blue\" d=\"M101.72,-143.7C102.88,-136.32 104.26,-127.52 105.56,-119.25\"/>\n<polygon fill=\"blue\" stroke=\"blue\" points=\"108.98,-120.02 107.08,-109.6 102.07,-118.93 108.98,-120.02\"/>\n</g>\n<!-- L&#45;&gt;D -->\n<g id=\"edge3\" class=\"edge\">\n<title>L&#45;&gt;D</title>\n<path fill=\"none\" stroke=\"blue\" d=\"M92.35,-143.63C88.8,-133.42 84.8,-120.17 83,-108 80.04,-87.98 80.11,-65.14 80.89,-47.62\"/>\n<polygon fill=\"blue\" stroke=\"blue\" points=\"84.38,-47.86 81.44,-37.68 77.39,-47.47 84.38,-47.86\"/>\n</g>\n<!-- L&#45;&gt;X -->\n<g id=\"edge7\" class=\"edge\">\n<title>L&#45;&gt;X</title>\n<path fill=\"none\" stroke=\"blue\" d=\"M114.36,-143.5C122.23,-133.68 131.32,-120.84 137,-108 145.5,-88.77 150.3,-65.48 152.94,-47.55\"/>\n<polygon fill=\"blue\" stroke=\"blue\" points=\"156.38,-48.25 154.22,-37.88 149.44,-47.33 156.38,-48.25\"/>\n</g>\n<!-- B -->\n<g id=\"node4\" class=\"node\">\n<title>B</title>\n<polygon fill=\"none\" stroke=\"black\" points=\"36,-108 0,-108 0,-72 36,-72 36,-108\"/>\n<text text-anchor=\"middle\" x=\"18\" y=\"-86.3\" font-family=\"Times,serif\" font-size=\"14.00\">B</text>\n</g>\n<!-- B&#45;&gt;D -->\n<g id=\"edge6\" class=\"edge\">\n<title>B&#45;&gt;D</title>\n<path fill=\"none\" stroke=\"blue\" d=\"M34.07,-71.7C41.7,-63.47 50.98,-53.48 59.4,-44.42\"/>\n<polygon fill=\"blue\" stroke=\"blue\" points=\"61.85,-46.92 66.09,-37.21 56.72,-42.16 61.85,-46.92\"/>\n</g>\n<!-- A -->\n<g id=\"node7\" class=\"node\">\n<title>A</title>\n<polygon fill=\"none\" stroke=\"black\" points=\"212,-252 176,-252 176,-216 212,-216 212,-252\"/>\n<text text-anchor=\"middle\" x=\"194\" y=\"-230.3\" font-family=\"Times,serif\" font-size=\"14.00\">A</text>\n</g>\n<!-- A&#45;&gt;T -->\n<g id=\"edge10\" class=\"edge\">\n<title>A&#45;&gt;T</title>\n<path fill=\"none\" stroke=\"brown\" d=\"M194,-215.7C194,-204.85 194,-190.92 194,-180.1\"/>\n</g>\n<!-- S -->\n<g id=\"node8\" class=\"node\">\n<title>S</title>\n<polygon fill=\"none\" stroke=\"black\" points=\"105,-252 69,-252 69,-216 105,-216 105,-252\"/>\n<text text-anchor=\"middle\" x=\"87\" y=\"-230.3\" font-family=\"Times,serif\" font-size=\"14.00\">S</text>\n</g>\n<!-- S&#45;&gt;L -->\n<g id=\"edge11\" class=\"edge\">\n<title>S&#45;&gt;L</title>\n<path fill=\"none\" stroke=\"brown\" d=\"M89.97,-215.7C91.83,-204.85 94.21,-190.92 96.07,-180.1\"/>\n</g>\n<!-- S&#45;&gt;B -->\n<g id=\"edge12\" class=\"edge\">\n<title>S&#45;&gt;B</title>\n<path fill=\"none\" stroke=\"brown\" d=\"M78.54,-215.59C65.22,-188.19 39.54,-135.32 26.31,-108.11\"/>\n</g>\n</g>\n</svg>\n",
      "text/plain": [
       "<graphviz.graphs.Digraph at 0x169101c60>"
      ]
     },
     "execution_count": 9,
     "metadata": {},
     "output_type": "execute_result"
    }
   ],
   "source": [
    "draw(ground_truth_cpdag)"
   ]
  },
  {
   "cell_type": "markdown",
   "id": "db1ff244",
   "metadata": {},
   "source": [
    "Now, we will show the output given a real CI test, which performs CI hypothesis testing to determine CI in the data. Due to finite data and the presence of noise, there is always a possibility that the CI test makes a mistake."
   ]
  },
  {
   "cell_type": "code",
   "execution_count": 10,
   "id": "5b80aeba",
   "metadata": {},
   "outputs": [
    {
     "name": "stderr",
     "output_type": "stream",
     "text": [
      "/Users/robertness/Dropbox/code/dodiscover/dodiscover/ci/g_test.py:200: RuntimeWarning: divide by zero encountered in log\n",
      "  log_tlog = np.log(tlog)\n",
      "/Users/robertness/Dropbox/code/dodiscover/dodiscover/ci/g_test.py:201: RuntimeWarning: invalid value encountered in multiply\n",
      "  G2 = np.nansum(2 * contingency_tble * log_tlog)\n",
      "/Users/robertness/Dropbox/code/dodiscover/dodiscover/ci/g_test.py:198: RuntimeWarning: invalid value encountered in divide\n",
      "  tlog[:, :, k] = contingency_tble[:, :, k] * nk[k] / tdijk\n"
     ]
    }
   ],
   "source": [
    "ci_estimator = GSquareCITest(data_type=\"discrete\")\n",
    "pc = PC(ci_estimator=ci_estimator)\n",
    "# data needs to be int\n",
    "def convert_to_int(df):\n",
    "    for var in df.columns:\n",
    "        data[var] = [1 if x == \"yes\" else 0 for x in data[var]]\n",
    "    return df\n",
    "data = convert_to_int(data)\n",
    "pc.fit(data, context)"
   ]
  },
  {
   "cell_type": "markdown",
   "id": "3eaa76d1",
   "metadata": {},
   "source": [
    "The resulting completely partially directed acyclic graph (CPDAG) that is learned is a \"Markov equivalence class\", which encodes all the conditional dependences that were learned from the data. Note here, because the CI test fails to find the dependency between 'z' and 'y', then we fail to also orient the corresponding collider in the data. This illustrates the dependency of constraint-based structure learning algorithms on the implicit Type I/II error in hypothesis tests."
   ]
  },
  {
   "cell_type": "code",
   "execution_count": 11,
   "id": "c948064b",
   "metadata": {},
   "outputs": [
    {
     "data": {
      "image/svg+xml": "<?xml version=\"1.0\" encoding=\"UTF-8\" standalone=\"no\"?>\n<!DOCTYPE svg PUBLIC \"-//W3C//DTD SVG 1.1//EN\"\n \"http://www.w3.org/Graphics/SVG/1.1/DTD/svg11.dtd\">\n<!-- Generated by graphviz version 7.0.0 (20221023.0053)\n -->\n<!-- Pages: 1 -->\n<svg width=\"260pt\" height=\"116pt\"\n viewBox=\"0.00 0.00 260.00 116.00\" xmlns=\"http://www.w3.org/2000/svg\" xmlns:xlink=\"http://www.w3.org/1999/xlink\">\n<g id=\"graph0\" class=\"graph\" transform=\"scale(1 1) rotate(0) translate(4 112)\">\n<polygon fill=\"white\" stroke=\"none\" points=\"-4,4 -4,-112 256,-112 256,4 -4,4\"/>\n<!-- T -->\n<g id=\"node1\" class=\"node\">\n<title>T</title>\n<polygon fill=\"none\" stroke=\"black\" points=\"36,-108 0,-108 0,-72 36,-72 36,-108\"/>\n<text text-anchor=\"middle\" x=\"18\" y=\"-86.3\" font-family=\"Times,serif\" font-size=\"14.00\">T</text>\n</g>\n<!-- E -->\n<g id=\"node5\" class=\"node\">\n<title>E</title>\n<polygon fill=\"none\" stroke=\"black\" points=\"36,-36 0,-36 0,0 36,0 36,-36\"/>\n<text text-anchor=\"middle\" x=\"18\" y=\"-14.3\" font-family=\"Times,serif\" font-size=\"14.00\">E</text>\n</g>\n<!-- T&#45;&gt;E -->\n<g id=\"edge2\" class=\"edge\">\n<title>T&#45;&gt;E</title>\n<path fill=\"none\" stroke=\"blue\" d=\"M18,-71.7C18,-64.41 18,-55.73 18,-47.54\"/>\n<polygon fill=\"blue\" stroke=\"blue\" points=\"21.5,-47.62 18,-37.62 14.5,-47.62 21.5,-47.62\"/>\n</g>\n<!-- X -->\n<g id=\"node2\" class=\"node\">\n<title>X</title>\n<polygon fill=\"none\" stroke=\"black\" points=\"198,-108 162,-108 162,-72 198,-72 198,-108\"/>\n<text text-anchor=\"middle\" x=\"180\" y=\"-86.3\" font-family=\"Times,serif\" font-size=\"14.00\">X</text>\n</g>\n<!-- L -->\n<g id=\"node3\" class=\"node\">\n<title>L</title>\n<polygon fill=\"none\" stroke=\"black\" points=\"90,-108 54,-108 54,-72 90,-72 90,-108\"/>\n<text text-anchor=\"middle\" x=\"72\" y=\"-86.3\" font-family=\"Times,serif\" font-size=\"14.00\">L</text>\n</g>\n<!-- L&#45;&gt;E -->\n<g id=\"edge1\" class=\"edge\">\n<title>L&#45;&gt;E</title>\n<path fill=\"none\" stroke=\"blue\" d=\"M58.65,-71.7C52.44,-63.64 44.92,-53.89 38.04,-44.98\"/>\n<polygon fill=\"blue\" stroke=\"blue\" points=\"41,-43.08 32.12,-37.3 35.46,-47.36 41,-43.08\"/>\n</g>\n<!-- S -->\n<g id=\"node7\" class=\"node\">\n<title>S</title>\n<polygon fill=\"none\" stroke=\"black\" points=\"90,-36 54,-36 54,0 90,0 90,-36\"/>\n<text text-anchor=\"middle\" x=\"72\" y=\"-14.3\" font-family=\"Times,serif\" font-size=\"14.00\">S</text>\n</g>\n<!-- L&#45;&gt;S -->\n<g id=\"edge3\" class=\"edge\">\n<title>L&#45;&gt;S</title>\n<path fill=\"none\" stroke=\"blue\" d=\"M72,-71.7C72,-64.41 72,-55.73 72,-47.54\"/>\n<polygon fill=\"blue\" stroke=\"blue\" points=\"75.5,-47.62 72,-37.62 68.5,-47.62 75.5,-47.62\"/>\n</g>\n<!-- B -->\n<g id=\"node4\" class=\"node\">\n<title>B</title>\n<polygon fill=\"none\" stroke=\"black\" points=\"144,-108 108,-108 108,-72 144,-72 144,-108\"/>\n<text text-anchor=\"middle\" x=\"126\" y=\"-86.3\" font-family=\"Times,serif\" font-size=\"14.00\">B</text>\n</g>\n<!-- D -->\n<g id=\"node6\" class=\"node\">\n<title>D</title>\n<polygon fill=\"none\" stroke=\"black\" points=\"144,-36 108,-36 108,0 144,0 144,-36\"/>\n<text text-anchor=\"middle\" x=\"126\" y=\"-14.3\" font-family=\"Times,serif\" font-size=\"14.00\">D</text>\n</g>\n<!-- B&#45;&gt;D -->\n<g id=\"edge5\" class=\"edge\">\n<title>B&#45;&gt;D</title>\n<path fill=\"none\" stroke=\"brown\" d=\"M126,-71.7C126,-60.85 126,-46.92 126,-36.1\"/>\n</g>\n<!-- B&#45;&gt;S -->\n<g id=\"edge4\" class=\"edge\">\n<title>B&#45;&gt;S</title>\n<path fill=\"none\" stroke=\"blue\" d=\"M112.65,-71.7C106.44,-63.64 98.92,-53.89 92.04,-44.98\"/>\n<polygon fill=\"blue\" stroke=\"blue\" points=\"95,-43.08 86.12,-37.3 89.46,-47.36 95,-43.08\"/>\n</g>\n<!-- A -->\n<g id=\"node8\" class=\"node\">\n<title>A</title>\n<polygon fill=\"none\" stroke=\"black\" points=\"252,-108 216,-108 216,-72 252,-72 252,-108\"/>\n<text text-anchor=\"middle\" x=\"234\" y=\"-86.3\" font-family=\"Times,serif\" font-size=\"14.00\">A</text>\n</g>\n</g>\n</svg>\n",
      "text/plain": [
       "<graphviz.graphs.Digraph at 0x169103880>"
      ]
     },
     "execution_count": 11,
     "metadata": {},
     "output_type": "execute_result"
    }
   ],
   "source": [
    "graph = pc.graph_\n",
    "draw(graph)"
   ]
  },
  {
   "cell_type": "markdown",
   "id": "474ae5e7",
   "metadata": {},
   "source": [
    "## References\n",
    "\n",
    "Lauritzen S, Spiegelhalter D (1988). \"Local Computation with Probabilities on Graphical Structures and their Application to Expert Systems (with discussion)\". Journal of the Royal Statistical Society: Series B, 50(2):157–224."
   ]
  }
 ],
 "metadata": {
  "kernelspec": {
   "display_name": "venv",
   "language": "python",
   "name": "venv"
  },
  "language_info": {
   "codemirror_mode": {
    "name": "ipython",
    "version": 3
   },
   "file_extension": ".py",
   "mimetype": "text/x-python",
   "name": "python",
   "nbconvert_exporter": "python",
   "pygments_lexer": "ipython3",
   "version": "3.10.8"
  },
  "vscode": {
   "interpreter": {
    "hash": "b0fa6594d8f4cbf19f97940f81e996739fb7646882a419484c72d19e05852a7e"
   }
  }
 },
 "nbformat": 4,
 "nbformat_minor": 5
}
