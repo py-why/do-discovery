{
 "cells": [
  {
   "cell_type": "markdown",
   "id": "3e91e320",
   "metadata": {},
   "source": [
    "# PC algorithm for causal discovery from observational data without latent confounders\n",
    "\n",
    "In this tutorial, we will demonstrate how to use the PC algorithm to learn a causal graph structure and highlight some of the common challenges in applying causal discovery algorithms to data.\n",
    "\n",
    "The PC algorithm works on observational data when there are no unobserved latent confounders."
   ]
  },
  {
   "cell_type": "code",
   "execution_count": 1,
   "id": "95e12b39",
   "metadata": {},
   "outputs": [],
   "source": [
    "import bnlearn as bn\n",
    "import networkx as nx\n",
    "import numpy as np\n",
    "\n",
    "from pywhy_graphs import CPDAG\n",
    "from pywhy_graphs.viz import draw\n",
    "\n",
    "from dodiscover import PC, make_context\n",
    "from dodiscover.ci import GSquareCITest, Oracle"
   ]
  },
  {
   "cell_type": "code",
   "execution_count": 2,
   "id": "e77e7416",
   "metadata": {},
   "outputs": [
    {
     "name": "stdout",
     "output_type": "stream",
     "text": [
      "[bnlearn] >Extracting files..\n"
     ]
    },
    {
     "data": {
      "text/html": [
       "<div>\n",
       "<style scoped>\n",
       "    .dataframe tbody tr th:only-of-type {\n",
       "        vertical-align: middle;\n",
       "    }\n",
       "\n",
       "    .dataframe tbody tr th {\n",
       "        vertical-align: top;\n",
       "    }\n",
       "\n",
       "    .dataframe thead th {\n",
       "        text-align: right;\n",
       "    }\n",
       "</style>\n",
       "<table border=\"1\" class=\"dataframe\">\n",
       "  <thead>\n",
       "    <tr style=\"text-align: right;\">\n",
       "      <th></th>\n",
       "      <th>A</th>\n",
       "      <th>T</th>\n",
       "      <th>S</th>\n",
       "      <th>L</th>\n",
       "      <th>B</th>\n",
       "      <th>E</th>\n",
       "      <th>X</th>\n",
       "      <th>D</th>\n",
       "    </tr>\n",
       "  </thead>\n",
       "  <tbody>\n",
       "    <tr>\n",
       "      <th>0</th>\n",
       "      <td>1</td>\n",
       "      <td>1</td>\n",
       "      <td>1</td>\n",
       "      <td>1</td>\n",
       "      <td>1</td>\n",
       "      <td>1</td>\n",
       "      <td>1</td>\n",
       "      <td>1</td>\n",
       "    </tr>\n",
       "    <tr>\n",
       "      <th>1</th>\n",
       "      <td>1</td>\n",
       "      <td>1</td>\n",
       "      <td>0</td>\n",
       "      <td>0</td>\n",
       "      <td>0</td>\n",
       "      <td>0</td>\n",
       "      <td>0</td>\n",
       "      <td>0</td>\n",
       "    </tr>\n",
       "    <tr>\n",
       "      <th>2</th>\n",
       "      <td>1</td>\n",
       "      <td>1</td>\n",
       "      <td>0</td>\n",
       "      <td>1</td>\n",
       "      <td>0</td>\n",
       "      <td>1</td>\n",
       "      <td>1</td>\n",
       "      <td>1</td>\n",
       "    </tr>\n",
       "    <tr>\n",
       "      <th>3</th>\n",
       "      <td>1</td>\n",
       "      <td>1</td>\n",
       "      <td>0</td>\n",
       "      <td>1</td>\n",
       "      <td>0</td>\n",
       "      <td>1</td>\n",
       "      <td>1</td>\n",
       "      <td>0</td>\n",
       "    </tr>\n",
       "    <tr>\n",
       "      <th>4</th>\n",
       "      <td>1</td>\n",
       "      <td>1</td>\n",
       "      <td>1</td>\n",
       "      <td>1</td>\n",
       "      <td>1</td>\n",
       "      <td>1</td>\n",
       "      <td>1</td>\n",
       "      <td>1</td>\n",
       "    </tr>\n",
       "  </tbody>\n",
       "</table>\n",
       "</div>"
      ],
      "text/plain": [
       "   A  T  S  L  B  E  X  D\n",
       "0  1  1  1  1  1  1  1  1\n",
       "1  1  1  0  0  0  0  0  0\n",
       "2  1  1  0  1  0  1  1  1\n",
       "3  1  1  0  1  0  1  1  0\n",
       "4  1  1  1  1  1  1  1  1"
      ]
     },
     "execution_count": 2,
     "metadata": {},
     "output_type": "execute_result"
    }
   ],
   "source": [
    "# Load example dataset\n",
    "data = bn.import_example(data='asia')\n",
    "data.rename(columns = {\n",
    "    'tub': 'T',\n",
    "    'lung': 'L',\n",
    "    'bronc': 'B',\n",
    "    'asia': 'A',\n",
    "    'smoke': 'S',\n",
    "    'either': 'E',\n",
    "    'xray': 'X',\n",
    "    'dysp': 'D'},\n",
    "    inplace=True\n",
    ")\n",
    "data.head()"
   ]
  },
  {
   "cell_type": "markdown",
   "id": "84323abd",
   "metadata": {},
   "source": [
    "We'll use the PC algorithm to infer the ASIA network.  The ASIA network is a case study of an expert system for diagnosing lung disease from Lauritzen and Spiegelhalter (1988).  Given respiratory symptions and other evidence, the goal is to distinguish between tuberculosis, lung cancer or bronchitis in a given patient."
   ]
  },
  {
   "cell_type": "markdown",
   "id": "e5620376",
   "metadata": {},
   "source": [
    "Our goal is to discover this graph structure from observational data.  To this end, we'll use the dodiscover implementation of the PC algorithm.  First, we'll implement the ground truth graph."
   ]
  },
  {
   "cell_type": "code",
   "execution_count": 3,
   "id": "33fa1389",
   "metadata": {},
   "outputs": [],
   "source": [
    "ground_truth_edges = [\n",
    "        (\"A\", \"T\"),\n",
    "        (\"T\", \"E\"),\n",
    "        (\"L\", \"E\"),\n",
    "        (\"S\", \"L\"),\n",
    "        (\"S\", \"B\"),\n",
    "        (\"B\", \"D\"),\n",
    "        (\"E\", \"D\"),\n",
    "        (\"E\", \"X\")\n",
    "    ]\n",
    "\n",
    "ground_truth = nx.DiGraph(ground_truth_edges)"
   ]
  },
  {
   "cell_type": "markdown",
   "id": "de591d7c",
   "metadata": {},
   "source": [
    "The ground truth DAG can be visualized and is seen as follows:"
   ]
  },
  {
   "cell_type": "code",
   "execution_count": 4,
   "id": "d7815b62",
   "metadata": {},
   "outputs": [
    {
     "data": {
      "image/png": "[encoded data removed]",
      "text/plain": [
       "<Figure size 640x480 with 1 Axes>"
      ]
     },
     "metadata": {},
     "output_type": "display_data"
    }
   ],
   "source": [
    "pos = nx.spring_layout(ground_truth, seed=1234)\n",
    "nx.draw(ground_truth, with_labels=True, pos=pos)"
   ]
  },
  {
   "cell_type": "markdown",
   "id": "ec0242ea",
   "metadata": {},
   "source": [
    "The variables in the DAG have the following interpretation:\n",
    "\n",
    "* T: Whether or not the patient has **tuberculosis**.\n",
    "* L: Whether or not the patient has **lung cancer**.\n",
    "* B: Whether or not the patient has **bronchitis**.\n",
    "* A: Whether or not the patient has recently visited **Asia**.\n",
    "* S: Whether or not the patient is a **smoker**.\n",
    "* E: An indicator of whether the patient has either lung cancer or tuberculosis (or both).\n",
    "* X: Whether or not a chest X-ray shows evidence of tuberculosis or lung cancer.\n",
    "* D: Whether or not the patient has **dyspnoea** (difficulty breathing).\n",
    "\n",
    "Note we have three kinds of variables, diseases (B, L, T, and E which indicates one or more diseases), symptoms (X and D), and behaviors (S and A).  The goal of the model is to use symptoms and behaviors to diagnose (i.e. infer) diseases.  Further, note that diseases are causes of symptoms, and are effects of behaviors."
   ]
  },
  {
   "cell_type": "markdown",
   "id": "b769b7f1",
   "metadata": {},
   "source": [
    "This is the ground truth, but ground truth is not learnable from observational data alone.  We can only learn a CPDAG (complete partially directed acyclic graph), which has a mixture of directed and undirected graph.  The undirected edges are edges where we cannot learn causal direction from observations alone.\n",
    "\n",
    "In technical terms, the CPDAG represents an equivalence class of DAGs. In other words, the CPDAG represents all the DAGs that we could create by orienting the undirected edges (except for those DAGs that would introduce new colliders), because each of those DAGs are equally probable given the data. "
   ]
  },
  {
   "cell_type": "code",
   "execution_count": 5,
   "id": "30a29f1d",
   "metadata": {},
   "outputs": [],
   "source": [
    "cpdag_directed = [\n",
    "        (\"T\", \"E\"),\n",
    "        (\"L\", \"E\"),\n",
    "        (\"B\", \"D\"),\n",
    "        (\"E\", \"D\"),\n",
    "        (\"E\", \"X\")\n",
    "    ]\n",
    "\n",
    "cpdag_undirected = [\n",
    "        (\"A\", \"T\"),\n",
    "        (\"S\", \"L\"),\n",
    "        (\"S\", \"B\"),\n",
    "    ]\n",
    "\n",
    "ground_truth_cpdag = CPDAG(cpdag_directed, cpdag_undirected)"
   ]
  },
  {
   "cell_type": "markdown",
   "id": "5a9d2aae",
   "metadata": {},
   "source": [
    "## Instantiate some conditional independence tests\n",
    "\n",
    "The PC algorithm is a constraint-based causal discovery algorithm, which means it uses statistical constraints induced by causal relationships to learn those causal relationships.  The most commonly used constraint is conditional independence.  Constraint-based algorithms run a series of statistical tests for conditional independence (CI) and construct a graph consistent with those assumptions.\n",
    "\n",
    "So we need a way to test for CI constraints. There are various options for tests. If we are applying the algorithm on real data, we would want to use the CI test that best suits the data. \n",
    "\n",
    "If we are interested in evaluating how the discovery algorithm works in an ideal setting, we can use an oracle, which is imbued with the ground-truth graph, which can query all the d-separation statements needed. This can help one determine in a simulation setting, what is the best case graph the PC algorithm can learn.\n",
    "\n",
    "**Warnings about statistical tests for independence**. \n",
    "* Note that because of finite sample sizes, any CI test will sometimes make erroneous conclusions.  Errors results in incorrect orientations and edges in the learned graph.  Further, constraint-based algorithms run multiple tests in sequence, which causes those errors to accumulate.  One might use adjustments for multiple comparisons to compensate.\n",
    "* The standard statistical test has a null and alternative hypothesis.  The alternative hypothesis should be the hypothesis that the thing one is looking for is present, while the null hypothesis is that thing is not present.  In causal discovery, the thing we are looking for is causal structure, and conditional independence is evidence of causal structure. So arguably, the alternative hypothesis should be the hypothesis of conditional independence. However, most CI test implementations take the hypothesis of independence as the null hypothesis.\n",
    "*  The p-value decreases with the size of the data.  So the more data is provided, the more likely the test will favor dependence.  For large data sizes, use smaller significance thresholds.\n",
    "\n",
    "For these reasons, the user should view the results of the CI test more as a heuristic than a rigorous statistical test. "
   ]
  },
  {
   "cell_type": "code",
   "execution_count": 6,
   "id": "902d126f",
   "metadata": {},
   "outputs": [],
   "source": [
    "oracle = Oracle(ground_truth)"
   ]
  },
  {
   "cell_type": "markdown",
   "id": "591c00cf",
   "metadata": {},
   "source": [
    "## Define the context\n",
    "\n",
    "A common anti-pattern in causal discovery is encouraging the user to see the discovery algorithm as a philosopher's stone that converts data to causal relationships.  In other words, discovery libraries tend to encourage users tend to surrender the task of providing domain-specific assumptions that enable identifiability to the algorithm. PyWhy's key strength is how it guides users to specifying domain assumptions up front (in the form of a DAG) before the data is added, and then addresses identifiability given those assumptions and data. \n",
    "\n",
    "To this end, we introduce the `context.Context` class, where users provide data as the primary input to a discovery algorithm. The Context class houses both data, a priori assumptions and other relevant data that may be used in downstream structure learning algorithms.\n",
    "\n",
    "In this example, we'll use the context object to specify some fixed edges in the graph."
   ]
  },
  {
   "cell_type": "code",
   "execution_count": 4,
   "id": "89a4f0af",
   "metadata": {},
   "outputs": [],
   "source": [
    "context = make_context().variables(data=data).build()"
   ]
  },
  {
   "cell_type": "markdown",
   "id": "efcf01c7",
   "metadata": {},
   "source": [
    "## Run discovery algorithm\n",
    "\n",
    "Now we are ready to run the PC algorithm. First, we will show the output of the oracle, which is the best case scenario the PC algorithm can learn given an infinite amount of data."
   ]
  },
  {
   "cell_type": "code",
   "execution_count": 14,
   "id": "e5cba859",
   "metadata": {},
   "outputs": [],
   "source": [
    "pc = PC(ci_estimator=oracle)\n",
    "pc.fit(data, context)"
   ]
  },
  {
   "cell_type": "markdown",
   "id": "ff7ebc10",
   "metadata": {},
   "source": [
    "The resulting completely partially directed acyclic graph (CPDAG) that is learned is a \"Markov equivalence class\", which encodes all the conditional dependences that were learned from the data."
   ]
  },
  {
   "cell_type": "code",
   "execution_count": 56,
   "id": "918c6f5f",
   "metadata": {},
   "outputs": [
    {
     "data": {
      "image/svg+xml": [
       "<?xml version=\"1.0\" encoding=\"UTF-8\" standalone=\"no\"?>\n",
       "<!DOCTYPE svg PUBLIC \"-//W3C//DTD SVG 1.1//EN\"\n",
       " \"http://www.w3.org/Graphics/SVG/1.1/DTD/svg11.dtd\">\n",
       "<!-- Generated by graphviz version 5.0.0 (20220707.1540)\n",
       " -->\n",
       "<!-- Pages: 1 -->\n",
       "<svg width=\"274pt\" height=\"260pt\"\n",
       " viewBox=\"0.00 0.00 274.36 260.00\" xmlns=\"http://www.w3.org/2000/svg\" xmlns:xlink=\"http://www.w3.org/1999/xlink\">\n",
       "<g id=\"graph0\" class=\"graph\" transform=\"scale(1 1) rotate(0) translate(4 256)\">\n",
       "<polygon fill=\"white\" stroke=\"transparent\" points=\"-4,4 -4,-256 270.36,-256 270.36,4 -4,4\"/>\n",
       "<!-- T -->\n",
       "<g id=\"node1\" class=\"node\">\n",
       "<title>T</title>\n",
       "<polygon fill=\"none\" stroke=\"black\" points=\"155,-180 119,-180 119,-144 155,-144 155,-180\"/>\n",
       "<text text-anchor=\"middle\" x=\"137\" y=\"-158.3\" font-family=\"Times,serif\" font-size=\"14.00\">T</text>\n",
       "</g>\n",
       "<!-- A -->\n",
       "<g id=\"node2\" class=\"node\">\n",
       "<title>A</title>\n",
       "<polygon fill=\"none\" stroke=\"black\" points=\"128,-108 92,-108 92,-72 128,-72 128,-108\"/>\n",
       "<text text-anchor=\"middle\" x=\"110\" y=\"-86.3\" font-family=\"Times,serif\" font-size=\"14.00\">A</text>\n",
       "</g>\n",
       "<!-- T&#45;&gt;A -->\n",
       "<g id=\"edge1\" class=\"edge\">\n",
       "<title>T&#45;&gt;A</title>\n",
       "<path fill=\"none\" stroke=\"brown\" d=\"M130.33,-143.7C126.14,-132.85 120.77,-118.92 116.6,-108.1\"/>\n",
       "</g>\n",
       "<!-- D -->\n",
       "<g id=\"node6\" class=\"node\">\n",
       "<title>D</title>\n",
       "<polygon fill=\"none\" stroke=\"black\" points=\"128,-36 92,-36 92,0 128,0 128,-36\"/>\n",
       "<text text-anchor=\"middle\" x=\"110\" y=\"-14.3\" font-family=\"Times,serif\" font-size=\"14.00\">D</text>\n",
       "</g>\n",
       "<!-- T&#45;&gt;D -->\n",
       "<g id=\"edge5\" class=\"edge\">\n",
       "<title>T&#45;&gt;D</title>\n",
       "<path fill=\"none\" stroke=\"blue\" d=\"M118.97,-149.26C106.27,-139.83 90.27,-125.32 83,-108 74.33,-87.33 83,-62.91 92.75,-44.89\"/>\n",
       "<polygon fill=\"blue\" stroke=\"blue\" points=\"95.86,-46.5 97.87,-36.09 89.81,-42.98 95.86,-46.5\"/>\n",
       "</g>\n",
       "<!-- E -->\n",
       "<g id=\"node7\" class=\"node\">\n",
       "<title>E</title>\n",
       "<polygon fill=\"none\" stroke=\"black\" points=\"182,-108 146,-108 146,-72 182,-72 182,-108\"/>\n",
       "<text text-anchor=\"middle\" x=\"164\" y=\"-86.3\" font-family=\"Times,serif\" font-size=\"14.00\">E</text>\n",
       "</g>\n",
       "<!-- T&#45;&gt;E -->\n",
       "<g id=\"edge11\" class=\"edge\">\n",
       "<title>T&#45;&gt;E</title>\n",
       "<path fill=\"none\" stroke=\"blue\" d=\"M143.67,-143.7C146.71,-135.81 150.38,-126.3 153.76,-117.55\"/>\n",
       "<polygon fill=\"blue\" stroke=\"blue\" points=\"157.07,-118.69 157.4,-108.1 150.54,-116.17 157.07,-118.69\"/>\n",
       "</g>\n",
       "<!-- X -->\n",
       "<g id=\"node8\" class=\"node\">\n",
       "<title>X</title>\n",
       "<polygon fill=\"none\" stroke=\"black\" points=\"228,-36 192,-36 192,0 228,0 228,-36\"/>\n",
       "<text text-anchor=\"middle\" x=\"210\" y=\"-14.3\" font-family=\"Times,serif\" font-size=\"14.00\">X</text>\n",
       "</g>\n",
       "<!-- T&#45;&gt;X -->\n",
       "<g id=\"edge8\" class=\"edge\">\n",
       "<title>T&#45;&gt;X</title>\n",
       "<path fill=\"none\" stroke=\"blue\" d=\"M155.02,-147.93C167.04,-138.25 182.21,-124 191,-108 201.5,-88.9 206.2,-64.55 208.3,-46.14\"/>\n",
       "<polygon fill=\"blue\" stroke=\"blue\" points=\"211.8,-46.37 209.26,-36.08 204.83,-45.7 211.8,-46.37\"/>\n",
       "</g>\n",
       "<!-- S -->\n",
       "<g id=\"node3\" class=\"node\">\n",
       "<title>S</title>\n",
       "<polygon fill=\"none\" stroke=\"black\" points=\"136,-252 100,-252 100,-216 136,-216 136,-252\"/>\n",
       "<text text-anchor=\"middle\" x=\"118\" y=\"-230.3\" font-family=\"Times,serif\" font-size=\"14.00\">S</text>\n",
       "</g>\n",
       "<!-- L -->\n",
       "<g id=\"node4\" class=\"node\">\n",
       "<title>L</title>\n",
       "<polygon fill=\"none\" stroke=\"black\" points=\"237,-180 201,-180 201,-144 237,-144 237,-180\"/>\n",
       "<text text-anchor=\"middle\" x=\"219\" y=\"-158.3\" font-family=\"Times,serif\" font-size=\"14.00\">L</text>\n",
       "</g>\n",
       "<!-- S&#45;&gt;L -->\n",
       "<g id=\"edge2\" class=\"edge\">\n",
       "<title>S&#45;&gt;L</title>\n",
       "<path fill=\"none\" stroke=\"brown\" d=\"M136.06,-220.49C154.33,-207.82 182.42,-188.35 200.76,-175.64\"/>\n",
       "</g>\n",
       "<!-- B -->\n",
       "<g id=\"node5\" class=\"node\">\n",
       "<title>B</title>\n",
       "<polygon fill=\"none\" stroke=\"black\" points=\"36,-108 0,-108 0,-72 36,-72 36,-108\"/>\n",
       "<text text-anchor=\"middle\" x=\"18\" y=\"-86.3\" font-family=\"Times,serif\" font-size=\"14.00\">B</text>\n",
       "</g>\n",
       "<!-- S&#45;&gt;B -->\n",
       "<g id=\"edge3\" class=\"edge\">\n",
       "<title>S&#45;&gt;B</title>\n",
       "<path fill=\"none\" stroke=\"brown\" d=\"M105.94,-215.87C86.72,-188.58 49.35,-135.52 30.11,-108.19\"/>\n",
       "</g>\n",
       "<!-- L&#45;&gt;D -->\n",
       "<g id=\"edge7\" class=\"edge\">\n",
       "<title>L&#45;&gt;D</title>\n",
       "<path fill=\"none\" stroke=\"blue\" d=\"M217.07,-143.68C214.19,-124.49 207.23,-93.44 191,-72 177.13,-53.69 154.98,-39.82 137.35,-30.87\"/>\n",
       "<polygon fill=\"blue\" stroke=\"blue\" points=\"138.62,-27.6 128.1,-26.41 135.58,-33.91 138.62,-27.6\"/>\n",
       "</g>\n",
       "<!-- L&#45;&gt;E -->\n",
       "<g id=\"edge12\" class=\"edge\">\n",
       "<title>L&#45;&gt;E</title>\n",
       "<path fill=\"none\" stroke=\"blue\" d=\"M205.4,-143.7C198.88,-135.39 190.93,-125.28 183.75,-116.14\"/>\n",
       "<polygon fill=\"blue\" stroke=\"blue\" points=\"186.37,-113.81 177.44,-108.1 180.87,-118.13 186.37,-113.81\"/>\n",
       "</g>\n",
       "<!-- L&#45;&gt;X -->\n",
       "<g id=\"edge10\" class=\"edge\">\n",
       "<title>L&#45;&gt;X</title>\n",
       "<path fill=\"none\" stroke=\"blue\" d=\"M237.14,-144.76C246.52,-135.13 257.01,-122.07 262,-108 267.35,-92.92 268.05,-86.81 262,-72 256.61,-58.82 246.19,-47.14 236.09,-38.13\"/>\n",
       "<polygon fill=\"blue\" stroke=\"blue\" points=\"238.07,-35.22 228.15,-31.49 233.58,-40.59 238.07,-35.22\"/>\n",
       "</g>\n",
       "<!-- B&#45;&gt;D -->\n",
       "<g id=\"edge4\" class=\"edge\">\n",
       "<title>B&#45;&gt;D</title>\n",
       "<path fill=\"none\" stroke=\"blue\" d=\"M36.18,-75.17C49.78,-64.82 68.6,-50.5 83.83,-38.91\"/>\n",
       "<polygon fill=\"blue\" stroke=\"blue\" points=\"86.02,-41.64 91.86,-32.8 81.78,-36.07 86.02,-41.64\"/>\n",
       "</g>\n",
       "<!-- E&#45;&gt;D -->\n",
       "<g id=\"edge6\" class=\"edge\">\n",
       "<title>E&#45;&gt;D</title>\n",
       "<path fill=\"none\" stroke=\"blue\" d=\"M150.65,-71.7C144.24,-63.39 136.44,-53.28 129.39,-44.14\"/>\n",
       "<polygon fill=\"blue\" stroke=\"blue\" points=\"132.07,-41.88 123.19,-36.1 126.53,-46.16 132.07,-41.88\"/>\n",
       "</g>\n",
       "<!-- E&#45;&gt;X -->\n",
       "<g id=\"edge9\" class=\"edge\">\n",
       "<title>E&#45;&gt;X</title>\n",
       "<path fill=\"none\" stroke=\"blue\" d=\"M175.37,-71.7C180.72,-63.56 187.2,-53.69 193.11,-44.7\"/>\n",
       "<polygon fill=\"blue\" stroke=\"blue\" points=\"196.19,-46.38 198.76,-36.1 190.34,-42.54 196.19,-46.38\"/>\n",
       "</g>\n",
       "</g>\n",
       "</svg>\n"
      ],
      "text/plain": [
       "<graphviz.graphs.Digraph at 0x18337f4f0>"
      ]
     },
     "execution_count": 56,
     "metadata": {},
     "output_type": "execute_result"
    }
   ],
   "source": [
    "graph = pc.graph_\n",
    "\n",
    "draw(graph, direction='TB')"
   ]
  },
  {
   "cell_type": "markdown",
   "id": "162d98be",
   "metadata": {},
   "source": [
    "Compare this against the ground truth CPDAG, which should match exactly."
   ]
  },
  {
   "cell_type": "code",
   "execution_count": 57,
   "id": "67d47367",
   "metadata": {},
   "outputs": [
    {
     "data": {
      "image/svg+xml": [
       "<?xml version=\"1.0\" encoding=\"UTF-8\" standalone=\"no\"?>\n",
       "<!DOCTYPE svg PUBLIC \"-//W3C//DTD SVG 1.1//EN\"\n",
       " \"http://www.w3.org/Graphics/SVG/1.1/DTD/svg11.dtd\">\n",
       "<!-- Generated by graphviz version 5.0.0 (20220707.1540)\n",
       " -->\n",
       "<!-- Pages: 1 -->\n",
       "<svg width=\"224pt\" height=\"260pt\"\n",
       " viewBox=\"0.00 0.00 223.80 260.00\" xmlns=\"http://www.w3.org/2000/svg\" xmlns:xlink=\"http://www.w3.org/1999/xlink\">\n",
       "<g id=\"graph0\" class=\"graph\" transform=\"scale(1 1) rotate(0) translate(4 256)\">\n",
       "<polygon fill=\"white\" stroke=\"transparent\" points=\"-4,4 -4,-256 219.8,-256 219.8,4 -4,4\"/>\n",
       "<!-- A -->\n",
       "<g id=\"node1\" class=\"node\">\n",
       "<title>A</title>\n",
       "<polygon fill=\"none\" stroke=\"black\" points=\"47.8,-252 11.8,-252 11.8,-216 47.8,-216 47.8,-252\"/>\n",
       "<text text-anchor=\"middle\" x=\"29.8\" y=\"-230.3\" font-family=\"Times,serif\" font-size=\"14.00\">A</text>\n",
       "</g>\n",
       "<!-- T -->\n",
       "<g id=\"node2\" class=\"node\">\n",
       "<title>T</title>\n",
       "<polygon fill=\"none\" stroke=\"black\" points=\"47.8,-180 11.8,-180 11.8,-144 47.8,-144 47.8,-180\"/>\n",
       "<text text-anchor=\"middle\" x=\"29.8\" y=\"-158.3\" font-family=\"Times,serif\" font-size=\"14.00\">T</text>\n",
       "</g>\n",
       "<!-- A&#45;&gt;T -->\n",
       "<g id=\"edge1\" class=\"edge\">\n",
       "<title>A&#45;&gt;T</title>\n",
       "<path fill=\"none\" stroke=\"brown\" d=\"M29.8,-215.7C29.8,-204.85 29.8,-190.92 29.8,-180.1\"/>\n",
       "</g>\n",
       "<!-- E -->\n",
       "<g id=\"node6\" class=\"node\">\n",
       "<title>E</title>\n",
       "<polygon fill=\"none\" stroke=\"black\" points=\"47.8,-108 11.8,-108 11.8,-72 47.8,-72 47.8,-108\"/>\n",
       "<text text-anchor=\"middle\" x=\"29.8\" y=\"-86.3\" font-family=\"Times,serif\" font-size=\"14.00\">E</text>\n",
       "</g>\n",
       "<!-- T&#45;&gt;E -->\n",
       "<g id=\"edge4\" class=\"edge\">\n",
       "<title>T&#45;&gt;E</title>\n",
       "<path fill=\"none\" stroke=\"blue\" d=\"M29.8,-143.7C29.8,-135.98 29.8,-126.71 29.8,-118.11\"/>\n",
       "<polygon fill=\"blue\" stroke=\"blue\" points=\"33.3,-118.1 29.8,-108.1 26.3,-118.1 33.3,-118.1\"/>\n",
       "</g>\n",
       "<!-- D -->\n",
       "<g id=\"node7\" class=\"node\">\n",
       "<title>D</title>\n",
       "<polygon fill=\"none\" stroke=\"black\" points=\"135.8,-36 99.8,-36 99.8,0 135.8,0 135.8,-36\"/>\n",
       "<text text-anchor=\"middle\" x=\"117.8\" y=\"-14.3\" font-family=\"Times,serif\" font-size=\"14.00\">D</text>\n",
       "</g>\n",
       "<!-- T&#45;&gt;D -->\n",
       "<g id=\"edge7\" class=\"edge\">\n",
       "<title>T&#45;&gt;D</title>\n",
       "<path fill=\"none\" stroke=\"blue\" d=\"M40.42,-143.87C55.68,-119.24 83.94,-73.64 101.76,-44.88\"/>\n",
       "<polygon fill=\"blue\" stroke=\"blue\" points=\"104.86,-46.53 107.15,-36.19 98.91,-42.85 104.86,-46.53\"/>\n",
       "</g>\n",
       "<!-- X -->\n",
       "<g id=\"node8\" class=\"node\">\n",
       "<title>X</title>\n",
       "<polygon fill=\"none\" stroke=\"black\" points=\"47.8,-36 11.8,-36 11.8,0 47.8,0 47.8,-36\"/>\n",
       "<text text-anchor=\"middle\" x=\"29.8\" y=\"-14.3\" font-family=\"Times,serif\" font-size=\"14.00\">X</text>\n",
       "</g>\n",
       "<!-- T&#45;&gt;X -->\n",
       "<g id=\"edge10\" class=\"edge\">\n",
       "<title>T&#45;&gt;X</title>\n",
       "<path fill=\"none\" stroke=\"blue\" d=\"M18.33,-143.67C12.43,-133.69 5.84,-120.65 2.8,-108 -0.93,-92.44 -0.93,-87.56 2.8,-72 5.01,-62.81 9.09,-53.41 13.42,-45.13\"/>\n",
       "<polygon fill=\"blue\" stroke=\"blue\" points=\"16.52,-46.77 18.33,-36.33 10.4,-43.36 16.52,-46.77\"/>\n",
       "</g>\n",
       "<!-- S -->\n",
       "<g id=\"node3\" class=\"node\">\n",
       "<title>S</title>\n",
       "<polygon fill=\"none\" stroke=\"black\" points=\"173.8,-252 137.8,-252 137.8,-216 173.8,-216 173.8,-252\"/>\n",
       "<text text-anchor=\"middle\" x=\"155.8\" y=\"-230.3\" font-family=\"Times,serif\" font-size=\"14.00\">S</text>\n",
       "</g>\n",
       "<!-- L -->\n",
       "<g id=\"node4\" class=\"node\">\n",
       "<title>L</title>\n",
       "<polygon fill=\"none\" stroke=\"black\" points=\"150.8,-180 114.8,-180 114.8,-144 150.8,-144 150.8,-180\"/>\n",
       "<text text-anchor=\"middle\" x=\"132.8\" y=\"-158.3\" font-family=\"Times,serif\" font-size=\"14.00\">L</text>\n",
       "</g>\n",
       "<!-- S&#45;&gt;L -->\n",
       "<g id=\"edge2\" class=\"edge\">\n",
       "<title>S&#45;&gt;L</title>\n",
       "<path fill=\"none\" stroke=\"brown\" d=\"M150.12,-215.7C146.55,-204.85 141.97,-190.92 138.42,-180.1\"/>\n",
       "</g>\n",
       "<!-- B -->\n",
       "<g id=\"node5\" class=\"node\">\n",
       "<title>B</title>\n",
       "<polygon fill=\"none\" stroke=\"black\" points=\"215.8,-108 179.8,-108 179.8,-72 215.8,-72 215.8,-108\"/>\n",
       "<text text-anchor=\"middle\" x=\"197.8\" y=\"-86.3\" font-family=\"Times,serif\" font-size=\"14.00\">B</text>\n",
       "</g>\n",
       "<!-- S&#45;&gt;B -->\n",
       "<g id=\"edge3\" class=\"edge\">\n",
       "<title>S&#45;&gt;B</title>\n",
       "<path fill=\"none\" stroke=\"brown\" d=\"M160.87,-215.87C168.94,-188.58 184.63,-135.52 192.72,-108.19\"/>\n",
       "</g>\n",
       "<!-- L&#45;&gt;E -->\n",
       "<g id=\"edge5\" class=\"edge\">\n",
       "<title>L&#45;&gt;E</title>\n",
       "<path fill=\"none\" stroke=\"blue\" d=\"M114.39,-148.49C98.28,-137.54 74.67,-121.49 56.49,-109.14\"/>\n",
       "<polygon fill=\"blue\" stroke=\"blue\" points=\"58.29,-106.13 48.06,-103.41 54.36,-111.92 58.29,-106.13\"/>\n",
       "</g>\n",
       "<!-- L&#45;&gt;D -->\n",
       "<g id=\"edge9\" class=\"edge\">\n",
       "<title>L&#45;&gt;D</title>\n",
       "<path fill=\"none\" stroke=\"blue\" d=\"M132.5,-143.88C132.03,-125.92 130.83,-96.89 127.8,-72 126.77,-63.5 125.19,-54.32 123.6,-46.02\"/>\n",
       "<polygon fill=\"blue\" stroke=\"blue\" points=\"127.01,-45.21 121.61,-36.1 120.15,-46.59 127.01,-45.21\"/>\n",
       "</g>\n",
       "<!-- L&#45;&gt;X -->\n",
       "<g id=\"edge12\" class=\"edge\">\n",
       "<title>L&#45;&gt;X</title>\n",
       "<path fill=\"none\" stroke=\"blue\" d=\"M120.38,-143.87C102.44,-119.14 69.15,-73.24 48.31,-44.51\"/>\n",
       "<polygon fill=\"blue\" stroke=\"blue\" points=\"50.97,-42.23 42.27,-36.19 45.31,-46.34 50.97,-42.23\"/>\n",
       "</g>\n",
       "<!-- B&#45;&gt;D -->\n",
       "<g id=\"edge6\" class=\"edge\">\n",
       "<title>B&#45;&gt;D</title>\n",
       "<path fill=\"none\" stroke=\"blue\" d=\"M179.65,-73.12C169.01,-63.81 155.4,-51.9 143.65,-41.62\"/>\n",
       "<polygon fill=\"blue\" stroke=\"blue\" points=\"145.71,-38.77 135.88,-34.82 141.1,-44.04 145.71,-38.77\"/>\n",
       "</g>\n",
       "<!-- E&#45;&gt;D -->\n",
       "<g id=\"edge8\" class=\"edge\">\n",
       "<title>E&#45;&gt;D</title>\n",
       "<path fill=\"none\" stroke=\"blue\" d=\"M48.03,-74.5C60.66,-64.45 77.65,-50.93 91.71,-39.75\"/>\n",
       "<polygon fill=\"blue\" stroke=\"blue\" points=\"93.94,-42.45 99.59,-33.49 89.59,-36.97 93.94,-42.45\"/>\n",
       "</g>\n",
       "<!-- E&#45;&gt;X -->\n",
       "<g id=\"edge11\" class=\"edge\">\n",
       "<title>E&#45;&gt;X</title>\n",
       "<path fill=\"none\" stroke=\"blue\" d=\"M29.8,-71.7C29.8,-63.98 29.8,-54.71 29.8,-46.11\"/>\n",
       "<polygon fill=\"blue\" stroke=\"blue\" points=\"33.3,-46.1 29.8,-36.1 26.3,-46.1 33.3,-46.1\"/>\n",
       "</g>\n",
       "</g>\n",
       "</svg>\n"
      ],
      "text/plain": [
       "<graphviz.graphs.Digraph at 0x18337f2b0>"
      ]
     },
     "execution_count": 57,
     "metadata": {},
     "output_type": "execute_result"
    }
   ],
   "source": [
    "draw(ground_truth_cpdag, direction='TB')"
   ]
  },
  {
   "cell_type": "code",
   "execution_count": 58,
   "id": "0569e7c4-a571-484c-a07b-e6935c55fd39",
   "metadata": {},
   "outputs": [
    {
     "name": "stdout",
     "output_type": "stream",
     "text": [
      "The oracle learned CPDAG via the PC algorithm matches the ground truth in directed edges: True \n",
      "and matches the undirected edges: True\n"
     ]
    }
   ],
   "source": [
    "match_directed = nx.is_isomorphic(ground_truth_cpdag.sub_directed_graph(), graph.sub_directed_graph())\n",
    "match_undirected = nx.is_isomorphic(ground_truth_cpdag.sub_undirected_graph(), graph.sub_undirected_graph())\n",
    "\n",
    "print(f'The oracle learned CPDAG via the PC algorithm matches the ground truth in directed edges: {match_directed} \\n'\n",
    "      f'and matches the undirected edges: {match_undirected}')"
   ]
  },
  {
   "cell_type": "markdown",
   "id": "db1ff244",
   "metadata": {},
   "source": [
    "Now, we will show the output given a real CI test, which performs CI hypothesis testing to determine CI in the data. Due to finite data and the presence of noise, there is always a possibility that the CI test makes a mistake. In order to maximize the chances that the graph is correct, you want to ensure that the CI test you are using matches the assumptions you have on your data. \n",
    "\n",
    "For example, the G^2 binary test is a well-suited test for binary data, which we validated is the type of data we have for the ASIA dataset."
   ]
  },
  {
   "cell_type": "code",
   "execution_count": 9,
   "id": "5b80aeba",
   "metadata": {},
   "outputs": [],
   "source": [
    "ci_estimator = GSquareCITest(data_type=\"binary\")\n",
    "pc = PC(ci_estimator=ci_estimator, alpha=0.05)"
   ]
  },
  {
   "cell_type": "code",
   "execution_count": 10,
   "id": "64a5d4a9-1e07-4282-813c-a080322eaff0",
   "metadata": {},
   "outputs": [],
   "source": [
    "pc.fit(data, context)"
   ]
  },
  {
   "cell_type": "code",
   "execution_count": 11,
   "id": "c948064b",
   "metadata": {},
   "outputs": [
    {
     "data": {
      "image/svg+xml": [
       "<?xml version=\"1.0\" encoding=\"UTF-8\" standalone=\"no\"?>\n",
       "<!DOCTYPE svg PUBLIC \"-//W3C//DTD SVG 1.1//EN\"\n",
       " \"http://www.w3.org/Graphics/SVG/1.1/DTD/svg11.dtd\">\n",
       "<!-- Generated by graphviz version 5.0.0 (20220707.1540)\n",
       " -->\n",
       "<!-- Pages: 1 -->\n",
       "<svg width=\"260pt\" height=\"116pt\"\n",
       " viewBox=\"0.00 0.00 260.00 116.00\" xmlns=\"http://www.w3.org/2000/svg\" xmlns:xlink=\"http://www.w3.org/1999/xlink\">\n",
       "<g id=\"graph0\" class=\"graph\" transform=\"scale(1 1) rotate(0) translate(4 112)\">\n",
       "<polygon fill=\"white\" stroke=\"transparent\" points=\"-4,4 -4,-112 256,-112 256,4 -4,4\"/>\n",
       "<!-- B -->\n",
       "<g id=\"node1\" class=\"node\">\n",
       "<title>B</title>\n",
       "<polygon fill=\"none\" stroke=\"black\" points=\"90,-108 54,-108 54,-72 90,-72 90,-108\"/>\n",
       "<text text-anchor=\"middle\" x=\"72\" y=\"-86.3\" font-family=\"Times,serif\" font-size=\"14.00\">B</text>\n",
       "</g>\n",
       "<!-- S -->\n",
       "<g id=\"node2\" class=\"node\">\n",
       "<title>S</title>\n",
       "<polygon fill=\"none\" stroke=\"black\" points=\"117,-36 81,-36 81,0 117,0 117,-36\"/>\n",
       "<text text-anchor=\"middle\" x=\"99\" y=\"-14.3\" font-family=\"Times,serif\" font-size=\"14.00\">S</text>\n",
       "</g>\n",
       "<!-- B&#45;&gt;S -->\n",
       "<g id=\"edge1\" class=\"edge\">\n",
       "<title>B&#45;&gt;S</title>\n",
       "<path fill=\"none\" stroke=\"brown\" d=\"M78.67,-71.7C82.86,-60.85 88.23,-46.92 92.4,-36.1\"/>\n",
       "</g>\n",
       "<!-- D -->\n",
       "<g id=\"node8\" class=\"node\">\n",
       "<title>D</title>\n",
       "<polygon fill=\"none\" stroke=\"black\" points=\"50,-36 14,-36 14,0 50,0 50,-36\"/>\n",
       "<text text-anchor=\"middle\" x=\"32\" y=\"-14.3\" font-family=\"Times,serif\" font-size=\"14.00\">D</text>\n",
       "</g>\n",
       "<!-- B&#45;&gt;D -->\n",
       "<g id=\"edge5\" class=\"edge\">\n",
       "<title>B&#45;&gt;D</title>\n",
       "<path fill=\"none\" stroke=\"blue\" d=\"M62.11,-71.7C57.51,-63.64 51.94,-53.89 46.85,-44.98\"/>\n",
       "<polygon fill=\"blue\" stroke=\"blue\" points=\"49.77,-43.05 41.77,-36.1 43.7,-46.52 49.77,-43.05\"/>\n",
       "</g>\n",
       "<!-- L -->\n",
       "<g id=\"node3\" class=\"node\">\n",
       "<title>L</title>\n",
       "<polygon fill=\"none\" stroke=\"black\" points=\"144,-108 108,-108 108,-72 144,-72 144,-108\"/>\n",
       "<text text-anchor=\"middle\" x=\"126\" y=\"-86.3\" font-family=\"Times,serif\" font-size=\"14.00\">L</text>\n",
       "</g>\n",
       "<!-- L&#45;&gt;S -->\n",
       "<g id=\"edge2\" class=\"edge\">\n",
       "<title>L&#45;&gt;S</title>\n",
       "<path fill=\"none\" stroke=\"brown\" d=\"M119.33,-71.7C115.14,-60.85 109.77,-46.92 105.6,-36.1\"/>\n",
       "</g>\n",
       "<!-- E -->\n",
       "<g id=\"node5\" class=\"node\">\n",
       "<title>E</title>\n",
       "<polygon fill=\"none\" stroke=\"black\" points=\"184,-36 148,-36 148,0 184,0 184,-36\"/>\n",
       "<text text-anchor=\"middle\" x=\"166\" y=\"-14.3\" font-family=\"Times,serif\" font-size=\"14.00\">E</text>\n",
       "</g>\n",
       "<!-- L&#45;&gt;E -->\n",
       "<g id=\"edge4\" class=\"edge\">\n",
       "<title>L&#45;&gt;E</title>\n",
       "<path fill=\"none\" stroke=\"blue\" d=\"M135.89,-71.7C140.49,-63.64 146.06,-53.89 151.15,-44.98\"/>\n",
       "<polygon fill=\"blue\" stroke=\"blue\" points=\"154.3,-46.52 156.23,-36.1 148.23,-43.05 154.3,-46.52\"/>\n",
       "</g>\n",
       "<!-- X -->\n",
       "<g id=\"node4\" class=\"node\">\n",
       "<title>X</title>\n",
       "<polygon fill=\"none\" stroke=\"black\" points=\"36,-108 0,-108 0,-72 36,-72 36,-108\"/>\n",
       "<text text-anchor=\"middle\" x=\"18\" y=\"-86.3\" font-family=\"Times,serif\" font-size=\"14.00\">X</text>\n",
       "</g>\n",
       "<!-- X&#45;&gt;D -->\n",
       "<g id=\"edge6\" class=\"edge\">\n",
       "<title>X&#45;&gt;D</title>\n",
       "<path fill=\"none\" stroke=\"blue\" d=\"M21.46,-71.7C23,-63.98 24.86,-54.71 26.58,-46.11\"/>\n",
       "<polygon fill=\"blue\" stroke=\"blue\" points=\"30.05,-46.6 28.58,-36.1 23.19,-45.22 30.05,-46.6\"/>\n",
       "</g>\n",
       "<!-- T -->\n",
       "<g id=\"node6\" class=\"node\">\n",
       "<title>T</title>\n",
       "<polygon fill=\"none\" stroke=\"black\" points=\"198,-108 162,-108 162,-72 198,-72 198,-108\"/>\n",
       "<text text-anchor=\"middle\" x=\"180\" y=\"-86.3\" font-family=\"Times,serif\" font-size=\"14.00\">T</text>\n",
       "</g>\n",
       "<!-- T&#45;&gt;E -->\n",
       "<g id=\"edge3\" class=\"edge\">\n",
       "<title>T&#45;&gt;E</title>\n",
       "<path fill=\"none\" stroke=\"blue\" d=\"M176.54,-71.7C175,-63.98 173.14,-54.71 171.42,-46.11\"/>\n",
       "<polygon fill=\"blue\" stroke=\"blue\" points=\"174.81,-45.22 169.42,-36.1 167.95,-46.6 174.81,-45.22\"/>\n",
       "</g>\n",
       "<!-- A -->\n",
       "<g id=\"node7\" class=\"node\">\n",
       "<title>A</title>\n",
       "<polygon fill=\"none\" stroke=\"black\" points=\"252,-108 216,-108 216,-72 252,-72 252,-108\"/>\n",
       "<text text-anchor=\"middle\" x=\"234\" y=\"-86.3\" font-family=\"Times,serif\" font-size=\"14.00\">A</text>\n",
       "</g>\n",
       "</g>\n",
       "</svg>\n"
      ],
      "text/plain": [
       "<graphviz.graphs.Digraph at 0x1801b5550>"
      ]
     },
     "execution_count": 11,
     "metadata": {},
     "output_type": "execute_result"
    }
   ],
   "source": [
    "graph = pc.graph_\n",
    "draw(graph, direction='TB')"
   ]
  },
  {
   "cell_type": "markdown",
   "id": "ff0b314b",
   "metadata": {},
   "source": [
    "The resulting graph captures some of the graph but not all of it.  The problem here is a violation of the [faithfulness assumption](https://plato.stanford.edu/entries/causal-models/#MiniFaitCond); e.g. in the Asia data, it is very hard to detect the edge between E and X. This highlights a common problem with causal discovery, where the inability to detect certain edges may lead to incorrect orientations.\n",
    "\n",
    "Beyond faithfulness violations, in general causal discovery algorithms struggle when there is no user-provided causal knowledge to constrain the problem.  A core philosophy of dodiscovery is that causal domain knowledge should be provided to constrain the problem, and providing it should be easy.  For example, for this data, we know that smoking (S) causes both lung cancer (L) and bronchitis (B) and not the other way around.\n",
    "\n",
    "## References\n",
    "\n",
    "Lauritzen S, Spiegelhalter D (1988). \"Local Computation with Probabilities on Graphical Structures and their Application to Expert Systems (with discussion)\". Journal of the Royal Statistical Society: Series B, 50(2):157–224.\n"
   ]
  }
 ],
 "metadata": {
  "kernelspec": {
   "display_name": "pywhy-discover",
   "language": "python",
   "name": "pywhy-discover"
  },
  "language_info": {
   "codemirror_mode": {
    "name": "ipython",
    "version": 3
   },
   "file_extension": ".py",
   "mimetype": "text/x-python",
   "name": "python",
   "nbconvert_exporter": "python",
   "pygments_lexer": "ipython3",
   "version": "3.9.13"
  },
  "vscode": {
   "interpreter": {
    "hash": "f69a7104467f431c4bacbebec40c4cb5787ef707a55bea5c5fb34f2af39396ab"
   }
  }
 },
 "nbformat": 4,
 "nbformat_minor": 5
}
