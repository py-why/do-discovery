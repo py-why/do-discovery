{
 "cells": [
  {
   "cell_type": "markdown",
   "metadata": {},
   "source": [
    "# Causal discovery from observational and/or interventional data across multiple domains\n",
    "\n",
    "Causal discovery algorithms such as the PC, FCI and GeS algorithm typically assume data is iid and come from a single distribution (i.e. a single domain). In the real world, causal structure is typically shared among similar domains, but the distributional functions may differ (e.g. one domain may have Gaussian noise, whereas another domain has Poisson noise).\n",
    "\n",
    "The S-FCI algorithm is introduced as a constraint-based discovery method that is a generalization of the FCI algorithm and moreover a generalization of the I-FCI/$\\Psi$-FCI algorithms. It correctly leverages data across distributions to learn a S-PAG, which is a Markov equivalence class of augmented selection diagrams. Augmented selection diagrams are selection diagrams with additional F-nodes indicating interventional distributions in any specified domain. \n",
    "\n",
    "Here, we demonstrate how the S-FCI algorithm typically learns more compared to its predecessors on simulated data stemming from a real experiment. \n",
    "\n",
    "This is done because one of the challenges of evaluating modern causal discovery is the lack of a suite of datasets that have multiple domains, and various types of interventions, and an accepted ground-truth graph.\n",
    "\n",
    "## Pseudo-Real Data: Protein Sequencing Experiment\n",
    "\n",
    "The famous Sachs dataset [2]_ is a wet-lab experiment dataset where protein expression level were observed in resting-state and then proteins were perturbed in various scenarios to obtain interventional data. This dataset can be viewed as observational and interventional data stemming from a single domain.\n",
    "\n",
    "The ground truth graph that we will assume is true is: https://www.bnlearn.com/research/sachs05/\n",
    "\n",
    "We will create an in-silico multi-domain dataset from the real data. We will do this by i) specifying at random nodes that are \"latent\", causing latent confounders and ii) choosing random nodes with S-nodes pointing to them causing shifts in distribution from source to target domain.\n",
    "\n",
    "### Setup\n",
    "\n",
    "The setup we will first consider the ground-truth graph"
   ]
  },
  {
   "cell_type": "code",
   "execution_count": 1,
   "metadata": {},
   "outputs": [],
   "source": [
    "%load_ext autoreload\n",
    "%autoreload 2\n",
    "%load_ext lab_black"
   ]
  },
  {
   "cell_type": "code",
   "execution_count": 2,
   "metadata": {},
   "outputs": [],
   "source": [
    "from IPython.display import display_svg"
   ]
  },
  {
   "cell_type": "code",
   "execution_count": 3,
   "metadata": {},
   "outputs": [],
   "source": [
    "from pprint import pprint\n",
    "import numpy as np\n",
    "import scipy\n",
    "import pandas as pd\n",
    "import collections\n",
    "from itertools import combinations\n",
    "import bnlearn\n",
    "import pooch\n",
    "from cdt.data import load_dataset\n",
    "\n",
    "from pywhy_graphs.functional import (\n",
    "    make_graph_linear_gaussian,\n",
    "    make_graph_multidomain,\n",
    "    set_node_attributes_with_G,\n",
    "    apply_linear_soft_intervention,\n",
    "    sample_multidomain_lin_functions,\n",
    ")\n",
    "from pywhy_graphs.classes import AugmentedGraph\n",
    "from pywhy_graphs.viz import draw\n",
    "\n",
    "from dodiscover.cd import KernelCDTest\n",
    "from dodiscover.ci import KernelCITest, FisherZCITest, Oracle, GSquareCITest\n",
    "from dodiscover.constraint.skeleton import LearnMultiDomainSkeleton\n",
    "from dodiscover.datasets import sample_from_graph\n",
    "\n",
    "from dodiscover import PsiFCI, SFCI, Context, make_context, InterventionalContextBuilder"
   ]
  },
  {
   "cell_type": "code",
   "execution_count": 4,
   "metadata": {},
   "outputs": [],
   "source": [
    "seed = 1234\n",
    "rng = np.random.default_rng(seed)\n",
    "n_jobs = -1"
   ]
  },
  {
   "cell_type": "code",
   "execution_count": 5,
   "metadata": {},
   "outputs": [],
   "source": [
    "alpha = 0.05"
   ]
  },
  {
   "cell_type": "markdown",
   "metadata": {},
   "source": [
    "# Load the data"
   ]
  },
  {
   "cell_type": "code",
   "execution_count": 119,
   "metadata": {},
   "outputs": [],
   "source": [
    "# use pooch to download robustly from a url\n",
    "url = \"https://www.bnlearn.com/book-crc/code/sachs.interventional.txt.gz\"\n",
    "file_path = pooch.retrieve(\n",
    "    url=url,\n",
    "    known_hash=\"md5:39ee257f7eeb94cb60e6177cf80c9544\",\n",
    ")\n",
    "\n",
    "df = pd.read_csv(file_path, delimiter=\" \")"
   ]
  },
  {
   "cell_type": "code",
   "execution_count": 7,
   "metadata": {},
   "outputs": [],
   "source": [
    "# download purely observational data\n",
    "# data = bnlearn.import_example(data=\"sachs\", n=10000, verbose=3)"
   ]
  },
  {
   "cell_type": "code",
   "execution_count": 122,
   "metadata": {},
   "outputs": [
    {
     "name": "stdout",
     "output_type": "stream",
     "text": [
      "   Raf  Mek  Plcg  PIP2  PIP3  Erk  Akt  PKA  PKC  P38  Jnk  INT\n",
      "0    1    1     1     2     3    2    1    3    1    2    1    8\n",
      "1    1    1     1     1     3    3    2    3    1    2    1    8\n",
      "2    1    1     2     2     3    2    1    3    2    1    1    8\n",
      "3    1    1     1     1     3    2    1    3    1    3    1    8\n",
      "4    1    1     1     1     3    2    1    3    1    1    1    8\n",
      "(5400, 12)\n"
     ]
    }
   ],
   "source": [
    "print(df.head())\n",
    "print(df.shape)"
   ]
  },
  {
   "cell_type": "code",
   "execution_count": 121,
   "metadata": {},
   "outputs": [
    {
     "data": {
      "text/plain": [
       "Raf              [1, 3, 2]\n",
       "Mek              [1, 2, 3]\n",
       "Plcg             [1, 2, 3]\n",
       "PIP2             [2, 1, 3]\n",
       "PIP3             [3, 2, 1]\n",
       "Erk              [2, 3, 1]\n",
       "Akt              [1, 2, 3]\n",
       "PKA              [3, 2, 1]\n",
       "PKC              [1, 2, 3]\n",
       "P38              [2, 1, 3]\n",
       "Jnk              [1, 2, 3]\n",
       "INT     [8, 0, 7, 9, 4, 2]\n",
       "dtype: object"
      ]
     },
     "execution_count": 121,
     "metadata": {},
     "output_type": "execute_result"
    }
   ],
   "source": [
    "df.apply(lambda x: x.unique())"
   ]
  },
  {
   "cell_type": "code",
   "execution_count": 123,
   "metadata": {},
   "outputs": [
    {
     "name": "stdout",
     "output_type": "stream",
     "text": [
      "['PKC', 'Raf', 'PKA', 'P38', 'PIP3', 'Plcg']\n"
     ]
    }
   ],
   "source": [
    "perturbations = [df.columns[perturbed_col] for perturbed_col in df[\"INT\"].unique()]\n",
    "n_proteins = len(df.columns) - 1\n",
    "\n",
    "print(perturbations)"
   ]
  },
  {
   "cell_type": "code",
   "execution_count": 10,
   "metadata": {},
   "outputs": [],
   "source": [
    "# the ground-truth dag is shown here: XXX: comment in when errors are fixed\n",
    "ground_truth_dag = bnlearn.import_DAG(\"sachs\", verbose=False)"
   ]
  },
  {
   "cell_type": "code",
   "execution_count": 11,
   "metadata": {},
   "outputs": [
    {
     "data": {
      "image/svg+xml": [
       "<?xml version=\"1.0\" encoding=\"UTF-8\" standalone=\"no\"?>\n",
       "<!DOCTYPE svg PUBLIC \"-//W3C//DTD SVG 1.1//EN\"\n",
       " \"http://www.w3.org/Graphics/SVG/1.1/DTD/svg11.dtd\">\n",
       "<!-- Generated by graphviz version 5.0.0 (20220707.1540)\n",
       " -->\n",
       "<!-- Pages: 1 -->\n",
       "<svg width=\"401pt\" height=\"506pt\"\n",
       " viewBox=\"0.00 0.00 400.76 506.47\" xmlns=\"http://www.w3.org/2000/svg\" xmlns:xlink=\"http://www.w3.org/1999/xlink\">\n",
       "<g id=\"graph0\" class=\"graph\" transform=\"scale(1 1) rotate(0) translate(4 502.47)\">\n",
       "<polygon fill=\"white\" stroke=\"transparent\" points=\"-4,4 -4,-502.47 396.76,-502.47 396.76,4 -4,4\"/>\n",
       "<!-- Erk -->\n",
       "<g id=\"node1\" class=\"node\">\n",
       "<title>Erk</title>\n",
       "<ellipse fill=\"none\" stroke=\"black\" cx=\"113.82\" cy=\"-107.49\" rx=\"23.3\" ry=\"23.3\"/>\n",
       "<text text-anchor=\"middle\" x=\"113.82\" y=\"-103.79\" font-family=\"Times,serif\" font-size=\"14.00\">Erk</text>\n",
       "</g>\n",
       "<!-- Akt -->\n",
       "<g id=\"node4\" class=\"node\">\n",
       "<title>Akt</title>\n",
       "<ellipse fill=\"none\" stroke=\"black\" cx=\"138.82\" cy=\"-24.05\" rx=\"24.1\" ry=\"24.1\"/>\n",
       "<text text-anchor=\"middle\" x=\"138.82\" y=\"-20.35\" font-family=\"Times,serif\" font-size=\"14.00\">Akt</text>\n",
       "</g>\n",
       "<!-- Erk&#45;&gt;Akt -->\n",
       "<g id=\"edge3\" class=\"edge\">\n",
       "<title>Erk&#45;&gt;Akt</title>\n",
       "<path fill=\"none\" stroke=\"blue\" d=\"M120.51,-84.67C123.13,-76.16 126.18,-66.23 129.03,-56.94\"/>\n",
       "<polygon fill=\"blue\" stroke=\"blue\" points=\"132.42,-57.8 132.01,-47.22 125.73,-55.75 132.42,-57.8\"/>\n",
       "</g>\n",
       "<!-- PKA -->\n",
       "<g id=\"node2\" class=\"node\">\n",
       "<title>PKA</title>\n",
       "<ellipse fill=\"none\" stroke=\"black\" cx=\"135.82\" cy=\"-377.98\" rx=\"28.7\" ry=\"28.7\"/>\n",
       "<text text-anchor=\"middle\" x=\"135.82\" y=\"-374.28\" font-family=\"Times,serif\" font-size=\"14.00\">PKA</text>\n",
       "</g>\n",
       "<!-- PKA&#45;&gt;Erk -->\n",
       "<g id=\"edge1\" class=\"edge\">\n",
       "<title>PKA&#45;&gt;Erk</title>\n",
       "<path fill=\"none\" stroke=\"blue\" d=\"M133.54,-349.26C129.46,-299.37 120.88,-194.71 116.51,-141.32\"/>\n",
       "<polygon fill=\"blue\" stroke=\"blue\" points=\"119.97,-140.74 115.66,-131.06 112.99,-141.31 119.97,-140.74\"/>\n",
       "</g>\n",
       "<!-- Mek -->\n",
       "<g id=\"node3\" class=\"node\">\n",
       "<title>Mek</title>\n",
       "<ellipse fill=\"none\" stroke=\"black\" cx=\"54.82\" cy=\"-194.19\" rx=\"27.1\" ry=\"27.1\"/>\n",
       "<text text-anchor=\"middle\" x=\"54.82\" y=\"-190.49\" font-family=\"Times,serif\" font-size=\"14.00\">Mek</text>\n",
       "</g>\n",
       "<!-- PKA&#45;&gt;Mek -->\n",
       "<g id=\"edge6\" class=\"edge\">\n",
       "<title>PKA&#45;&gt;Mek</title>\n",
       "<path fill=\"none\" stroke=\"blue\" d=\"M124.38,-351.32C110.11,-319.29 85.67,-264.43 69.88,-229\"/>\n",
       "<polygon fill=\"blue\" stroke=\"blue\" points=\"72.94,-227.27 65.67,-219.56 66.55,-230.12 72.94,-227.27\"/>\n",
       "</g>\n",
       "<!-- PKA&#45;&gt;Akt -->\n",
       "<g id=\"edge4\" class=\"edge\">\n",
       "<title>PKA&#45;&gt;Akt</title>\n",
       "<path fill=\"none\" stroke=\"blue\" d=\"M139.41,-349.48C140.72,-338.3 142.07,-325.24 142.82,-313.38 149.23,-211.67 151.82,-185.83 145.82,-84.1 145.31,-75.6 144.41,-66.45 143.41,-57.95\"/>\n",
       "<polygon fill=\"blue\" stroke=\"blue\" points=\"146.88,-57.48 142.17,-47.99 139.93,-58.34 146.88,-57.48\"/>\n",
       "</g>\n",
       "<!-- Raf -->\n",
       "<g id=\"node6\" class=\"node\">\n",
       "<title>Raf</title>\n",
       "<ellipse fill=\"none\" stroke=\"black\" cx=\"37.82\" cy=\"-285.43\" rx=\"23.3\" ry=\"23.3\"/>\n",
       "<text text-anchor=\"middle\" x=\"37.82\" y=\"-281.73\" font-family=\"Times,serif\" font-size=\"14.00\">Raf</text>\n",
       "</g>\n",
       "<!-- PKA&#45;&gt;Raf -->\n",
       "<g id=\"edge11\" class=\"edge\">\n",
       "<title>PKA&#45;&gt;Raf</title>\n",
       "<path fill=\"none\" stroke=\"blue\" d=\"M115.03,-357.78C99.58,-343.5 78.45,-323.98 62.2,-308.97\"/>\n",
       "<polygon fill=\"blue\" stroke=\"blue\" points=\"64.38,-306.21 54.66,-302 59.63,-311.36 64.38,-306.21\"/>\n",
       "</g>\n",
       "<!-- Jnk -->\n",
       "<g id=\"node7\" class=\"node\">\n",
       "<title>Jnk</title>\n",
       "<ellipse fill=\"none\" stroke=\"black\" cx=\"215.82\" cy=\"-285.43\" rx=\"23\" ry=\"23\"/>\n",
       "<text text-anchor=\"middle\" x=\"215.82\" y=\"-281.73\" font-family=\"Times,serif\" font-size=\"14.00\">Jnk</text>\n",
       "</g>\n",
       "<!-- PKA&#45;&gt;Jnk -->\n",
       "<g id=\"edge9\" class=\"edge\">\n",
       "<title>PKA&#45;&gt;Jnk</title>\n",
       "<path fill=\"none\" stroke=\"blue\" d=\"M154.37,-355.98C166.25,-342.53 181.72,-325.02 194.17,-310.93\"/>\n",
       "<polygon fill=\"blue\" stroke=\"blue\" points=\"197.1,-312.91 201.1,-303.09 191.85,-308.27 197.1,-312.91\"/>\n",
       "</g>\n",
       "<!-- P38 -->\n",
       "<g id=\"node8\" class=\"node\">\n",
       "<title>P38</title>\n",
       "<ellipse fill=\"none\" stroke=\"black\" cx=\"280.82\" cy=\"-285.43\" rx=\"24.9\" ry=\"24.9\"/>\n",
       "<text text-anchor=\"middle\" x=\"280.82\" y=\"-281.73\" font-family=\"Times,serif\" font-size=\"14.00\">P38</text>\n",
       "</g>\n",
       "<!-- PKA&#45;&gt;P38 -->\n",
       "<g id=\"edge13\" class=\"edge\">\n",
       "<title>PKA&#45;&gt;P38</title>\n",
       "<path fill=\"none\" stroke=\"blue\" d=\"M161.01,-364.24C184.19,-352.15 219.22,-332.97 247.82,-313.38 249.95,-311.92 252.12,-310.35 254.27,-308.74\"/>\n",
       "<polygon fill=\"blue\" stroke=\"blue\" points=\"256.67,-311.31 262.39,-302.39 252.36,-305.79 256.67,-311.31\"/>\n",
       "</g>\n",
       "<!-- Mek&#45;&gt;Erk -->\n",
       "<g id=\"edge2\" class=\"edge\">\n",
       "<title>Mek&#45;&gt;Erk</title>\n",
       "<path fill=\"none\" stroke=\"blue\" d=\"M70.01,-171.38C77.63,-160.44 86.93,-147.09 94.99,-135.52\"/>\n",
       "<polygon fill=\"blue\" stroke=\"blue\" points=\"98.03,-137.28 100.87,-127.07 92.28,-133.28 98.03,-137.28\"/>\n",
       "</g>\n",
       "<!-- PKC -->\n",
       "<g id=\"node5\" class=\"node\">\n",
       "<title>PKC</title>\n",
       "<ellipse fill=\"none\" stroke=\"black\" cx=\"135.82\" cy=\"-470.52\" rx=\"27.9\" ry=\"27.9\"/>\n",
       "<text text-anchor=\"middle\" x=\"135.82\" y=\"-466.82\" font-family=\"Times,serif\" font-size=\"14.00\">PKC</text>\n",
       "</g>\n",
       "<!-- PKC&#45;&gt;PKA -->\n",
       "<g id=\"edge5\" class=\"edge\">\n",
       "<title>PKC&#45;&gt;PKA</title>\n",
       "<path fill=\"none\" stroke=\"blue\" d=\"M135.82,-442.36C135.82,-434.36 135.82,-425.46 135.82,-416.91\"/>\n",
       "<polygon fill=\"blue\" stroke=\"blue\" points=\"139.32,-416.75 135.82,-406.75 132.32,-416.75 139.32,-416.75\"/>\n",
       "</g>\n",
       "<!-- PKC&#45;&gt;Mek -->\n",
       "<g id=\"edge7\" class=\"edge\">\n",
       "<title>PKC&#45;&gt;Mek</title>\n",
       "<path fill=\"none\" stroke=\"blue\" d=\"M113.78,-453.15C81.67,-427.62 23.88,-374.8 5.82,-313.38 -1.19,-289.55 -2.31,-280.96 5.82,-257.49 10.48,-244.02 19.39,-231.25 28.35,-220.82\"/>\n",
       "<polygon fill=\"blue\" stroke=\"blue\" points=\"31.02,-223.08 35.14,-213.32 25.83,-218.38 31.02,-223.08\"/>\n",
       "</g>\n",
       "<!-- PKC&#45;&gt;Raf -->\n",
       "<g id=\"edge12\" class=\"edge\">\n",
       "<title>PKC&#45;&gt;Raf</title>\n",
       "<path fill=\"none\" stroke=\"blue\" d=\"M121.29,-446.47C114.01,-434.67 105.2,-420 97.82,-406.58 81.14,-376.28 63.65,-340.77 51.88,-316.25\"/>\n",
       "<polygon fill=\"blue\" stroke=\"blue\" points=\"54.98,-314.62 47.52,-307.1 48.67,-317.63 54.98,-314.62\"/>\n",
       "</g>\n",
       "<!-- PKC&#45;&gt;Jnk -->\n",
       "<g id=\"edge10\" class=\"edge\">\n",
       "<title>PKC&#45;&gt;Jnk</title>\n",
       "<path fill=\"none\" stroke=\"blue\" d=\"M151.07,-446.84C158.54,-435.14 167.29,-420.44 173.82,-406.58 187.56,-377.36 199.3,-342.35 206.84,-317.69\"/>\n",
       "<polygon fill=\"blue\" stroke=\"blue\" points=\"210.29,-318.38 209.81,-307.79 203.58,-316.36 210.29,-318.38\"/>\n",
       "</g>\n",
       "<!-- PKC&#45;&gt;P38 -->\n",
       "<g id=\"edge14\" class=\"edge\">\n",
       "<title>PKC&#45;&gt;P38</title>\n",
       "<path fill=\"none\" stroke=\"blue\" d=\"M156.09,-451.13C168.95,-439.02 185.59,-422.52 198.82,-406.58 223.08,-377.32 247.16,-340.93 262.88,-315.92\"/>\n",
       "<polygon fill=\"blue\" stroke=\"blue\" points=\"265.96,-317.59 268.28,-307.25 260.02,-313.89 265.96,-317.59\"/>\n",
       "</g>\n",
       "<!-- Raf&#45;&gt;Mek -->\n",
       "<g id=\"edge8\" class=\"edge\">\n",
       "<title>Raf&#45;&gt;Mek</title>\n",
       "<path fill=\"none\" stroke=\"blue\" d=\"M42.02,-262.37C43.82,-252.91 45.97,-241.6 48,-230.99\"/>\n",
       "<polygon fill=\"blue\" stroke=\"blue\" points=\"51.44,-231.59 49.88,-221.11 44.57,-230.28 51.44,-231.59\"/>\n",
       "</g>\n",
       "<!-- PIP3 -->\n",
       "<g id=\"node9\" class=\"node\">\n",
       "<title>PIP3</title>\n",
       "<ellipse fill=\"none\" stroke=\"black\" cx=\"315.82\" cy=\"-377.98\" rx=\"27.9\" ry=\"27.9\"/>\n",
       "<text text-anchor=\"middle\" x=\"315.82\" y=\"-374.28\" font-family=\"Times,serif\" font-size=\"14.00\">PIP3</text>\n",
       "</g>\n",
       "<!-- PIP2 -->\n",
       "<g id=\"node11\" class=\"node\">\n",
       "<title>PIP2</title>\n",
       "<ellipse fill=\"none\" stroke=\"black\" cx=\"364.82\" cy=\"-285.43\" rx=\"27.9\" ry=\"27.9\"/>\n",
       "<text text-anchor=\"middle\" x=\"364.82\" y=\"-281.73\" font-family=\"Times,serif\" font-size=\"14.00\">PIP2</text>\n",
       "</g>\n",
       "<!-- PIP3&#45;&gt;PIP2 -->\n",
       "<g id=\"edge16\" class=\"edge\">\n",
       "<title>PIP3&#45;&gt;PIP2</title>\n",
       "<path fill=\"none\" stroke=\"blue\" d=\"M328.95,-352.71C334.48,-342.48 341.02,-330.41 346.98,-319.4\"/>\n",
       "<polygon fill=\"blue\" stroke=\"blue\" points=\"350.14,-320.91 351.82,-310.45 343.98,-317.58 350.14,-320.91\"/>\n",
       "</g>\n",
       "<!-- Plcg -->\n",
       "<g id=\"node10\" class=\"node\">\n",
       "<title>Plcg</title>\n",
       "<ellipse fill=\"none\" stroke=\"black\" cx=\"343.82\" cy=\"-470.52\" rx=\"26.8\" ry=\"26.8\"/>\n",
       "<text text-anchor=\"middle\" x=\"343.82\" y=\"-466.82\" font-family=\"Times,serif\" font-size=\"14.00\">Plcg</text>\n",
       "</g>\n",
       "<!-- Plcg&#45;&gt;PIP3 -->\n",
       "<g id=\"edge15\" class=\"edge\">\n",
       "<title>Plcg&#45;&gt;PIP3</title>\n",
       "<path fill=\"none\" stroke=\"blue\" d=\"M336.16,-444.78C333.3,-435.51 329.98,-424.79 326.87,-414.72\"/>\n",
       "<polygon fill=\"blue\" stroke=\"blue\" points=\"330.15,-413.48 323.85,-404.96 323.46,-415.54 330.15,-413.48\"/>\n",
       "</g>\n",
       "<!-- Plcg&#45;&gt;PIP2 -->\n",
       "<g id=\"edge17\" class=\"edge\">\n",
       "<title>Plcg&#45;&gt;PIP2</title>\n",
       "<path fill=\"none\" stroke=\"blue\" d=\"M347.7,-444.14C349.38,-432.68 351.31,-418.96 352.82,-406.58 356.18,-378.84 359.3,-347.42 361.51,-323.67\"/>\n",
       "<polygon fill=\"blue\" stroke=\"blue\" points=\"365,-323.95 362.43,-313.67 358.03,-323.31 365,-323.95\"/>\n",
       "</g>\n",
       "</g>\n",
       "</svg>\n"
      ],
      "text/plain": [
       "<graphviz.graphs.Digraph at 0x1869ad880>"
      ]
     },
     "execution_count": 11,
     "metadata": {},
     "output_type": "execute_result"
    }
   ],
   "source": [
    "ground_truth_G = ground_truth_dag[\"model\"].to_directed()\n",
    "G = draw(ground_truth_G, direction=\"TD\", shape=\"circle\")\n",
    "G\n",
    "# G.render(\n",
    "#     outfile=\"/Users/adam2392/Dropbox/Apps/Overleaf/Learning selection diagrams (observational)/Figures/Appendix/ground_truth_sachs_bnlearn.pdf\",\n",
    "#     format=\"pdf\",\n",
    "#     cleanup=True,\n",
    "# )\n",
    "# ['PKC', 'Raf', 'PKA', 'P38', 'PIP3', 'Plcg']"
   ]
  },
  {
   "cell_type": "markdown",
   "metadata": {},
   "source": [
    "# Generate Artificial Multi-Domain Discrete Interventional Dataset"
   ]
  },
  {
   "cell_type": "code",
   "execution_count": 124,
   "metadata": {},
   "outputs": [
    {
     "name": "stdout",
     "output_type": "stream",
     "text": [
      "[0.18575566 0.13968558 0.67455876]\n",
      "1.0\n"
     ]
    }
   ],
   "source": [
    "rng = np.random.default_rng(seed)\n",
    "\n",
    "# generate now bernoulli probability exogenous per protein\n",
    "prior_protein_exp = rng.dirichlet(\n",
    "    rng.standard_gamma(rng.integers(1, 4), size=3), 1\n",
    ").squeeze()\n",
    "\n",
    "outcome_values = np.array([1, 2, 3])\n",
    "nodes_to_resample = np.array([\"Erk\", \"Mek\", \"PIP2\"])\n",
    "\n",
    "print(prior_protein_exp)\n",
    "print(prior_protein_exp.sum(axis=0))"
   ]
  },
  {
   "cell_type": "code",
   "execution_count": 144,
   "metadata": {},
   "outputs": [],
   "source": [
    "def resample_dataset(\n",
    "    G,\n",
    "    df,\n",
    "    prior_multi_dist,\n",
    "    nodes_to_resample,\n",
    "    outcome_values,\n",
    "    n_samples=1000,\n",
    "    seed=12345,\n",
    "):\n",
    "    rng = np.random.default_rng(seed)\n",
    "\n",
    "    new_df = np.zeros((n_samples, len(df.columns)))\n",
    "    for idx in range(n_samples):\n",
    "        row_idx = rng.integers(0, len(df))\n",
    "\n",
    "        new_df[idx, :] = df.iloc[row_idx, :]\n",
    "\n",
    "        for jdx, node in enumerate(nodes_to_resample):\n",
    "            prior_dist = prior_multi_dist\n",
    "            col_idx = np.argwhere(df.columns == node).squeeze()\n",
    "\n",
    "            # sample which index from 1, 2, or 3 it hit\n",
    "            new_sample_idx = rng.multinomial(1, pvals=prior_dist, size=1).squeeze()\n",
    "            new_sample = outcome_values[np.argwhere(new_sample_idx == 1).squeeze()]\n",
    "            new_df[idx, col_idx] = new_sample\n",
    "\n",
    "            # print(\"new sample for \", node, new_sample)\n",
    "            # sample the children according to a re-weighted Dirichlet distribution\n",
    "            children = list(G.successors(node))\n",
    "            for child in children:\n",
    "                child_prior = prior_multi_dist.copy()\n",
    "                child_prior[new_sample_idx] *= new_sample\n",
    "                child_prior = rng.dirichlet(child_prior, 1)\n",
    "\n",
    "                child_idx = np.argwhere(df.columns == child).squeeze()\n",
    "\n",
    "                # sample which index from 1, 2, or 3 it hit for children\n",
    "                child_sample_idx = rng.multinomial(\n",
    "                    1, pvals=child_prior, size=1\n",
    "                ).squeeze()\n",
    "                child_sample = outcome_values[\n",
    "                    np.argwhere(child_sample_idx == 1).squeeze()\n",
    "                ]\n",
    "                new_df[idx, child_idx] = child_sample\n",
    "                # print(\"New sample for \", child, child_sample)\n",
    "\n",
    "    new_df = pd.DataFrame(new_df)\n",
    "    new_df.columns = df.columns\n",
    "    return new_df"
   ]
  },
  {
   "cell_type": "code",
   "execution_count": 145,
   "metadata": {},
   "outputs": [
    {
     "name": "stdout",
     "output_type": "stream",
     "text": [
      "[1 2 3]\n",
      "['Erk' 'Mek' 'PIP2']\n"
     ]
    }
   ],
   "source": [
    "print(outcome_values)\n",
    "print(nodes_to_resample)"
   ]
  },
  {
   "cell_type": "code",
   "execution_count": 146,
   "metadata": {},
   "outputs": [],
   "source": [
    "new_df = resample_dataset(\n",
    "    ground_truth_G,\n",
    "    df,\n",
    "    prior_multi_dist=prior_protein_exp,\n",
    "    nodes_to_resample=nodes_to_resample,\n",
    "    outcome_values=outcome_values,\n",
    "    n_samples=5000,\n",
    "    seed=12345,\n",
    ")"
   ]
  },
  {
   "cell_type": "code",
   "execution_count": 147,
   "metadata": {},
   "outputs": [
    {
     "name": "stdout",
     "output_type": "stream",
     "text": [
      "(5000, 12)\n",
      "Raf                    [1.0, 2.0, 3.0]\n",
      "Mek                    [1.0, 3.0, 2.0]\n",
      "Plcg                   [1.0, 3.0, 2.0]\n",
      "PIP2                   [3.0, 2.0, 1.0]\n",
      "PIP3                   [1.0, 3.0, 2.0]\n",
      "Erk                    [3.0, 1.0, 2.0]\n",
      "Akt                    [3.0, 1.0, 2.0]\n",
      "PKA                    [2.0, 1.0, 3.0]\n",
      "PKC                    [2.0, 1.0, 3.0]\n",
      "P38                    [1.0, 2.0, 3.0]\n",
      "Jnk                    [2.0, 1.0, 3.0]\n",
      "INT     [0.0, 7.0, 4.0, 9.0, 8.0, 2.0]\n",
      "dtype: object\n"
     ]
    },
    {
     "data": {
      "text/html": [
       "<div>\n",
       "<style scoped>\n",
       "    .dataframe tbody tr th:only-of-type {\n",
       "        vertical-align: middle;\n",
       "    }\n",
       "\n",
       "    .dataframe tbody tr th {\n",
       "        vertical-align: top;\n",
       "    }\n",
       "\n",
       "    .dataframe thead th {\n",
       "        text-align: right;\n",
       "    }\n",
       "</style>\n",
       "<table border=\"1\" class=\"dataframe\">\n",
       "  <thead>\n",
       "    <tr style=\"text-align: right;\">\n",
       "      <th></th>\n",
       "      <th>Raf</th>\n",
       "      <th>Mek</th>\n",
       "      <th>Plcg</th>\n",
       "      <th>PIP2</th>\n",
       "      <th>PIP3</th>\n",
       "      <th>Erk</th>\n",
       "      <th>Akt</th>\n",
       "      <th>PKA</th>\n",
       "      <th>PKC</th>\n",
       "      <th>P38</th>\n",
       "      <th>Jnk</th>\n",
       "      <th>INT</th>\n",
       "    </tr>\n",
       "  </thead>\n",
       "  <tbody>\n",
       "    <tr>\n",
       "      <th>0</th>\n",
       "      <td>1.0</td>\n",
       "      <td>1.0</td>\n",
       "      <td>1.0</td>\n",
       "      <td>3.0</td>\n",
       "      <td>1.0</td>\n",
       "      <td>3.0</td>\n",
       "      <td>3.0</td>\n",
       "      <td>2.0</td>\n",
       "      <td>2.0</td>\n",
       "      <td>1.0</td>\n",
       "      <td>2.0</td>\n",
       "      <td>0.0</td>\n",
       "    </tr>\n",
       "    <tr>\n",
       "      <th>1</th>\n",
       "      <td>1.0</td>\n",
       "      <td>1.0</td>\n",
       "      <td>1.0</td>\n",
       "      <td>2.0</td>\n",
       "      <td>3.0</td>\n",
       "      <td>1.0</td>\n",
       "      <td>3.0</td>\n",
       "      <td>2.0</td>\n",
       "      <td>2.0</td>\n",
       "      <td>1.0</td>\n",
       "      <td>1.0</td>\n",
       "      <td>7.0</td>\n",
       "    </tr>\n",
       "    <tr>\n",
       "      <th>2</th>\n",
       "      <td>2.0</td>\n",
       "      <td>3.0</td>\n",
       "      <td>1.0</td>\n",
       "      <td>3.0</td>\n",
       "      <td>1.0</td>\n",
       "      <td>1.0</td>\n",
       "      <td>1.0</td>\n",
       "      <td>2.0</td>\n",
       "      <td>2.0</td>\n",
       "      <td>2.0</td>\n",
       "      <td>2.0</td>\n",
       "      <td>4.0</td>\n",
       "    </tr>\n",
       "    <tr>\n",
       "      <th>3</th>\n",
       "      <td>3.0</td>\n",
       "      <td>3.0</td>\n",
       "      <td>1.0</td>\n",
       "      <td>3.0</td>\n",
       "      <td>3.0</td>\n",
       "      <td>1.0</td>\n",
       "      <td>3.0</td>\n",
       "      <td>2.0</td>\n",
       "      <td>1.0</td>\n",
       "      <td>1.0</td>\n",
       "      <td>1.0</td>\n",
       "      <td>7.0</td>\n",
       "    </tr>\n",
       "    <tr>\n",
       "      <th>4</th>\n",
       "      <td>1.0</td>\n",
       "      <td>3.0</td>\n",
       "      <td>1.0</td>\n",
       "      <td>2.0</td>\n",
       "      <td>2.0</td>\n",
       "      <td>1.0</td>\n",
       "      <td>2.0</td>\n",
       "      <td>2.0</td>\n",
       "      <td>2.0</td>\n",
       "      <td>1.0</td>\n",
       "      <td>2.0</td>\n",
       "      <td>0.0</td>\n",
       "    </tr>\n",
       "  </tbody>\n",
       "</table>\n",
       "</div>"
      ],
      "text/plain": [
       "   Raf  Mek  Plcg  PIP2  PIP3  Erk  Akt  PKA  PKC  P38  Jnk  INT\n",
       "0  1.0  1.0   1.0   3.0   1.0  3.0  3.0  2.0  2.0  1.0  2.0  0.0\n",
       "1  1.0  1.0   1.0   2.0   3.0  1.0  3.0  2.0  2.0  1.0  1.0  7.0\n",
       "2  2.0  3.0   1.0   3.0   1.0  1.0  1.0  2.0  2.0  2.0  2.0  4.0\n",
       "3  3.0  3.0   1.0   3.0   3.0  1.0  3.0  2.0  1.0  1.0  1.0  7.0\n",
       "4  1.0  3.0   1.0   2.0   2.0  1.0  2.0  2.0  2.0  1.0  2.0  0.0"
      ]
     },
     "metadata": {},
     "output_type": "display_data"
    }
   ],
   "source": [
    "print(new_df.shape)\n",
    "print(new_df.apply(lambda x: x.unique()))\n",
    "display(new_df.head())"
   ]
  },
  {
   "cell_type": "code",
   "execution_count": 150,
   "metadata": {},
   "outputs": [
    {
     "name": "stdout",
     "output_type": "stream",
     "text": [
      "12 12 12\n"
     ]
    }
   ],
   "source": [
    "# %%\n",
    "# Preprocess the dataset\n",
    "# ----------------------\n",
    "# Since the data is one dataframe, we need to process it into a form\n",
    "# that is acceptable by dodiscover's :class:`constraint.PsiFCI` algorithm. We\n",
    "# will form a list of separate dataframes.\n",
    "unique_ints = df[\"INT\"].unique()\n",
    "\n",
    "# get the list of intervention targets and list of dataframe associated with each intervention\n",
    "intervention_targets = []\n",
    "data_cols = [col for col in df.columns if col != \"INT\"]\n",
    "data = []\n",
    "domain_ids = []\n",
    "for interv_idx in unique_ints:\n",
    "    _data = df[df[\"INT\"] == interv_idx][data_cols]\n",
    "    data.append(_data)\n",
    "    intervention_targets.append(df.columns[interv_idx])\n",
    "    domain_ids.append(1)\n",
    "\n",
    "    # append second domain\n",
    "    _data = new_df[new_df[\"INT\"] == interv_idx][data_cols]\n",
    "    data.append(_data)\n",
    "    intervention_targets.append(df.columns[interv_idx])\n",
    "    domain_ids.append(2)\n",
    "\n",
    "print(len(data), len(intervention_targets), len(domain_ids))"
   ]
  },
  {
   "cell_type": "code",
   "execution_count": 149,
   "metadata": {},
   "outputs": [
    {
     "ename": "Exception",
     "evalue": "only integers, slices (`:`), ellipsis (`...`), numpy.newaxis (`None`) and integer or boolean arrays are valid indices",
     "output_type": "error",
     "traceback": [
      "\u001b[0;31m---------------------------------------------------------------------------\u001b[0m",
      "\u001b[0;31m_RemoteTraceback\u001b[0m                          Traceback (most recent call last)",
      "\u001b[0;31m_RemoteTraceback\u001b[0m: \n\"\"\"\nTraceback (most recent call last):\n  File \"/Users/adam2392/Documents/dodiscover/dodiscover/constraint/skeleton.py\", line 112, in _test_xy_edges\n    test_stat, pvalue = parallel_fun(\n  File \"/Users/adam2392/Documents/dodiscover/dodiscover/constraint/skeleton.py\", line 692, in evaluate_edge\n    test_stat, pvalue = conditional_test_func.test(data, set({X}), set({Y}), Z, **kwargs)\n  File \"/Users/adam2392/Documents/dodiscover/dodiscover/ci/g_test.py\", line 459, in test\n    stat, pvalue = g_square_discrete(df, x_var, y_var, z_covariates, levels=self.levels)\n  File \"/Users/adam2392/Documents/dodiscover/dodiscover/ci/g_test.py\", line 362, in g_square_discrete\n    contingency_tble = _calculate_contingency_tble(\n  File \"/Users/adam2392/Documents/dodiscover/dodiscover/ci/g_test.py\", line 80, in _calculate_contingency_tble\n    contingency_tble[idx, jdx, kdx] += 1\nIndexError: only integers, slices (`:`), ellipsis (`...`), numpy.newaxis (`None`) and integer or boolean arrays are valid indices\n\nDuring handling of the above exception, another exception occurred:\n\nTraceback (most recent call last):\n  File \"/Users/adam2392/miniconda3/envs/pywhy-discover/lib/python3.9/site-packages/joblib/externals/loky/process_executor.py\", line 428, in _process_worker\n    r = call_item()\n  File \"/Users/adam2392/miniconda3/envs/pywhy-discover/lib/python3.9/site-packages/joblib/externals/loky/process_executor.py\", line 275, in __call__\n    return self.fn(*self.args, **self.kwargs)\n  File \"/Users/adam2392/miniconda3/envs/pywhy-discover/lib/python3.9/site-packages/joblib/_parallel_backends.py\", line 620, in __call__\n    return self.func(*args, **kwargs)\n  File \"/Users/adam2392/miniconda3/envs/pywhy-discover/lib/python3.9/site-packages/joblib/parallel.py\", line 288, in __call__\n    return [func(*args, **kwargs)\n  File \"/Users/adam2392/miniconda3/envs/pywhy-discover/lib/python3.9/site-packages/joblib/parallel.py\", line 288, in <listcomp>\n    return [func(*args, **kwargs)\n  File \"/Users/adam2392/Documents/dodiscover/dodiscover/constraint/skeleton.py\", line 125, in _test_xy_edges\n    raise Exception(e)\nException: only integers, slices (`:`), ellipsis (`...`), numpy.newaxis (`None`) and integer or boolean arrays are valid indices\n\"\"\"",
      "\nThe above exception was the direct cause of the following exception:\n",
      "\u001b[0;31mException\u001b[0m                                 Traceback (most recent call last)",
      "\u001b[0;32m/var/folders/6_/sl83qtkd68x3_mvfys07_6qm0000gn/T/ipykernel_71125/2180799116.py\u001b[0m in \u001b[0;36m<cell line: 35>\u001b[0;34m()\u001b[0m\n\u001b[1;32m     33\u001b[0m \u001b[0;31m# run the algorithm using the :meth:`constraint.PsiFCI.fit` API, which is similar to scikit-learn's\u001b[0m\u001b[0;34m\u001b[0m\u001b[0;34m\u001b[0m\u001b[0m\n\u001b[1;32m     34\u001b[0m \u001b[0;31m# `fit` design. All fitted attributes contain an underscore at the end.\u001b[0m\u001b[0;34m\u001b[0m\u001b[0;34m\u001b[0m\u001b[0m\n\u001b[0;32m---> 35\u001b[0;31m learner = learner.fit(\n\u001b[0m\u001b[1;32m     36\u001b[0m     \u001b[0mdata\u001b[0m\u001b[0;34m,\u001b[0m \u001b[0mctx\u001b[0m\u001b[0;34m,\u001b[0m \u001b[0mdomain_indices\u001b[0m\u001b[0;34m=\u001b[0m\u001b[0mdomain_ids\u001b[0m\u001b[0;34m,\u001b[0m \u001b[0mintervention_targets\u001b[0m\u001b[0;34m=\u001b[0m\u001b[0mintervention_targets\u001b[0m\u001b[0;34m\u001b[0m\u001b[0;34m\u001b[0m\u001b[0m\n\u001b[1;32m     37\u001b[0m )\n",
      "\u001b[0;32m~/Documents/dodiscover/dodiscover/constraint/sfcialg.py\u001b[0m in \u001b[0;36mfit\u001b[0;34m(self, data, context, domain_indices, intervention_targets)\u001b[0m\n\u001b[1;32m    113\u001b[0m         \u001b[0mself\u001b[0m\u001b[0;34m.\u001b[0m\u001b[0mintervention_targets\u001b[0m \u001b[0;34m=\u001b[0m \u001b[0mintervention_targets\u001b[0m\u001b[0;34m\u001b[0m\u001b[0;34m\u001b[0m\u001b[0m\n\u001b[1;32m    114\u001b[0m \u001b[0;34m\u001b[0m\u001b[0m\n\u001b[0;32m--> 115\u001b[0;31m         \u001b[0;32mreturn\u001b[0m \u001b[0msuper\u001b[0m\u001b[0;34m(\u001b[0m\u001b[0;34m)\u001b[0m\u001b[0;34m.\u001b[0m\u001b[0mfit\u001b[0m\u001b[0;34m(\u001b[0m\u001b[0mdata\u001b[0m\u001b[0;34m,\u001b[0m \u001b[0mcontext\u001b[0m\u001b[0;34m)\u001b[0m\u001b[0;34m\u001b[0m\u001b[0;34m\u001b[0m\u001b[0m\n\u001b[0m\u001b[1;32m    116\u001b[0m \u001b[0;34m\u001b[0m\u001b[0m\n\u001b[1;32m    117\u001b[0m     \u001b[0;32mdef\u001b[0m \u001b[0m_apply_rule11\u001b[0m\u001b[0;34m(\u001b[0m\u001b[0mself\u001b[0m\u001b[0;34m,\u001b[0m \u001b[0mgraph\u001b[0m\u001b[0;34m:\u001b[0m \u001b[0mEquivalenceClass\u001b[0m\u001b[0;34m,\u001b[0m \u001b[0mcontext\u001b[0m\u001b[0;34m:\u001b[0m \u001b[0mContext\u001b[0m\u001b[0;34m)\u001b[0m \u001b[0;34m->\u001b[0m \u001b[0mTuple\u001b[0m\u001b[0;34m[\u001b[0m\u001b[0mbool\u001b[0m\u001b[0;34m,\u001b[0m \u001b[0mList\u001b[0m\u001b[0;34m]\u001b[0m\u001b[0;34m:\u001b[0m\u001b[0;34m\u001b[0m\u001b[0;34m\u001b[0m\u001b[0m\n",
      "\u001b[0;32m~/Documents/dodiscover/dodiscover/constraint/intervention.py\u001b[0m in \u001b[0;36mfit\u001b[0;34m(self, data, context)\u001b[0m\n\u001b[1;32m    187\u001b[0m             )\n\u001b[1;32m    188\u001b[0m \u001b[0;34m\u001b[0m\u001b[0m\n\u001b[0;32m--> 189\u001b[0;31m         \u001b[0;32mreturn\u001b[0m \u001b[0msuper\u001b[0m\u001b[0;34m(\u001b[0m\u001b[0;34m)\u001b[0m\u001b[0;34m.\u001b[0m\u001b[0mfit\u001b[0m\u001b[0;34m(\u001b[0m\u001b[0mdata\u001b[0m\u001b[0;34m,\u001b[0m \u001b[0mcontext\u001b[0m\u001b[0;34m)\u001b[0m\u001b[0;34m\u001b[0m\u001b[0;34m\u001b[0m\u001b[0m\n\u001b[0m\u001b[1;32m    190\u001b[0m \u001b[0;34m\u001b[0m\u001b[0m\n\u001b[1;32m    191\u001b[0m     \u001b[0;32mdef\u001b[0m \u001b[0m_apply_rule11\u001b[0m\u001b[0;34m(\u001b[0m\u001b[0mself\u001b[0m\u001b[0;34m,\u001b[0m \u001b[0mgraph\u001b[0m\u001b[0;34m:\u001b[0m \u001b[0mEquivalenceClass\u001b[0m\u001b[0;34m,\u001b[0m \u001b[0mcontext\u001b[0m\u001b[0;34m:\u001b[0m \u001b[0mContext\u001b[0m\u001b[0;34m)\u001b[0m \u001b[0;34m->\u001b[0m \u001b[0mTuple\u001b[0m\u001b[0;34m[\u001b[0m\u001b[0mbool\u001b[0m\u001b[0;34m,\u001b[0m \u001b[0mList\u001b[0m\u001b[0;34m]\u001b[0m\u001b[0;34m:\u001b[0m\u001b[0;34m\u001b[0m\u001b[0;34m\u001b[0m\u001b[0m\n",
      "\u001b[0;32m~/Documents/dodiscover/dodiscover/constraint/_classes.py\u001b[0m in \u001b[0;36mfit\u001b[0;34m(self, data, context)\u001b[0m\n\u001b[1;32m    215\u001b[0m \u001b[0;34m\u001b[0m\u001b[0m\n\u001b[1;32m    216\u001b[0m         \u001b[0;31m# learn skeleton graph and the separating sets per variable\u001b[0m\u001b[0;34m\u001b[0m\u001b[0;34m\u001b[0m\u001b[0m\n\u001b[0;32m--> 217\u001b[0;31m         graph, self.separating_sets_ = self.learn_skeleton(\n\u001b[0m\u001b[1;32m    218\u001b[0m             \u001b[0mdata\u001b[0m\u001b[0;34m,\u001b[0m \u001b[0mself\u001b[0m\u001b[0;34m.\u001b[0m\u001b[0mcontext_\u001b[0m\u001b[0;34m,\u001b[0m \u001b[0mself\u001b[0m\u001b[0;34m.\u001b[0m\u001b[0mseparating_sets_\u001b[0m\u001b[0;34m\u001b[0m\u001b[0;34m\u001b[0m\u001b[0m\n\u001b[1;32m    219\u001b[0m         )\n",
      "\u001b[0;32m~/Documents/dodiscover/dodiscover/constraint/sfcialg.py\u001b[0m in \u001b[0;36mlearn_skeleton\u001b[0;34m(self, data, context, sep_set)\u001b[0m\n\u001b[1;32m     68\u001b[0m             \u001b[0mn_jobs\u001b[0m\u001b[0;34m=\u001b[0m\u001b[0mself\u001b[0m\u001b[0;34m.\u001b[0m\u001b[0mn_jobs\u001b[0m\u001b[0;34m,\u001b[0m\u001b[0;34m\u001b[0m\u001b[0;34m\u001b[0m\u001b[0m\n\u001b[1;32m     69\u001b[0m         )\n\u001b[0;32m---> 70\u001b[0;31m         self.skeleton_learner_.fit(\n\u001b[0m\u001b[1;32m     71\u001b[0m             \u001b[0mdata\u001b[0m\u001b[0;34m,\u001b[0m \u001b[0mcontext\u001b[0m\u001b[0;34m,\u001b[0m \u001b[0mself\u001b[0m\u001b[0;34m.\u001b[0m\u001b[0mdomain_indices\u001b[0m\u001b[0;34m,\u001b[0m \u001b[0mself\u001b[0m\u001b[0;34m.\u001b[0m\u001b[0mintervention_targets\u001b[0m\u001b[0;34m,\u001b[0m \u001b[0mdebug\u001b[0m\u001b[0;34m=\u001b[0m\u001b[0mself\u001b[0m\u001b[0;34m.\u001b[0m\u001b[0mdebug\u001b[0m\u001b[0;34m\u001b[0m\u001b[0;34m\u001b[0m\u001b[0m\n\u001b[1;32m     72\u001b[0m         )\n",
      "\u001b[0;32m~/Documents/dodiscover/dodiscover/constraint/skeleton.py\u001b[0m in \u001b[0;36mfit\u001b[0;34m(self, data, context, domain_indices, intervention_targets, check_input, debug)\u001b[0m\n\u001b[1;32m   1784\u001b[0m                         \u001b[0;34mf\"{this_f_nodes} grouped with S-node: {s_node}\"\u001b[0m\u001b[0;34m\u001b[0m\u001b[0;34m\u001b[0m\u001b[0m\n\u001b[1;32m   1785\u001b[0m                     )\n\u001b[0;32m-> 1786\u001b[0;31m                 self._learn_skeleton(\n\u001b[0m\u001b[1;32m   1787\u001b[0m                     \u001b[0mdata\u001b[0m\u001b[0;34m=\u001b[0m\u001b[0mdata\u001b[0m\u001b[0;34m,\u001b[0m\u001b[0;34m\u001b[0m\u001b[0;34m\u001b[0m\u001b[0m\n\u001b[1;32m   1788\u001b[0m                     \u001b[0mcontext\u001b[0m\u001b[0;34m=\u001b[0m\u001b[0mcontext\u001b[0m\u001b[0;34m,\u001b[0m\u001b[0;34m\u001b[0m\u001b[0;34m\u001b[0m\u001b[0m\n",
      "\u001b[0;32m~/Documents/dodiscover/dodiscover/constraint/skeleton.py\u001b[0m in \u001b[0;36m_learn_skeleton\u001b[0;34m(self, data, context, condsel_method, conditional_test_func, possible_x_nodes, skipped_y_nodes, skipped_z_nodes, cross_distribution_test, s_node)\u001b[0m\n\u001b[1;32m    448\u001b[0m             \u001b[0;32melse\u001b[0m\u001b[0;34m:\u001b[0m\u001b[0;34m\u001b[0m\u001b[0;34m\u001b[0m\u001b[0m\n\u001b[1;32m    449\u001b[0m                 \u001b[0;31m# run parallelized loop\u001b[0m\u001b[0;34m\u001b[0m\u001b[0;34m\u001b[0m\u001b[0m\n\u001b[0;32m--> 450\u001b[0;31m                 out = Parallel(n_jobs=self.n_jobs)(\n\u001b[0m\u001b[1;32m    451\u001b[0m                     delayed(_test_xy_edges)(\n\u001b[1;32m    452\u001b[0m                         \u001b[0mself\u001b[0m\u001b[0;34m.\u001b[0m\u001b[0mevaluate_edge\u001b[0m\u001b[0;34m,\u001b[0m\u001b[0;34m\u001b[0m\u001b[0;34m\u001b[0m\u001b[0m\n",
      "\u001b[0;32m~/miniconda3/envs/pywhy-discover/lib/python3.9/site-packages/joblib/parallel.py\u001b[0m in \u001b[0;36m__call__\u001b[0;34m(self, iterable)\u001b[0m\n\u001b[1;32m   1096\u001b[0m \u001b[0;34m\u001b[0m\u001b[0m\n\u001b[1;32m   1097\u001b[0m             \u001b[0;32mwith\u001b[0m \u001b[0mself\u001b[0m\u001b[0;34m.\u001b[0m\u001b[0m_backend\u001b[0m\u001b[0;34m.\u001b[0m\u001b[0mretrieval_context\u001b[0m\u001b[0;34m(\u001b[0m\u001b[0;34m)\u001b[0m\u001b[0;34m:\u001b[0m\u001b[0;34m\u001b[0m\u001b[0;34m\u001b[0m\u001b[0m\n\u001b[0;32m-> 1098\u001b[0;31m                 \u001b[0mself\u001b[0m\u001b[0;34m.\u001b[0m\u001b[0mretrieve\u001b[0m\u001b[0;34m(\u001b[0m\u001b[0;34m)\u001b[0m\u001b[0;34m\u001b[0m\u001b[0;34m\u001b[0m\u001b[0m\n\u001b[0m\u001b[1;32m   1099\u001b[0m             \u001b[0;31m# Make sure that we get a last message telling us we are done\u001b[0m\u001b[0;34m\u001b[0m\u001b[0;34m\u001b[0m\u001b[0m\n\u001b[1;32m   1100\u001b[0m             \u001b[0melapsed_time\u001b[0m \u001b[0;34m=\u001b[0m \u001b[0mtime\u001b[0m\u001b[0;34m.\u001b[0m\u001b[0mtime\u001b[0m\u001b[0;34m(\u001b[0m\u001b[0;34m)\u001b[0m \u001b[0;34m-\u001b[0m \u001b[0mself\u001b[0m\u001b[0;34m.\u001b[0m\u001b[0m_start_time\u001b[0m\u001b[0;34m\u001b[0m\u001b[0;34m\u001b[0m\u001b[0m\n",
      "\u001b[0;32m~/miniconda3/envs/pywhy-discover/lib/python3.9/site-packages/joblib/parallel.py\u001b[0m in \u001b[0;36mretrieve\u001b[0;34m(self)\u001b[0m\n\u001b[1;32m    973\u001b[0m             \u001b[0;32mtry\u001b[0m\u001b[0;34m:\u001b[0m\u001b[0;34m\u001b[0m\u001b[0;34m\u001b[0m\u001b[0m\n\u001b[1;32m    974\u001b[0m                 \u001b[0;32mif\u001b[0m \u001b[0mgetattr\u001b[0m\u001b[0;34m(\u001b[0m\u001b[0mself\u001b[0m\u001b[0;34m.\u001b[0m\u001b[0m_backend\u001b[0m\u001b[0;34m,\u001b[0m \u001b[0;34m'supports_timeout'\u001b[0m\u001b[0;34m,\u001b[0m \u001b[0;32mFalse\u001b[0m\u001b[0;34m)\u001b[0m\u001b[0;34m:\u001b[0m\u001b[0;34m\u001b[0m\u001b[0;34m\u001b[0m\u001b[0m\n\u001b[0;32m--> 975\u001b[0;31m                     \u001b[0mself\u001b[0m\u001b[0;34m.\u001b[0m\u001b[0m_output\u001b[0m\u001b[0;34m.\u001b[0m\u001b[0mextend\u001b[0m\u001b[0;34m(\u001b[0m\u001b[0mjob\u001b[0m\u001b[0;34m.\u001b[0m\u001b[0mget\u001b[0m\u001b[0;34m(\u001b[0m\u001b[0mtimeout\u001b[0m\u001b[0;34m=\u001b[0m\u001b[0mself\u001b[0m\u001b[0;34m.\u001b[0m\u001b[0mtimeout\u001b[0m\u001b[0;34m)\u001b[0m\u001b[0;34m)\u001b[0m\u001b[0;34m\u001b[0m\u001b[0;34m\u001b[0m\u001b[0m\n\u001b[0m\u001b[1;32m    976\u001b[0m                 \u001b[0;32melse\u001b[0m\u001b[0;34m:\u001b[0m\u001b[0;34m\u001b[0m\u001b[0;34m\u001b[0m\u001b[0m\n\u001b[1;32m    977\u001b[0m                     \u001b[0mself\u001b[0m\u001b[0;34m.\u001b[0m\u001b[0m_output\u001b[0m\u001b[0;34m.\u001b[0m\u001b[0mextend\u001b[0m\u001b[0;34m(\u001b[0m\u001b[0mjob\u001b[0m\u001b[0;34m.\u001b[0m\u001b[0mget\u001b[0m\u001b[0;34m(\u001b[0m\u001b[0;34m)\u001b[0m\u001b[0;34m)\u001b[0m\u001b[0;34m\u001b[0m\u001b[0;34m\u001b[0m\u001b[0m\n",
      "\u001b[0;32m~/miniconda3/envs/pywhy-discover/lib/python3.9/site-packages/joblib/_parallel_backends.py\u001b[0m in \u001b[0;36mwrap_future_result\u001b[0;34m(future, timeout)\u001b[0m\n\u001b[1;32m    565\u001b[0m         AsyncResults.get from multiprocessing.\"\"\"\n\u001b[1;32m    566\u001b[0m         \u001b[0;32mtry\u001b[0m\u001b[0;34m:\u001b[0m\u001b[0;34m\u001b[0m\u001b[0;34m\u001b[0m\u001b[0m\n\u001b[0;32m--> 567\u001b[0;31m             \u001b[0;32mreturn\u001b[0m \u001b[0mfuture\u001b[0m\u001b[0;34m.\u001b[0m\u001b[0mresult\u001b[0m\u001b[0;34m(\u001b[0m\u001b[0mtimeout\u001b[0m\u001b[0;34m=\u001b[0m\u001b[0mtimeout\u001b[0m\u001b[0;34m)\u001b[0m\u001b[0;34m\u001b[0m\u001b[0;34m\u001b[0m\u001b[0m\n\u001b[0m\u001b[1;32m    568\u001b[0m         \u001b[0;32mexcept\u001b[0m \u001b[0mCfTimeoutError\u001b[0m \u001b[0;32mas\u001b[0m \u001b[0me\u001b[0m\u001b[0;34m:\u001b[0m\u001b[0;34m\u001b[0m\u001b[0;34m\u001b[0m\u001b[0m\n\u001b[1;32m    569\u001b[0m             \u001b[0;32mraise\u001b[0m \u001b[0mTimeoutError\u001b[0m \u001b[0;32mfrom\u001b[0m \u001b[0me\u001b[0m\u001b[0;34m\u001b[0m\u001b[0;34m\u001b[0m\u001b[0m\n",
      "\u001b[0;32m~/miniconda3/envs/pywhy-discover/lib/python3.9/concurrent/futures/_base.py\u001b[0m in \u001b[0;36mresult\u001b[0;34m(self, timeout)\u001b[0m\n\u001b[1;32m    437\u001b[0m                     \u001b[0;32mraise\u001b[0m \u001b[0mCancelledError\u001b[0m\u001b[0;34m(\u001b[0m\u001b[0;34m)\u001b[0m\u001b[0;34m\u001b[0m\u001b[0;34m\u001b[0m\u001b[0m\n\u001b[1;32m    438\u001b[0m                 \u001b[0;32melif\u001b[0m \u001b[0mself\u001b[0m\u001b[0;34m.\u001b[0m\u001b[0m_state\u001b[0m \u001b[0;34m==\u001b[0m \u001b[0mFINISHED\u001b[0m\u001b[0;34m:\u001b[0m\u001b[0;34m\u001b[0m\u001b[0;34m\u001b[0m\u001b[0m\n\u001b[0;32m--> 439\u001b[0;31m                     \u001b[0;32mreturn\u001b[0m \u001b[0mself\u001b[0m\u001b[0;34m.\u001b[0m\u001b[0m__get_result\u001b[0m\u001b[0;34m(\u001b[0m\u001b[0;34m)\u001b[0m\u001b[0;34m\u001b[0m\u001b[0;34m\u001b[0m\u001b[0m\n\u001b[0m\u001b[1;32m    440\u001b[0m \u001b[0;34m\u001b[0m\u001b[0m\n\u001b[1;32m    441\u001b[0m                 \u001b[0mself\u001b[0m\u001b[0;34m.\u001b[0m\u001b[0m_condition\u001b[0m\u001b[0;34m.\u001b[0m\u001b[0mwait\u001b[0m\u001b[0;34m(\u001b[0m\u001b[0mtimeout\u001b[0m\u001b[0;34m)\u001b[0m\u001b[0;34m\u001b[0m\u001b[0;34m\u001b[0m\u001b[0m\n",
      "\u001b[0;32m~/miniconda3/envs/pywhy-discover/lib/python3.9/concurrent/futures/_base.py\u001b[0m in \u001b[0;36m__get_result\u001b[0;34m(self)\u001b[0m\n\u001b[1;32m    389\u001b[0m         \u001b[0;32mif\u001b[0m \u001b[0mself\u001b[0m\u001b[0;34m.\u001b[0m\u001b[0m_exception\u001b[0m\u001b[0;34m:\u001b[0m\u001b[0;34m\u001b[0m\u001b[0;34m\u001b[0m\u001b[0m\n\u001b[1;32m    390\u001b[0m             \u001b[0;32mtry\u001b[0m\u001b[0;34m:\u001b[0m\u001b[0;34m\u001b[0m\u001b[0;34m\u001b[0m\u001b[0m\n\u001b[0;32m--> 391\u001b[0;31m                 \u001b[0;32mraise\u001b[0m \u001b[0mself\u001b[0m\u001b[0;34m.\u001b[0m\u001b[0m_exception\u001b[0m\u001b[0;34m\u001b[0m\u001b[0;34m\u001b[0m\u001b[0m\n\u001b[0m\u001b[1;32m    392\u001b[0m             \u001b[0;32mfinally\u001b[0m\u001b[0;34m:\u001b[0m\u001b[0;34m\u001b[0m\u001b[0;34m\u001b[0m\u001b[0m\n\u001b[1;32m    393\u001b[0m                 \u001b[0;31m# Break a reference cycle with the exception in self._exception\u001b[0m\u001b[0;34m\u001b[0m\u001b[0;34m\u001b[0m\u001b[0m\n",
      "\u001b[0;31mException\u001b[0m: only integers, slices (`:`), ellipsis (`...`), numpy.newaxis (`None`) and integer or boolean arrays are valid indices"
     ]
    }
   ],
   "source": [
    "# Setup constraint-based learner\n",
    "# ------------------------------\n",
    "# Since we have access to interventional data, the causal discovery algorithm\n",
    "# we will use that leverages CI and CD tests to estimate causal constraints\n",
    "# is the Psi-FCI algorithm :footcite:`Jaber2020causal`.\n",
    "\n",
    "# Our dataset is comprised of discrete valued data, so we will utilize the\n",
    "# G^2 (Chi-square) CI test.\n",
    "ci_estimator = GSquareCITest(data_type=\"discrete\")\n",
    "\n",
    "# Since our data is entirely discrete, we can also use the G^2 test as our\n",
    "# CD test.\n",
    "cd_estimator = GSquareCITest(data_type=\"discrete\")\n",
    "\n",
    "alpha = 0.05\n",
    "learner = SFCI(\n",
    "    ci_estimator=ci_estimator,\n",
    "    cd_estimator=cd_estimator,\n",
    "    alpha=alpha,\n",
    "    max_combinations=10,\n",
    "    max_cond_set_size=4,\n",
    "    n_jobs=-1,\n",
    ")\n",
    "\n",
    "# create context with information about the interventions\n",
    "ctx_builder = make_context(create_using=InterventionalContextBuilder)\n",
    "ctx: Context = ctx_builder.variables(data=data[0]).num_distributions(len(data)).build()\n",
    "\n",
    "# %%\n",
    "# Run the learning process\n",
    "# ------------------------\n",
    "# We have setup our causal context and causal discovery learner, so we will now\n",
    "# run the algorithm using the :meth:`constraint.PsiFCI.fit` API, which is similar to scikit-learn's\n",
    "# `fit` design. All fitted attributes contain an underscore at the end.\n",
    "learner = learner.fit(\n",
    "    data, ctx, domain_indices=domain_ids, intervention_targets=intervention_targets\n",
    ")\n",
    "\n",
    "# %%\n",
    "# Analyze the results\n",
    "# ===================\n",
    "# Now that we have learned the graph, we will show it here. Note differences and similarities\n",
    "# to the ground-truth DAG that is \"assumed\". Moreover, note that this reproduces Supplementary\n",
    "# Figure 8 in :footcite:`Jaber2020causal`.\n",
    "est_pag = learner.graph_\n",
    "\n",
    "print(f\"There are {len(est_pag.to_undirected().edges)} edges in the resulting PAG\")\n",
    "\n",
    "# %%\n",
    "# Visualize the full graph including the F-node\n",
    "# dot_graph = draw(est_pag, direction=\"LR\")\n",
    "# dot_graph.render(outfile=\"psi_pag_full.png\", view=True, cleanup=True)\n",
    "\n",
    "# %%\n",
    "# Visualize the graph without the F-nodes\n",
    "est_pag_no_fnodes = est_pag.subgraph(ctx.get_non_augmented_nodes())\n",
    "dot_graph = draw(est_pag_no_fnodes, direction=\"LR\")\n",
    "dot_graph.render(outfile=\"psi_pag.png\", view=True, cleanup=True)"
   ]
  },
  {
   "cell_type": "markdown",
   "metadata": {
    "tags": []
   },
   "source": [
    "# Linear SCM Simulation: Generate Ground-Truth Data\n",
    "\n",
    "First, we assume the causal diagram is induced by a linear SCM. In this setting, we are able to test the performance of S-FCI vs other algorithms when we artificially introduce differnet domain settings that simulate the collection of observations and experiments across e.g. different labs, and hospitals."
   ]
  },
  {
   "cell_type": "code",
   "execution_count": 19,
   "metadata": {},
   "outputs": [
    {
     "data": {
      "image/svg+xml": [
       "<?xml version=\"1.0\" encoding=\"UTF-8\" standalone=\"no\"?>\n",
       "<!DOCTYPE svg PUBLIC \"-//W3C//DTD SVG 1.1//EN\"\n",
       " \"http://www.w3.org/Graphics/SVG/1.1/DTD/svg11.dtd\">\n",
       "<!-- Generated by graphviz version 5.0.0 (20220707.1540)\n",
       " -->\n",
       "<!-- Pages: 1 -->\n",
       "<svg width=\"489pt\" height=\"561pt\"\n",
       " viewBox=\"0.00 0.00 489.00 561.00\" xmlns=\"http://www.w3.org/2000/svg\" xmlns:xlink=\"http://www.w3.org/1999/xlink\">\n",
       "<g id=\"graph0\" class=\"graph\" transform=\"scale(1 1) rotate(0) translate(4 557)\">\n",
       "<polygon fill=\"white\" stroke=\"transparent\" points=\"-4,4 -4,-557 485,-557 485,4 -4,4\"/>\n",
       "<text text-anchor=\"middle\" x=\"240.5\" y=\"-7.8\" font-family=\"Times,serif\" font-size=\"14.00\">Augmented Sachs Graph</text>\n",
       "<!-- Erk -->\n",
       "<g id=\"node1\" class=\"node\">\n",
       "<title>Erk</title>\n",
       "<polygon fill=\"none\" stroke=\"black\" points=\"135,-132 99,-132 99,-96 135,-96 135,-132\"/>\n",
       "<text text-anchor=\"middle\" x=\"117\" y=\"-110.3\" font-family=\"Times,serif\" font-size=\"14.00\">Erk</text>\n",
       "</g>\n",
       "<!-- Akt -->\n",
       "<g id=\"node4\" class=\"node\">\n",
       "<title>Akt</title>\n",
       "<polygon fill=\"none\" stroke=\"black\" points=\"110.5,-60 73.5,-60 73.5,-23 110.5,-23 110.5,-60\"/>\n",
       "<text text-anchor=\"middle\" x=\"92\" y=\"-37.8\" font-family=\"Times,serif\" font-size=\"14.00\">Akt</text>\n",
       "</g>\n",
       "<!-- Erk&#45;&gt;Akt -->\n",
       "<g id=\"edge3\" class=\"edge\">\n",
       "<title>Erk&#45;&gt;Akt</title>\n",
       "<path fill=\"none\" stroke=\"blue\" d=\"M110.95,-95.93C108.18,-88.12 104.82,-78.66 101.71,-69.88\"/>\n",
       "<polygon fill=\"blue\" stroke=\"blue\" points=\"104.99,-68.65 98.34,-60.39 98.39,-70.99 104.99,-68.65\"/>\n",
       "</g>\n",
       "<!-- PKA -->\n",
       "<g id=\"node2\" class=\"node\">\n",
       "<title>PKA</title>\n",
       "<polygon fill=\"none\" stroke=\"black\" points=\"170,-373 126,-373 126,-329 170,-329 170,-373\"/>\n",
       "<text text-anchor=\"middle\" x=\"148\" y=\"-347.3\" font-family=\"Times,serif\" font-size=\"14.00\">PKA</text>\n",
       "</g>\n",
       "<!-- PKA&#45;&gt;Erk -->\n",
       "<g id=\"edge1\" class=\"edge\">\n",
       "<title>PKA&#45;&gt;Erk</title>\n",
       "<path fill=\"none\" stroke=\"blue\" d=\"M151.28,-328.8C155.87,-294.38 162.04,-224.49 147,-168 144.48,-158.55 139.87,-149 135,-140.67\"/>\n",
       "<polygon fill=\"blue\" stroke=\"blue\" points=\"137.96,-138.8 129.7,-132.16 132.01,-142.5 137.96,-138.8\"/>\n",
       "</g>\n",
       "<!-- Mek -->\n",
       "<g id=\"node3\" class=\"node\">\n",
       "<title>Mek</title>\n",
       "<polygon fill=\"none\" stroke=\"black\" points=\"138,-210 96,-210 96,-168 138,-168 138,-210\"/>\n",
       "<text text-anchor=\"middle\" x=\"117\" y=\"-185.3\" font-family=\"Times,serif\" font-size=\"14.00\">Mek</text>\n",
       "</g>\n",
       "<!-- PKA&#45;&gt;Mek -->\n",
       "<g id=\"edge7\" class=\"edge\">\n",
       "<title>PKA&#45;&gt;Mek</title>\n",
       "<path fill=\"none\" stroke=\"blue\" d=\"M143.88,-328.75C138.5,-300.95 129.02,-252.06 122.88,-220.36\"/>\n",
       "<polygon fill=\"blue\" stroke=\"blue\" points=\"126.28,-219.47 120.94,-210.32 119.4,-220.81 126.28,-219.47\"/>\n",
       "</g>\n",
       "<!-- PKA&#45;&gt;Akt -->\n",
       "<g id=\"edge4\" class=\"edge\">\n",
       "<title>PKA&#45;&gt;Akt</title>\n",
       "<path fill=\"none\" stroke=\"blue\" d=\"M135.35,-328.63C120.36,-301.94 96.25,-254.38 87,-210 76.93,-161.68 82.4,-103.85 87.24,-70.33\"/>\n",
       "<polygon fill=\"blue\" stroke=\"blue\" points=\"90.71,-70.76 88.77,-60.34 83.8,-69.7 90.71,-70.76\"/>\n",
       "</g>\n",
       "<!-- Raf -->\n",
       "<g id=\"node7\" class=\"node\">\n",
       "<title>Raf</title>\n",
       "<polygon fill=\"none\" stroke=\"black\" points=\"44,-285.5 8,-285.5 8,-249.5 44,-249.5 44,-285.5\"/>\n",
       "<text text-anchor=\"middle\" x=\"26\" y=\"-263.8\" font-family=\"Times,serif\" font-size=\"14.00\">Raf</text>\n",
       "</g>\n",
       "<!-- PKA&#45;&gt;Raf -->\n",
       "<g id=\"edge13\" class=\"edge\">\n",
       "<title>PKA&#45;&gt;Raf</title>\n",
       "<path fill=\"none\" stroke=\"blue\" d=\"M125.91,-335.24C105.39,-321.53 74.79,-301.09 52.86,-286.45\"/>\n",
       "<polygon fill=\"blue\" stroke=\"blue\" points=\"54.6,-283.4 44.35,-280.76 50.72,-289.22 54.6,-283.4\"/>\n",
       "</g>\n",
       "<!-- Jnk -->\n",
       "<g id=\"node8\" class=\"node\">\n",
       "<title>Jnk</title>\n",
       "<polygon fill=\"none\" stroke=\"black\" points=\"219,-285.5 183,-285.5 183,-249.5 219,-249.5 219,-285.5\"/>\n",
       "<text text-anchor=\"middle\" x=\"201\" y=\"-263.8\" font-family=\"Times,serif\" font-size=\"14.00\">Jnk</text>\n",
       "</g>\n",
       "<!-- PKA&#45;&gt;Jnk -->\n",
       "<g id=\"edge10\" class=\"edge\">\n",
       "<title>PKA&#45;&gt;Jnk</title>\n",
       "<path fill=\"none\" stroke=\"blue\" d=\"M161.93,-328.59C168.8,-318.02 177.14,-305.19 184.35,-294.11\"/>\n",
       "<polygon fill=\"blue\" stroke=\"blue\" points=\"187.32,-295.96 189.84,-285.67 181.45,-292.14 187.32,-295.96\"/>\n",
       "</g>\n",
       "<!-- P38 -->\n",
       "<g id=\"node11\" class=\"node\">\n",
       "<title>P38</title>\n",
       "<polygon fill=\"none\" stroke=\"black\" points=\"320,-286.5 282,-286.5 282,-248.5 320,-248.5 320,-286.5\"/>\n",
       "<text text-anchor=\"middle\" x=\"301\" y=\"-263.8\" font-family=\"Times,serif\" font-size=\"14.00\">P38</text>\n",
       "</g>\n",
       "<!-- PKA&#45;&gt;P38 -->\n",
       "<g id=\"edge16\" class=\"edge\">\n",
       "<title>PKA&#45;&gt;P38</title>\n",
       "<path fill=\"none\" stroke=\"blue\" d=\"M170.25,-338.15C197.32,-323.73 243.07,-299.36 272.64,-283.6\"/>\n",
       "<polygon fill=\"blue\" stroke=\"blue\" points=\"274.45,-286.61 281.63,-278.82 271.16,-280.43 274.45,-286.61\"/>\n",
       "</g>\n",
       "<!-- Mek&#45;&gt;Erk -->\n",
       "<g id=\"edge2\" class=\"edge\">\n",
       "<title>Mek&#45;&gt;Erk</title>\n",
       "<path fill=\"none\" stroke=\"blue\" d=\"M117,-167.67C117,-159.83 117,-150.76 117,-142.37\"/>\n",
       "<polygon fill=\"blue\" stroke=\"blue\" points=\"120.5,-142.26 117,-132.26 113.5,-142.26 120.5,-142.26\"/>\n",
       "</g>\n",
       "<!-- PKC -->\n",
       "<g id=\"node5\" class=\"node\">\n",
       "<title>PKC</title>\n",
       "<polygon fill=\"none\" stroke=\"black\" points=\"232.5,-460.5 189.5,-460.5 189.5,-417.5 232.5,-417.5 232.5,-460.5\"/>\n",
       "<text text-anchor=\"middle\" x=\"211\" y=\"-435.3\" font-family=\"Times,serif\" font-size=\"14.00\">PKC</text>\n",
       "</g>\n",
       "<!-- PKC&#45;&gt;PKA -->\n",
       "<g id=\"edge5\" class=\"edge\">\n",
       "<title>PKC&#45;&gt;PKA</title>\n",
       "<path fill=\"none\" stroke=\"blue\" d=\"M195.75,-417.18C187.9,-406.46 178.19,-393.21 169.58,-381.46\"/>\n",
       "<polygon fill=\"blue\" stroke=\"blue\" points=\"172.28,-379.22 163.55,-373.22 166.63,-383.36 172.28,-379.22\"/>\n",
       "</g>\n",
       "<!-- PKC&#45;&gt;Mek -->\n",
       "<g id=\"edge8\" class=\"edge\">\n",
       "<title>PKC&#45;&gt;Mek</title>\n",
       "<path fill=\"none\" stroke=\"blue\" d=\"M220.33,-417.39C235.69,-380.1 261.42,-300.29 228,-246 210.72,-217.93 174.55,-203.42 148.18,-196.28\"/>\n",
       "<polygon fill=\"blue\" stroke=\"blue\" points=\"148.81,-192.83 138.27,-193.81 147.12,-199.63 148.81,-192.83\"/>\n",
       "</g>\n",
       "<!-- PKC&#45;&gt;Raf -->\n",
       "<g id=\"edge14\" class=\"edge\">\n",
       "<title>PKC&#45;&gt;Raf</title>\n",
       "<path fill=\"none\" stroke=\"blue\" d=\"M189.32,-419.8C186.25,-417.43 183.08,-415.1 180,-413 153.36,-394.82 141.75,-397.68 117,-377 87.56,-352.4 60.19,-317.47 43.32,-293.95\"/>\n",
       "<polygon fill=\"blue\" stroke=\"blue\" points=\"46,-291.69 37.38,-285.54 40.29,-295.73 46,-291.69\"/>\n",
       "</g>\n",
       "<!-- PKC&#45;&gt;Jnk -->\n",
       "<g id=\"edge11\" class=\"edge\">\n",
       "<title>PKC&#45;&gt;Jnk</title>\n",
       "<path fill=\"none\" stroke=\"blue\" d=\"M209.77,-417.22C207.98,-386.74 204.62,-329.9 202.62,-296\"/>\n",
       "<polygon fill=\"blue\" stroke=\"blue\" points=\"206.11,-295.64 202.02,-285.86 199.12,-296.05 206.11,-295.64\"/>\n",
       "</g>\n",
       "<!-- PKC&#45;&gt;P38 -->\n",
       "<g id=\"edge17\" class=\"edge\">\n",
       "<title>PKC&#45;&gt;P38</title>\n",
       "<path fill=\"none\" stroke=\"blue\" d=\"M232.89,-434.51C262.27,-428.53 313.35,-413.25 336,-377 351.99,-351.4 336.51,-317.79 321.37,-294.8\"/>\n",
       "<polygon fill=\"blue\" stroke=\"blue\" points=\"324.23,-292.78 315.66,-286.55 318.48,-296.77 324.23,-292.78\"/>\n",
       "</g>\n",
       "<!-- (&#39;F&#39;, 2) -->\n",
       "<g id=\"node6\" class=\"node\">\n",
       "<title>(&#39;F&#39;, 2)</title>\n",
       "<polygon fill=\"none\" stroke=\"black\" points=\"171,-465 119,-465 119,-413 171,-413 171,-465\"/>\n",
       "<text text-anchor=\"middle\" x=\"145\" y=\"-435.3\" font-family=\"Times,serif\" font-size=\"14.00\">(&#39;F&#39;, 2)</text>\n",
       "</g>\n",
       "<!-- (&#39;F&#39;, 2)&#45;&gt;PKA -->\n",
       "<g id=\"edge6\" class=\"edge\">\n",
       "<title>(&#39;F&#39;, 2)&#45;&gt;PKA</title>\n",
       "<path fill=\"none\" stroke=\"blue\" d=\"M145.88,-412.66C146.21,-403.42 146.57,-392.86 146.91,-383.17\"/>\n",
       "<polygon fill=\"blue\" stroke=\"blue\" points=\"150.41,-383.22 147.26,-373.1 143.42,-382.97 150.41,-383.22\"/>\n",
       "</g>\n",
       "<!-- Raf&#45;&gt;Mek -->\n",
       "<g id=\"edge9\" class=\"edge\">\n",
       "<title>Raf&#45;&gt;Mek</title>\n",
       "<path fill=\"none\" stroke=\"blue\" d=\"M44.42,-251.02C56.83,-240.58 73.48,-226.59 87.7,-214.63\"/>\n",
       "<polygon fill=\"blue\" stroke=\"blue\" points=\"90.34,-216.99 95.74,-207.87 85.83,-211.63 90.34,-216.99\"/>\n",
       "</g>\n",
       "<!-- (&#39;F&#39;, 0) -->\n",
       "<g id=\"node9\" class=\"node\">\n",
       "<title>(&#39;F&#39;, 0)</title>\n",
       "<polygon fill=\"none\" stroke=\"black\" points=\"237,-553 185,-553 185,-501 237,-501 237,-553\"/>\n",
       "<text text-anchor=\"middle\" x=\"211\" y=\"-523.3\" font-family=\"Times,serif\" font-size=\"14.00\">(&#39;F&#39;, 0)</text>\n",
       "</g>\n",
       "<!-- (&#39;F&#39;, 0)&#45;&gt;PKC -->\n",
       "<g id=\"edge12\" class=\"edge\">\n",
       "<title>(&#39;F&#39;, 0)&#45;&gt;PKC</title>\n",
       "<path fill=\"none\" stroke=\"blue\" d=\"M211,-500.66C211,-491.27 211,-480.53 211,-470.71\"/>\n",
       "<polygon fill=\"blue\" stroke=\"blue\" points=\"214.5,-470.54 211,-460.54 207.5,-470.54 214.5,-470.54\"/>\n",
       "</g>\n",
       "<!-- (&#39;F&#39;, 1) -->\n",
       "<g id=\"node10\" class=\"node\">\n",
       "<title>(&#39;F&#39;, 1)</title>\n",
       "<polygon fill=\"none\" stroke=\"black\" points=\"52,-377 0,-377 0,-325 52,-325 52,-377\"/>\n",
       "<text text-anchor=\"middle\" x=\"26\" y=\"-347.3\" font-family=\"Times,serif\" font-size=\"14.00\">(&#39;F&#39;, 1)</text>\n",
       "</g>\n",
       "<!-- (&#39;F&#39;, 1)&#45;&gt;Raf -->\n",
       "<g id=\"edge15\" class=\"edge\">\n",
       "<title>(&#39;F&#39;, 1)&#45;&gt;Raf</title>\n",
       "<path fill=\"none\" stroke=\"blue\" d=\"M26,-324.66C26,-315.43 26,-304.95 26,-295.57\"/>\n",
       "<polygon fill=\"blue\" stroke=\"blue\" points=\"29.5,-295.57 26,-285.57 22.5,-295.57 29.5,-295.57\"/>\n",
       "</g>\n",
       "<!-- (&#39;F&#39;, 3) -->\n",
       "<g id=\"node12\" class=\"node\">\n",
       "<title>(&#39;F&#39;, 3)</title>\n",
       "<polygon fill=\"none\" stroke=\"black\" points=\"327,-377 275,-377 275,-325 327,-325 327,-377\"/>\n",
       "<text text-anchor=\"middle\" x=\"301\" y=\"-347.3\" font-family=\"Times,serif\" font-size=\"14.00\">(&#39;F&#39;, 3)</text>\n",
       "</g>\n",
       "<!-- (&#39;F&#39;, 3)&#45;&gt;P38 -->\n",
       "<g id=\"edge18\" class=\"edge\">\n",
       "<title>(&#39;F&#39;, 3)&#45;&gt;P38</title>\n",
       "<path fill=\"none\" stroke=\"blue\" d=\"M301,-324.66C301,-315.79 301,-305.79 301,-296.7\"/>\n",
       "<polygon fill=\"blue\" stroke=\"blue\" points=\"304.5,-296.58 301,-286.58 297.5,-296.58 304.5,-296.58\"/>\n",
       "</g>\n",
       "<!-- PIP3 -->\n",
       "<g id=\"node13\" class=\"node\">\n",
       "<title>PIP3</title>\n",
       "<polygon fill=\"none\" stroke=\"black\" points=\"426.5,-372.5 383.5,-372.5 383.5,-329.5 426.5,-329.5 426.5,-372.5\"/>\n",
       "<text text-anchor=\"middle\" x=\"405\" y=\"-347.3\" font-family=\"Times,serif\" font-size=\"14.00\">PIP3</text>\n",
       "</g>\n",
       "<!-- PIP2 -->\n",
       "<g id=\"node16\" class=\"node\">\n",
       "<title>PIP2</title>\n",
       "<polygon fill=\"none\" stroke=\"black\" points=\"451.5,-289 408.5,-289 408.5,-246 451.5,-246 451.5,-289\"/>\n",
       "<text text-anchor=\"middle\" x=\"430\" y=\"-263.8\" font-family=\"Times,serif\" font-size=\"14.00\">PIP2</text>\n",
       "</g>\n",
       "<!-- PIP3&#45;&gt;PIP2 -->\n",
       "<g id=\"edge21\" class=\"edge\">\n",
       "<title>PIP3&#45;&gt;PIP2</title>\n",
       "<path fill=\"none\" stroke=\"blue\" d=\"M411.31,-329.43C414.15,-320.17 417.56,-309.04 420.69,-298.84\"/>\n",
       "<polygon fill=\"blue\" stroke=\"blue\" points=\"424.11,-299.65 423.69,-289.06 417.41,-297.59 424.11,-299.65\"/>\n",
       "</g>\n",
       "<!-- Plcg -->\n",
       "<g id=\"node14\" class=\"node\">\n",
       "<title>Plcg</title>\n",
       "<polygon fill=\"none\" stroke=\"black\" points=\"475.5,-459.5 434.5,-459.5 434.5,-418.5 475.5,-418.5 475.5,-459.5\"/>\n",
       "<text text-anchor=\"middle\" x=\"455\" y=\"-435.3\" font-family=\"Times,serif\" font-size=\"14.00\">Plcg</text>\n",
       "</g>\n",
       "<!-- Plcg&#45;&gt;PIP3 -->\n",
       "<g id=\"edge19\" class=\"edge\">\n",
       "<title>Plcg&#45;&gt;PIP3</title>\n",
       "<path fill=\"none\" stroke=\"blue\" d=\"M443.65,-418.49C437.32,-407.59 429.29,-393.78 422.2,-381.58\"/>\n",
       "<polygon fill=\"blue\" stroke=\"blue\" points=\"425.05,-379.52 417,-372.64 419,-383.04 425.05,-379.52\"/>\n",
       "</g>\n",
       "<!-- Plcg&#45;&gt;PIP2 -->\n",
       "<g id=\"edge22\" class=\"edge\">\n",
       "<title>Plcg&#45;&gt;PIP2</title>\n",
       "<path fill=\"none\" stroke=\"blue\" d=\"M452.08,-418.22C447.76,-388.94 439.63,-333.8 434.53,-299.22\"/>\n",
       "<polygon fill=\"blue\" stroke=\"blue\" points=\"437.98,-298.59 433.05,-289.21 431.05,-299.61 437.98,-298.59\"/>\n",
       "</g>\n",
       "<!-- (&#39;F&#39;, 4) -->\n",
       "<g id=\"node15\" class=\"node\">\n",
       "<title>(&#39;F&#39;, 4)</title>\n",
       "<polygon fill=\"none\" stroke=\"black\" points=\"416,-465 364,-465 364,-413 416,-413 416,-465\"/>\n",
       "<text text-anchor=\"middle\" x=\"390\" y=\"-435.3\" font-family=\"Times,serif\" font-size=\"14.00\">(&#39;F&#39;, 4)</text>\n",
       "</g>\n",
       "<!-- (&#39;F&#39;, 4)&#45;&gt;PIP3 -->\n",
       "<g id=\"edge20\" class=\"edge\">\n",
       "<title>(&#39;F&#39;, 4)&#45;&gt;PIP3</title>\n",
       "<path fill=\"none\" stroke=\"blue\" d=\"M394.42,-412.66C396.07,-403.17 397.97,-392.3 399.7,-382.4\"/>\n",
       "<polygon fill=\"blue\" stroke=\"blue\" points=\"403.15,-382.99 401.42,-372.54 396.25,-381.79 403.15,-382.99\"/>\n",
       "</g>\n",
       "<!-- (&#39;F&#39;, 5) -->\n",
       "<g id=\"node17\" class=\"node\">\n",
       "<title>(&#39;F&#39;, 5)</title>\n",
       "<polygon fill=\"none\" stroke=\"black\" points=\"481,-553 429,-553 429,-501 481,-501 481,-553\"/>\n",
       "<text text-anchor=\"middle\" x=\"455\" y=\"-523.3\" font-family=\"Times,serif\" font-size=\"14.00\">(&#39;F&#39;, 5)</text>\n",
       "</g>\n",
       "<!-- (&#39;F&#39;, 5)&#45;&gt;Plcg -->\n",
       "<g id=\"edge23\" class=\"edge\">\n",
       "<title>(&#39;F&#39;, 5)&#45;&gt;Plcg</title>\n",
       "<path fill=\"none\" stroke=\"blue\" d=\"M455,-500.66C455,-490.95 455,-479.79 455,-469.71\"/>\n",
       "<polygon fill=\"blue\" stroke=\"blue\" points=\"458.5,-469.7 455,-459.7 451.5,-469.7 458.5,-469.7\"/>\n",
       "</g>\n",
       "</g>\n",
       "</svg>\n"
      ],
      "text/plain": [
       "<graphviz.graphs.Digraph at 0x184139c70>"
      ]
     },
     "execution_count": 19,
     "metadata": {},
     "output_type": "execute_result"
    }
   ],
   "source": [
    "aug_graph = AugmentedGraph(incoming_directed_edges=ground_truth_G.copy())\n",
    "\n",
    "# add perturbations\n",
    "for node in perturbations:\n",
    "    aug_graph.add_f_node({node}, domain=1)\n",
    "\n",
    "draw(aug_graph, name='Augmented Sachs Graph')"
   ]
  },
  {
   "cell_type": "code",
   "execution_count": 36,
   "metadata": {},
   "outputs": [],
   "source": [
    "node_mean_lims = [-1, 1]\n",
    "node_std_lims = [0.01, 1.5]\n",
    "edge_functions = [lambda x: x, lambda x: x**2]\n",
    "edge_weight_lims = [-0.5, 0.5]\n",
    "\n",
    "n_domains = 5"
   ]
  },
  {
   "cell_type": "code",
   "execution_count": 37,
   "metadata": {},
   "outputs": [],
   "source": [
    "n_samples = 1000"
   ]
  },
  {
   "cell_type": "code",
   "execution_count": 38,
   "metadata": {},
   "outputs": [],
   "source": [
    "# convert graph to linear functional graph\n",
    "aug_lin_graph = make_graph_linear_gaussian(\n",
    "    aug_graph,\n",
    "    node_mean_lims=node_mean_lims,\n",
    "    node_std_lims=node_std_lims,\n",
    "    edge_functions=edge_functions,\n",
    "    edge_weight_lims=edge_weight_lims,\n",
    "    random_state=seed,\n",
    ")\n",
    "md_lin_graph = sample_multidomain_lin_functions(\n",
    "    aug_lin_graph,\n",
    "    n_domains=n_domains,\n",
    "    node_mean_lims=node_mean_lims,\n",
    "    node_std_lims=node_std_lims,\n",
    "    edge_functions=edge_functions,\n",
    "    edge_weight_lims=edge_weight_lims,\n",
    "    random_state=seed,\n",
    ")"
   ]
  },
  {
   "cell_type": "code",
   "execution_count": 40,
   "metadata": {},
   "outputs": [],
   "source": [
    "domain_indices = []\n",
    "intervention_targets = []\n",
    "# mechanisms = []\n",
    "data = []\n",
    "\n",
    "for idx, domain_id in enumerate(range(1, n_domains + 1)):\n",
    "    df = sample_from_graph(\n",
    "        md_lin_graph,\n",
    "        sample_func=\"multidomain\",\n",
    "        n_samples=n_samples,\n",
    "        n_jobs=1,\n",
    "        random_state=seed,\n",
    "        domain_id=domain_id,\n",
    "    )\n",
    "\n",
    "    domain_indices.append(domain_id)\n",
    "    intervention_targets.append({})\n",
    "    data.append(df)\n",
    "\n",
    "    for perturbation in perturbations:\n",
    "        int_graph = md_lin_graph.copy()\n",
    "\n",
    "        # generate a soft-intervention\n",
    "        int_graph = apply_linear_soft_intervention(\n",
    "            int_graph, targets={perturbation}, random_state=seed\n",
    "        )\n",
    "\n",
    "        # sample data from the intervention distribution\n",
    "        df = sample_from_graph(\n",
    "            int_graph,\n",
    "            sample_func=\"multidomain\",\n",
    "            n_samples=n_samples,\n",
    "            n_jobs=1,\n",
    "            random_state=seed,\n",
    "            domain_id=domain_id,\n",
    "        )\n",
    "        domain_indices.append(domain_id)\n",
    "        intervention_targets.append({perturbation})\n",
    "        data.append(df)"
   ]
  },
  {
   "cell_type": "code",
   "execution_count": 59,
   "metadata": {},
   "outputs": [
    {
     "name": "stdout",
     "output_type": "stream",
     "text": [
      "[{'PKC'}, {'Raf'}, {'PKA'}, {'P38'}, {'PIP3'}, {'Plcg'}]\n",
      "6\n"
     ]
    }
   ],
   "source": [
    "# generate single-domain data\n",
    "single_domain_data = []\n",
    "single_domain_targets = []\n",
    "\n",
    "seen_indices = set()\n",
    "for targets in intervention_targets:\n",
    "    indices = [\n",
    "        idx\n",
    "        for idx in range(len(domain_indices))\n",
    "        if intervention_targets[idx] == targets\n",
    "    ]\n",
    "    if any(idx in seen_indices for idx in indices):\n",
    "        continue\n",
    "    for idx in indices:\n",
    "        seen_indices.add(idx)\n",
    "\n",
    "    single_domain_data.append(pd.concat([data[idx] for idx in indices], axis=0))\n",
    "    if targets == {}:\n",
    "        continue\n",
    "    single_domain_targets.append(targets)\n",
    "\n",
    "print(single_domain_targets)\n",
    "print(len(single_domain_targets))"
   ]
  },
  {
   "cell_type": "markdown",
   "metadata": {
    "tags": []
   },
   "source": [
    "## Analysis"
   ]
  },
  {
   "cell_type": "markdown",
   "metadata": {},
   "source": [
    "### With I-FCI"
   ]
  },
  {
   "cell_type": "code",
   "execution_count": 60,
   "metadata": {},
   "outputs": [],
   "source": [
    "context = (\n",
    "    make_context(create_using=InterventionalContextBuilder)\n",
    "    .variables(aug_graph.non_augmented_nodes)\n",
    "    # .obs_distribution(False)\n",
    "    .intervention_targets(single_domain_targets)\n",
    "    # .mechanisms([{\"x\": 1}, {\"x\": 2}])\n",
    "    .num_distributions(len(single_domain_data))\n",
    "    .build()\n",
    ")"
   ]
  },
  {
   "cell_type": "code",
   "execution_count": 70,
   "metadata": {},
   "outputs": [
    {
     "data": {
      "text/plain": [
       "<dodiscover.constraint.intervention.PsiFCI at 0x184a1c820>"
      ]
     },
     "execution_count": 70,
     "metadata": {},
     "output_type": "execute_result"
    }
   ],
   "source": [
    "# IFCI\n",
    "learner = PsiFCI(\n",
    "    ci_estimator=FisherZCITest(),\n",
    "    cd_estimator=KernelCDTest(),\n",
    "    alpha=alpha,\n",
    "    known_intervention_targets=True,\n",
    ")\n",
    "learner.fit(\n",
    "    single_domain_data,\n",
    "    context,\n",
    ")"
   ]
  },
  {
   "cell_type": "code",
   "execution_count": 75,
   "metadata": {},
   "outputs": [
    {
     "data": {
      "image/svg+xml": [
       "<?xml version=\"1.0\" encoding=\"UTF-8\" standalone=\"no\"?>\n",
       "<!DOCTYPE svg PUBLIC \"-//W3C//DTD SVG 1.1//EN\"\n",
       " \"http://www.w3.org/Graphics/SVG/1.1/DTD/svg11.dtd\">\n",
       "<!-- Generated by graphviz version 5.0.0 (20220707.1540)\n",
       " -->\n",
       "<!-- Pages: 1 -->\n",
       "<svg width=\"576pt\" height=\"147pt\"\n",
       " viewBox=\"0.00 0.00 575.50 147.00\" xmlns=\"http://www.w3.org/2000/svg\" xmlns:xlink=\"http://www.w3.org/1999/xlink\">\n",
       "<g id=\"graph0\" class=\"graph\" transform=\"scale(1 1) rotate(0) translate(4 143)\">\n",
       "<polygon fill=\"white\" stroke=\"transparent\" points=\"-4,4 -4,-143 571.5,-143 571.5,4 -4,4\"/>\n",
       "<text text-anchor=\"middle\" x=\"283.75\" y=\"-7.8\" font-family=\"Times,serif\" font-size=\"14.00\">I&#45;PAG</text>\n",
       "<!-- Erk -->\n",
       "<g id=\"node1\" class=\"node\">\n",
       "<title>Erk</title>\n",
       "<polygon fill=\"none\" stroke=\"black\" points=\"40,-59 4,-59 4,-23 40,-23 40,-59\"/>\n",
       "<text text-anchor=\"middle\" x=\"22\" y=\"-37.3\" font-family=\"Times,serif\" font-size=\"14.00\">Erk</text>\n",
       "</g>\n",
       "<!-- PKA -->\n",
       "<g id=\"node2\" class=\"node\">\n",
       "<title>PKA</title>\n",
       "<polygon fill=\"none\" stroke=\"black\" points=\"44,-139 0,-139 0,-95 44,-95 44,-139\"/>\n",
       "<text text-anchor=\"middle\" x=\"22\" y=\"-113.3\" font-family=\"Times,serif\" font-size=\"14.00\">PKA</text>\n",
       "</g>\n",
       "<!-- PKA&#45;&gt;Erk -->\n",
       "<g id=\"edge1\" class=\"edge\">\n",
       "<title>PKA&#45;&gt;Erk</title>\n",
       "<path fill=\"none\" stroke=\"blue\" d=\"M22,-94.99C22,-87.06 22,-77.91 22,-69.48\"/>\n",
       "<polygon fill=\"blue\" stroke=\"blue\" points=\"25.5,-69.31 22,-59.31 18.5,-69.31 25.5,-69.31\"/>\n",
       "</g>\n",
       "<!-- Mek -->\n",
       "<g id=\"node3\" class=\"node\">\n",
       "<title>Mek</title>\n",
       "<polygon fill=\"none\" stroke=\"black\" points=\"104,-138 62,-138 62,-96 104,-96 104,-138\"/>\n",
       "<text text-anchor=\"middle\" x=\"83\" y=\"-113.3\" font-family=\"Times,serif\" font-size=\"14.00\">Mek</text>\n",
       "</g>\n",
       "<!-- PIP2 -->\n",
       "<g id=\"node4\" class=\"node\">\n",
       "<title>PIP2</title>\n",
       "<polygon fill=\"none\" stroke=\"black\" points=\"165.5,-138.5 122.5,-138.5 122.5,-95.5 165.5,-95.5 165.5,-138.5\"/>\n",
       "<text text-anchor=\"middle\" x=\"144\" y=\"-113.3\" font-family=\"Times,serif\" font-size=\"14.00\">PIP2</text>\n",
       "</g>\n",
       "<!-- PKC -->\n",
       "<g id=\"node5\" class=\"node\">\n",
       "<title>PKC</title>\n",
       "<polygon fill=\"none\" stroke=\"black\" points=\"226.5,-138.5 183.5,-138.5 183.5,-95.5 226.5,-95.5 226.5,-138.5\"/>\n",
       "<text text-anchor=\"middle\" x=\"205\" y=\"-113.3\" font-family=\"Times,serif\" font-size=\"14.00\">PKC</text>\n",
       "</g>\n",
       "<!-- P38 -->\n",
       "<g id=\"node6\" class=\"node\">\n",
       "<title>P38</title>\n",
       "<polygon fill=\"none\" stroke=\"black\" points=\"283,-136 245,-136 245,-98 283,-98 283,-136\"/>\n",
       "<text text-anchor=\"middle\" x=\"264\" y=\"-113.3\" font-family=\"Times,serif\" font-size=\"14.00\">P38</text>\n",
       "</g>\n",
       "<!-- Raf -->\n",
       "<g id=\"node7\" class=\"node\">\n",
       "<title>Raf</title>\n",
       "<polygon fill=\"none\" stroke=\"black\" points=\"337,-135 301,-135 301,-99 337,-99 337,-135\"/>\n",
       "<text text-anchor=\"middle\" x=\"319\" y=\"-113.3\" font-family=\"Times,serif\" font-size=\"14.00\">Raf</text>\n",
       "</g>\n",
       "<!-- Plcg -->\n",
       "<g id=\"node8\" class=\"node\">\n",
       "<title>Plcg</title>\n",
       "<polygon fill=\"none\" stroke=\"black\" points=\"396.5,-137.5 355.5,-137.5 355.5,-96.5 396.5,-96.5 396.5,-137.5\"/>\n",
       "<text text-anchor=\"middle\" x=\"376\" y=\"-113.3\" font-family=\"Times,serif\" font-size=\"14.00\">Plcg</text>\n",
       "</g>\n",
       "<!-- Jnk -->\n",
       "<g id=\"node9\" class=\"node\">\n",
       "<title>Jnk</title>\n",
       "<polygon fill=\"none\" stroke=\"black\" points=\"451,-135 415,-135 415,-99 451,-99 451,-135\"/>\n",
       "<text text-anchor=\"middle\" x=\"433\" y=\"-113.3\" font-family=\"Times,serif\" font-size=\"14.00\">Jnk</text>\n",
       "</g>\n",
       "<!-- PIP3 -->\n",
       "<g id=\"node10\" class=\"node\">\n",
       "<title>PIP3</title>\n",
       "<polygon fill=\"none\" stroke=\"black\" points=\"512.5,-138.5 469.5,-138.5 469.5,-95.5 512.5,-95.5 512.5,-138.5\"/>\n",
       "<text text-anchor=\"middle\" x=\"491\" y=\"-113.3\" font-family=\"Times,serif\" font-size=\"14.00\">PIP3</text>\n",
       "</g>\n",
       "<!-- Akt -->\n",
       "<g id=\"node11\" class=\"node\">\n",
       "<title>Akt</title>\n",
       "<polygon fill=\"none\" stroke=\"black\" points=\"567.5,-135.5 530.5,-135.5 530.5,-98.5 567.5,-98.5 567.5,-135.5\"/>\n",
       "<text text-anchor=\"middle\" x=\"549\" y=\"-113.3\" font-family=\"Times,serif\" font-size=\"14.00\">Akt</text>\n",
       "</g>\n",
       "</g>\n",
       "</svg>\n"
      ]
     },
     "metadata": {},
     "output_type": "display_data"
    }
   ],
   "source": [
    "ifci_g = draw(learner.graph_.subgraph(aug_graph.non_augmented_nodes), name=\"I-PAG\")\n",
    "ifci_g.render(\n",
    "    outfile=\"./sachs-ifci.pdf\",\n",
    "    format=\"pdf\",\n",
    "    cleanup=True,\n",
    ")\n",
    "display_svg(ifci_g)"
   ]
  },
  {
   "cell_type": "markdown",
   "metadata": {},
   "source": [
    "### With S-FCI"
   ]
  },
  {
   "cell_type": "code",
   "execution_count": 76,
   "metadata": {},
   "outputs": [],
   "source": [
    "context = (\n",
    "    make_context(create_using=InterventionalContextBuilder)\n",
    "    .variables(aug_graph.non_augmented_nodes)\n",
    "    .num_distributions(len(data))\n",
    "    .build()\n",
    ")"
   ]
  },
  {
   "cell_type": "code",
   "execution_count": 82,
   "metadata": {},
   "outputs": [],
   "source": [
    "# now learn the relationships\n",
    "learner = SFCI(\n",
    "    ci_estimator=FisherZCITest(), cd_estimator=KernelCDTest(), alpha=alpha, debug=False,\n",
    "    n_jobs=-1\n",
    ")"
   ]
  },
  {
   "cell_type": "code",
   "execution_count": 83,
   "metadata": {
    "tags": []
   },
   "outputs": [
    {
     "ename": "KeyboardInterrupt",
     "evalue": "",
     "output_type": "error",
     "traceback": [
      "\u001b[0;31m---------------------------------------------------------------------------\u001b[0m",
      "\u001b[0;31mKeyboardInterrupt\u001b[0m                         Traceback (most recent call last)",
      "\u001b[0;32m/var/folders/6_/sl83qtkd68x3_mvfys07_6qm0000gn/T/ipykernel_19318/3270696463.py\u001b[0m in \u001b[0;36m<cell line: 1>\u001b[0;34m()\u001b[0m\n\u001b[0;32m----> 1\u001b[0;31m learner.fit(\n\u001b[0m\u001b[1;32m      2\u001b[0m     \u001b[0mdata\u001b[0m\u001b[0;34m,\u001b[0m\u001b[0;34m\u001b[0m\u001b[0;34m\u001b[0m\u001b[0m\n\u001b[1;32m      3\u001b[0m     \u001b[0mcontext\u001b[0m\u001b[0;34m,\u001b[0m\u001b[0;34m\u001b[0m\u001b[0;34m\u001b[0m\u001b[0m\n\u001b[1;32m      4\u001b[0m     \u001b[0mdomain_indices\u001b[0m\u001b[0;34m=\u001b[0m\u001b[0mdomain_indices\u001b[0m\u001b[0;34m,\u001b[0m\u001b[0;34m\u001b[0m\u001b[0;34m\u001b[0m\u001b[0m\n\u001b[1;32m      5\u001b[0m     \u001b[0mintervention_targets\u001b[0m\u001b[0;34m=\u001b[0m\u001b[0mintervention_targets\u001b[0m\u001b[0;34m,\u001b[0m\u001b[0;34m\u001b[0m\u001b[0;34m\u001b[0m\u001b[0m\n",
      "\u001b[0;32m~/Documents/dodiscover/dodiscover/constraint/sfcialg.py\u001b[0m in \u001b[0;36mfit\u001b[0;34m(self, data, context, domain_indices, intervention_targets)\u001b[0m\n\u001b[1;32m    115\u001b[0m         \u001b[0mself\u001b[0m\u001b[0;34m.\u001b[0m\u001b[0mintervention_targets\u001b[0m \u001b[0;34m=\u001b[0m \u001b[0mintervention_targets\u001b[0m\u001b[0;34m\u001b[0m\u001b[0;34m\u001b[0m\u001b[0m\n\u001b[1;32m    116\u001b[0m \u001b[0;34m\u001b[0m\u001b[0m\n\u001b[0;32m--> 117\u001b[0;31m         \u001b[0;32mreturn\u001b[0m \u001b[0msuper\u001b[0m\u001b[0;34m(\u001b[0m\u001b[0;34m)\u001b[0m\u001b[0;34m.\u001b[0m\u001b[0mfit\u001b[0m\u001b[0;34m(\u001b[0m\u001b[0mdata\u001b[0m\u001b[0;34m,\u001b[0m \u001b[0mcontext\u001b[0m\u001b[0;34m)\u001b[0m\u001b[0;34m\u001b[0m\u001b[0;34m\u001b[0m\u001b[0m\n\u001b[0m\u001b[1;32m    118\u001b[0m \u001b[0;34m\u001b[0m\u001b[0m\n\u001b[1;32m    119\u001b[0m     \u001b[0;32mdef\u001b[0m \u001b[0m_apply_rule11\u001b[0m\u001b[0;34m(\u001b[0m\u001b[0mself\u001b[0m\u001b[0;34m,\u001b[0m \u001b[0mgraph\u001b[0m\u001b[0;34m:\u001b[0m \u001b[0mEquivalenceClass\u001b[0m\u001b[0;34m,\u001b[0m \u001b[0mcontext\u001b[0m\u001b[0;34m:\u001b[0m \u001b[0mContext\u001b[0m\u001b[0;34m)\u001b[0m \u001b[0;34m->\u001b[0m \u001b[0mTuple\u001b[0m\u001b[0;34m[\u001b[0m\u001b[0mbool\u001b[0m\u001b[0;34m,\u001b[0m \u001b[0mList\u001b[0m\u001b[0;34m]\u001b[0m\u001b[0;34m:\u001b[0m\u001b[0;34m\u001b[0m\u001b[0;34m\u001b[0m\u001b[0m\n",
      "\u001b[0;32m~/Documents/dodiscover/dodiscover/constraint/intervention.py\u001b[0m in \u001b[0;36mfit\u001b[0;34m(self, data, context)\u001b[0m\n\u001b[1;32m    187\u001b[0m             )\n\u001b[1;32m    188\u001b[0m \u001b[0;34m\u001b[0m\u001b[0m\n\u001b[0;32m--> 189\u001b[0;31m         \u001b[0;32mreturn\u001b[0m \u001b[0msuper\u001b[0m\u001b[0;34m(\u001b[0m\u001b[0;34m)\u001b[0m\u001b[0;34m.\u001b[0m\u001b[0mfit\u001b[0m\u001b[0;34m(\u001b[0m\u001b[0mdata\u001b[0m\u001b[0;34m,\u001b[0m \u001b[0mcontext\u001b[0m\u001b[0;34m)\u001b[0m\u001b[0;34m\u001b[0m\u001b[0;34m\u001b[0m\u001b[0m\n\u001b[0m\u001b[1;32m    190\u001b[0m \u001b[0;34m\u001b[0m\u001b[0m\n\u001b[1;32m    191\u001b[0m     \u001b[0;32mdef\u001b[0m \u001b[0m_apply_rule11\u001b[0m\u001b[0;34m(\u001b[0m\u001b[0mself\u001b[0m\u001b[0;34m,\u001b[0m \u001b[0mgraph\u001b[0m\u001b[0;34m:\u001b[0m \u001b[0mEquivalenceClass\u001b[0m\u001b[0;34m,\u001b[0m \u001b[0mcontext\u001b[0m\u001b[0;34m:\u001b[0m \u001b[0mContext\u001b[0m\u001b[0;34m)\u001b[0m \u001b[0;34m->\u001b[0m \u001b[0mTuple\u001b[0m\u001b[0;34m[\u001b[0m\u001b[0mbool\u001b[0m\u001b[0;34m,\u001b[0m \u001b[0mList\u001b[0m\u001b[0;34m]\u001b[0m\u001b[0;34m:\u001b[0m\u001b[0;34m\u001b[0m\u001b[0;34m\u001b[0m\u001b[0m\n",
      "\u001b[0;32m~/Documents/dodiscover/dodiscover/constraint/_classes.py\u001b[0m in \u001b[0;36mfit\u001b[0;34m(self, data, context)\u001b[0m\n\u001b[1;32m    215\u001b[0m \u001b[0;34m\u001b[0m\u001b[0m\n\u001b[1;32m    216\u001b[0m         \u001b[0;31m# learn skeleton graph and the separating sets per variable\u001b[0m\u001b[0;34m\u001b[0m\u001b[0;34m\u001b[0m\u001b[0m\n\u001b[0;32m--> 217\u001b[0;31m         graph, self.separating_sets_ = self.learn_skeleton(\n\u001b[0m\u001b[1;32m    218\u001b[0m             \u001b[0mdata\u001b[0m\u001b[0;34m,\u001b[0m \u001b[0mself\u001b[0m\u001b[0;34m.\u001b[0m\u001b[0mcontext_\u001b[0m\u001b[0;34m,\u001b[0m \u001b[0mself\u001b[0m\u001b[0;34m.\u001b[0m\u001b[0mseparating_sets_\u001b[0m\u001b[0;34m\u001b[0m\u001b[0;34m\u001b[0m\u001b[0m\n\u001b[1;32m    219\u001b[0m         )\n",
      "\u001b[0;32m~/Documents/dodiscover/dodiscover/constraint/sfcialg.py\u001b[0m in \u001b[0;36mlearn_skeleton\u001b[0;34m(self, data, context, sep_set)\u001b[0m\n\u001b[1;32m     72\u001b[0m             \u001b[0mn_jobs\u001b[0m\u001b[0;34m=\u001b[0m\u001b[0mself\u001b[0m\u001b[0;34m.\u001b[0m\u001b[0mn_jobs\u001b[0m\u001b[0;34m,\u001b[0m\u001b[0;34m\u001b[0m\u001b[0;34m\u001b[0m\u001b[0m\n\u001b[1;32m     73\u001b[0m         )\n\u001b[0;32m---> 74\u001b[0;31m         \u001b[0mself\u001b[0m\u001b[0;34m.\u001b[0m\u001b[0mskeleton_learner_\u001b[0m\u001b[0;34m.\u001b[0m\u001b[0mfit\u001b[0m\u001b[0;34m(\u001b[0m\u001b[0mdata\u001b[0m\u001b[0;34m,\u001b[0m \u001b[0mcontext\u001b[0m\u001b[0;34m,\u001b[0m \u001b[0mself\u001b[0m\u001b[0;34m.\u001b[0m\u001b[0mdomain_indices\u001b[0m\u001b[0;34m,\u001b[0m \u001b[0mself\u001b[0m\u001b[0;34m.\u001b[0m\u001b[0mintervention_targets\u001b[0m\u001b[0;34m,\u001b[0m \u001b[0mdebug\u001b[0m\u001b[0;34m=\u001b[0m\u001b[0mself\u001b[0m\u001b[0;34m.\u001b[0m\u001b[0mdebug\u001b[0m\u001b[0;34m)\u001b[0m\u001b[0;34m\u001b[0m\u001b[0;34m\u001b[0m\u001b[0m\n\u001b[0m\u001b[1;32m     75\u001b[0m \u001b[0;34m\u001b[0m\u001b[0m\n\u001b[1;32m     76\u001b[0m         \u001b[0mself\u001b[0m\u001b[0;34m.\u001b[0m\u001b[0mcontext_\u001b[0m \u001b[0;34m=\u001b[0m \u001b[0mself\u001b[0m\u001b[0;34m.\u001b[0m\u001b[0mskeleton_learner_\u001b[0m\u001b[0;34m.\u001b[0m\u001b[0mcontext_\u001b[0m\u001b[0;34m.\u001b[0m\u001b[0mcopy\u001b[0m\u001b[0;34m(\u001b[0m\u001b[0;34m)\u001b[0m\u001b[0;34m\u001b[0m\u001b[0;34m\u001b[0m\u001b[0m\n",
      "\u001b[0;32m~/Documents/dodiscover/dodiscover/constraint/skeleton.py\u001b[0m in \u001b[0;36mfit\u001b[0;34m(self, data, context, domain_indices, intervention_targets, check_input, debug)\u001b[0m\n\u001b[1;32m   1827\u001b[0m         \u001b[0;31m# initially learn the skeleton without using PDS information\u001b[0m\u001b[0;34m\u001b[0m\u001b[0;34m\u001b[0m\u001b[0m\n\u001b[1;32m   1828\u001b[0m         \u001b[0;31m# apply algorithm to learn skeleton\u001b[0m\u001b[0;34m\u001b[0m\u001b[0;34m\u001b[0m\u001b[0m\n\u001b[0;32m-> 1829\u001b[0;31m         \u001b[0mself\u001b[0m\u001b[0;34m.\u001b[0m\u001b[0m_fit\u001b[0m\u001b[0;34m(\u001b[0m\u001b[0mobs_data\u001b[0m\u001b[0;34m,\u001b[0m \u001b[0mcontext\u001b[0m\u001b[0;34m,\u001b[0m \u001b[0mlist\u001b[0m\u001b[0;34m(\u001b[0m\u001b[0mcausal_nodes\u001b[0m\u001b[0;34m)\u001b[0m\u001b[0;34m,\u001b[0m \u001b[0maugmented_nodes\u001b[0m\u001b[0;34m,\u001b[0m \u001b[0maugmented_nodes\u001b[0m\u001b[0;34m,\u001b[0m \u001b[0mdebug\u001b[0m\u001b[0;34m=\u001b[0m\u001b[0mdebug\u001b[0m\u001b[0;34m)\u001b[0m\u001b[0;34m\u001b[0m\u001b[0;34m\u001b[0m\u001b[0m\n\u001b[0m\u001b[1;32m   1830\u001b[0m         \u001b[0mcontext\u001b[0m \u001b[0;34m=\u001b[0m \u001b[0mself\u001b[0m\u001b[0;34m.\u001b[0m\u001b[0m_prep_second_stage_skeleton\u001b[0m\u001b[0;34m(\u001b[0m\u001b[0mcontext\u001b[0m\u001b[0;34m)\u001b[0m\u001b[0;34m\u001b[0m\u001b[0;34m\u001b[0m\u001b[0m\n\u001b[1;32m   1831\u001b[0m \u001b[0;34m\u001b[0m\u001b[0m\n",
      "\u001b[0;32m~/Documents/dodiscover/dodiscover/constraint/skeleton.py\u001b[0m in \u001b[0;36m_fit\u001b[0;34m(self, data, context, possible_x_nodes, skipped_y_nodes, skipped_z_nodes, debug)\u001b[0m\n\u001b[1;32m   1404\u001b[0m         \u001b[0;32mif\u001b[0m \u001b[0mself\u001b[0m\u001b[0;34m.\u001b[0m\u001b[0msecond_stage_condsel_method\u001b[0m \u001b[0;32mis\u001b[0m \u001b[0;32mnot\u001b[0m \u001b[0;32mNone\u001b[0m\u001b[0;34m:\u001b[0m\u001b[0;34m\u001b[0m\u001b[0;34m\u001b[0m\u001b[0m\n\u001b[1;32m   1405\u001b[0m             \u001b[0;31m# setup context for the second round-of learning\u001b[0m\u001b[0;34m\u001b[0m\u001b[0;34m\u001b[0m\u001b[0m\n\u001b[0;32m-> 1406\u001b[0;31m             \u001b[0mcontext\u001b[0m \u001b[0;34m=\u001b[0m \u001b[0msuper\u001b[0m\u001b[0;34m(\u001b[0m\u001b[0;34m)\u001b[0m\u001b[0;34m.\u001b[0m\u001b[0m_prep_second_stage_skeleton\u001b[0m\u001b[0;34m(\u001b[0m\u001b[0mcontext\u001b[0m\u001b[0;34m)\u001b[0m\u001b[0;34m\u001b[0m\u001b[0;34m\u001b[0m\u001b[0m\n\u001b[0m\u001b[1;32m   1407\u001b[0m \u001b[0;34m\u001b[0m\u001b[0m\n\u001b[1;32m   1408\u001b[0m             \u001b[0;31m# now compute all possibly d-separating sets and learn a better skeleton\u001b[0m\u001b[0;34m\u001b[0m\u001b[0;34m\u001b[0m\u001b[0m\n",
      "\u001b[0;32m~/Documents/dodiscover/dodiscover/constraint/skeleton.py\u001b[0m in \u001b[0;36m_prep_second_stage_skeleton\u001b[0;34m(self, context)\u001b[0m\n\u001b[1;32m   1150\u001b[0m \u001b[0;34m\u001b[0m\u001b[0m\n\u001b[1;32m   1151\u001b[0m         \u001b[0;31m# orient colliders\u001b[0m\u001b[0;34m\u001b[0m\u001b[0;34m\u001b[0m\u001b[0m\n\u001b[0;32m-> 1152\u001b[0;31m         \u001b[0mself\u001b[0m\u001b[0;34m.\u001b[0m\u001b[0m_orient_unshielded_triples\u001b[0m\u001b[0;34m(\u001b[0m\u001b[0mpag\u001b[0m\u001b[0;34m,\u001b[0m \u001b[0msep_set\u001b[0m\u001b[0;34m)\u001b[0m\u001b[0;34m\u001b[0m\u001b[0;34m\u001b[0m\u001b[0m\n\u001b[0m\u001b[1;32m   1153\u001b[0m \u001b[0;34m\u001b[0m\u001b[0m\n\u001b[1;32m   1154\u001b[0m         \u001b[0;31m# convert the adjacency graph\u001b[0m\u001b[0;34m\u001b[0m\u001b[0;34m\u001b[0m\u001b[0m\n",
      "\u001b[0;32m~/Documents/dodiscover/dodiscover/constraint/skeleton.py\u001b[0m in \u001b[0;36m_orient_unshielded_triples\u001b[0;34m(self, graph, sep_set)\u001b[0m\n\u001b[1;32m   1132\u001b[0m                 \u001b[0;31m# Then check to see if 'u' is in the separating\u001b[0m\u001b[0;34m\u001b[0m\u001b[0;34m\u001b[0m\u001b[0m\n\u001b[1;32m   1133\u001b[0m                 \u001b[0;31m# set. If it is not, then there is a collider.\u001b[0m\u001b[0;34m\u001b[0m\u001b[0;34m\u001b[0m\u001b[0m\n\u001b[0;32m-> 1134\u001b[0;31m                 if v_j not in graph.neighbors(v_i) and not is_in_sep_set(\n\u001b[0m\u001b[1;32m   1135\u001b[0m                     \u001b[0mu\u001b[0m\u001b[0;34m,\u001b[0m \u001b[0msep_set\u001b[0m\u001b[0;34m,\u001b[0m \u001b[0mv_i\u001b[0m\u001b[0;34m,\u001b[0m \u001b[0mv_j\u001b[0m\u001b[0;34m,\u001b[0m \u001b[0mmode\u001b[0m\u001b[0;34m=\u001b[0m\u001b[0;34m\"any\"\u001b[0m\u001b[0;34m\u001b[0m\u001b[0;34m\u001b[0m\u001b[0m\n\u001b[1;32m   1136\u001b[0m                 ):\n",
      "\u001b[0;32m~/Documents/pywhy-graphs/pywhy_graphs/networkx/classes/mixededge.py\u001b[0m in \u001b[0;36mneighbors\u001b[0;34m(self, n)\u001b[0m\n\u001b[1;32m    866\u001b[0m         \u001b[0mnbrs\u001b[0m \u001b[0;34m=\u001b[0m \u001b[0mset\u001b[0m\u001b[0;34m(\u001b[0m\u001b[0;34m)\u001b[0m\u001b[0;34m\u001b[0m\u001b[0;34m\u001b[0m\u001b[0m\n\u001b[1;32m    867\u001b[0m         \u001b[0;32mfor\u001b[0m \u001b[0m_\u001b[0m\u001b[0;34m,\u001b[0m \u001b[0mG\u001b[0m \u001b[0;32min\u001b[0m \u001b[0mself\u001b[0m\u001b[0;34m.\u001b[0m\u001b[0mget_graphs\u001b[0m\u001b[0;34m(\u001b[0m\u001b[0;34m)\u001b[0m\u001b[0;34m.\u001b[0m\u001b[0mitems\u001b[0m\u001b[0;34m(\u001b[0m\u001b[0;34m)\u001b[0m\u001b[0;34m:\u001b[0m\u001b[0;34m\u001b[0m\u001b[0;34m\u001b[0m\u001b[0m\n\u001b[0;32m--> 868\u001b[0;31m             \u001b[0mnbrs\u001b[0m \u001b[0;34m=\u001b[0m \u001b[0mnbrs\u001b[0m\u001b[0;34m.\u001b[0m\u001b[0munion\u001b[0m\u001b[0;34m(\u001b[0m\u001b[0mset\u001b[0m\u001b[0;34m(\u001b[0m\u001b[0mnx\u001b[0m\u001b[0;34m.\u001b[0m\u001b[0mall_neighbors\u001b[0m\u001b[0;34m(\u001b[0m\u001b[0mG\u001b[0m\u001b[0;34m,\u001b[0m \u001b[0mn\u001b[0m\u001b[0;34m)\u001b[0m\u001b[0;34m)\u001b[0m\u001b[0;34m)\u001b[0m\u001b[0;34m\u001b[0m\u001b[0;34m\u001b[0m\u001b[0m\n\u001b[0m\u001b[1;32m    869\u001b[0m         \u001b[0;32mreturn\u001b[0m \u001b[0miter\u001b[0m\u001b[0;34m(\u001b[0m\u001b[0mnbrs\u001b[0m\u001b[0;34m)\u001b[0m\u001b[0;34m\u001b[0m\u001b[0;34m\u001b[0m\u001b[0m\n\u001b[1;32m    870\u001b[0m \u001b[0;34m\u001b[0m\u001b[0m\n",
      "\u001b[0;31mKeyboardInterrupt\u001b[0m: "
     ]
    }
   ],
   "source": [
    "learner.fit(\n",
    "    data,\n",
    "    context,\n",
    "    domain_indices=domain_indices,\n",
    "    intervention_targets=intervention_targets,\n",
    ")"
   ]
  },
  {
   "cell_type": "code",
   "execution_count": null,
   "metadata": {},
   "outputs": [],
   "source": [
    "draw(learner.graph_.subgraph(aug_graph.non_augmented_nodes))"
   ]
  },
  {
   "cell_type": "code",
   "execution_count": null,
   "metadata": {},
   "outputs": [],
   "source": [
    "pprint(learner.separating_sets_)"
   ]
  },
  {
   "cell_type": "markdown",
   "metadata": {
    "tags": []
   },
   "source": [
    "# Generating Artificial Domains Via Dirichlet Perturbation\n",
    "\n",
    "Next, we do not assume we can specify the true SCM of the Sachs dataset. Instead of completely specifying the data-generating model for the Sachs dataset, we now apply perturbations to the dataset that is commonly used to evaluate algorithms, such as the FCI, I-FCI, $\\Psi$-FCI in a single-domain setting. \n",
    "\n",
    "To simulate a multi-domain setting from the data, we will generate a random graph from the ground-truth\n",
    "that contains S-nodes. S-nodes are added randomly to simulate a change in mechanism. S-nodes will perturb the node it is pointing to with a dirichlet distribution that perturbs the discrete distribution of the protein expression levels. In order to maintain consistency of the change in domain, all descendants of the S-node will get perturbed slightly."
   ]
  },
  {
   "cell_type": "code",
   "execution_count": 10,
   "metadata": {},
   "outputs": [
    {
     "name": "stdout",
     "output_type": "stream",
     "text": [
      "11\n"
     ]
    }
   ],
   "source": [
    "print(ground_truth_G.number_of_nodes())"
   ]
  },
  {
   "cell_type": "code",
   "execution_count": 11,
   "metadata": {},
   "outputs": [
    {
     "name": "stdout",
     "output_type": "stream",
     "text": [
      "   Erk  Akt  PKA  Mek  Jnk  PKC  Raf  P38  PIP3  PIP2  Plcg\n",
      "0    1    0    1    0    1    1    0    0     1     0     0\n",
      "1    2    1    1    0    1    1    0    0     1     0     1\n",
      "2    1    0    1    0    1    0    0    0     2     0     0\n",
      "3    1    0    2    0    0    0    1    0     0     0     0\n",
      "4    1    0    2    0    0    0    1    0     2     0     0\n"
     ]
    }
   ],
   "source": [
    "print(data.head())"
   ]
  },
  {
   "cell_type": "code",
   "execution_count": 12,
   "metadata": {},
   "outputs": [],
   "source": [
    "# initialize list of domain dataframes\n",
    "domain_dfs = []\n",
    "domain_dfs.append(df.copy())\n",
    "all_s_nodes = []\n"
   ]
  },
  {
   "cell_type": "markdown",
   "metadata": {},
   "source": [
    "## (Optional) Choose Latent Confounders"
   ]
  },
  {
   "cell_type": "code",
   "execution_count": 13,
   "metadata": {},
   "outputs": [
    {
     "name": "stdout",
     "output_type": "stream",
     "text": [
      "[]\n"
     ]
    }
   ],
   "source": [
    "# choose a random node to delete to add latent confounders\n",
    "node_delete = rng.choice(ground_truth_G.nodes)\n",
    "node_delete = []\n",
    "print(node_delete)"
   ]
  },
  {
   "cell_type": "markdown",
   "metadata": {},
   "source": [
    "## Generate Second Domain Dataset"
   ]
  },
  {
   "cell_type": "code",
   "execution_count": 14,
   "metadata": {},
   "outputs": [],
   "source": [
    "n_domains = 2"
   ]
  },
  {
   "cell_type": "code",
   "execution_count": 15,
   "metadata": {},
   "outputs": [],
   "source": [
    "G = ground_truth_G.copy()"
   ]
  },
  {
   "cell_type": "code",
   "execution_count": 16,
   "metadata": {},
   "outputs": [
    {
     "name": "stdout",
     "output_type": "stream",
     "text": [
      "2\n",
      "Adding edge...  ('S', 0) Jnk\n",
      "Adding edge...  ('S', 0) PIP2\n"
     ]
    }
   ],
   "source": [
    "sdx = 0\n",
    "s_nodes = []\n",
    "s_node_domains = collections.defaultdict(list)\n",
    "\n",
    "# first, add all the S-nodes representing differences across pairs of domains\n",
    "for domains in combinations(range(1, n_domains+1), 2):\n",
    "    source_domain, target_domain = sorted(domains)\n",
    "\n",
    "    # choose a random number of S-nodes to add between (source, target)\n",
    "    n_s_nodes = rng.integers(0, 3)\n",
    "    print(n_s_nodes)\n",
    "    s_nodes_pointer = rng.choice(G.nodes, size=n_s_nodes, replace=False)\n",
    "\n",
    "    # now modify the function of the edge, S-nodes are pointing to\n",
    "    s_node = ('S', sdx)\n",
    "    s_nodes.append(s_node)\n",
    "    G.add_node(s_node, domain_ids=(source_domain, target_domain))\n",
    "    for node in s_nodes_pointer:\n",
    "        # the source domain is always the \"reference\" distribution, that is\n",
    "        # the one we keep fixed\n",
    "        G.add_edge(s_node, node)\n",
    "        print('Adding edge... ', s_node, node)\n",
    "        # mape each source to its target and corresponding S-nodes\n",
    "        s_node_domains[source_domain].append((target_domain, node, s_node))\n",
    "    sdx +=1"
   ]
  },
  {
   "cell_type": "code",
   "execution_count": 17,
   "metadata": {},
   "outputs": [
    {
     "data": {
      "image/svg+xml": [
       "<?xml version=\"1.0\" encoding=\"UTF-8\" standalone=\"no\"?>\n",
       "<!DOCTYPE svg PUBLIC \"-//W3C//DTD SVG 1.1//EN\"\n",
       " \"http://www.w3.org/Graphics/SVG/1.1/DTD/svg11.dtd\">\n",
       "<!-- Generated by graphviz version 5.0.0 (20220707.1540)\n",
       " -->\n",
       "<!-- Pages: 1 -->\n",
       "<svg width=\"381pt\" height=\"441pt\"\n",
       " viewBox=\"0.00 0.00 380.90 441.00\" xmlns=\"http://www.w3.org/2000/svg\" xmlns:xlink=\"http://www.w3.org/1999/xlink\">\n",
       "<g id=\"graph0\" class=\"graph\" transform=\"scale(1 1) rotate(0) translate(4 437)\">\n",
       "<polygon fill=\"white\" stroke=\"transparent\" points=\"-4,4 -4,-437 376.9,-437 376.9,4 -4,4\"/>\n",
       "<!-- Erk -->\n",
       "<g id=\"node1\" class=\"node\">\n",
       "<title>Erk</title>\n",
       "<polygon fill=\"none\" stroke=\"black\" points=\"187.4,-109 151.4,-109 151.4,-73 187.4,-73 187.4,-109\"/>\n",
       "<text text-anchor=\"middle\" x=\"169.4\" y=\"-87.3\" font-family=\"Times,serif\" font-size=\"14.00\">Erk</text>\n",
       "</g>\n",
       "<!-- Akt -->\n",
       "<g id=\"node4\" class=\"node\">\n",
       "<title>Akt</title>\n",
       "<polygon fill=\"none\" stroke=\"black\" points=\"210.9,-37 173.9,-37 173.9,0 210.9,0 210.9,-37\"/>\n",
       "<text text-anchor=\"middle\" x=\"192.4\" y=\"-14.8\" font-family=\"Times,serif\" font-size=\"14.00\">Akt</text>\n",
       "</g>\n",
       "<!-- Erk&#45;&gt;Akt -->\n",
       "<g id=\"edge3\" class=\"edge\">\n",
       "<title>Erk&#45;&gt;Akt</title>\n",
       "<path fill=\"none\" stroke=\"blue\" d=\"M174.97,-72.93C177.49,-65.2 180.54,-55.86 183.38,-47.17\"/>\n",
       "<polygon fill=\"blue\" stroke=\"blue\" points=\"186.79,-47.99 186.56,-37.39 180.14,-45.81 186.79,-47.99\"/>\n",
       "</g>\n",
       "<!-- PKA -->\n",
       "<g id=\"node2\" class=\"node\">\n",
       "<title>PKA</title>\n",
       "<polygon fill=\"none\" stroke=\"black\" points=\"163.4,-350 119.4,-350 119.4,-306 163.4,-306 163.4,-350\"/>\n",
       "<text text-anchor=\"middle\" x=\"141.4\" y=\"-324.3\" font-family=\"Times,serif\" font-size=\"14.00\">PKA</text>\n",
       "</g>\n",
       "<!-- PKA&#45;&gt;Erk -->\n",
       "<g id=\"edge1\" class=\"edge\">\n",
       "<title>PKA&#45;&gt;Erk</title>\n",
       "<path fill=\"none\" stroke=\"blue\" d=\"M143.94,-305.73C149.03,-262.96 160.51,-166.62 166.15,-119.29\"/>\n",
       "<polygon fill=\"blue\" stroke=\"blue\" points=\"169.65,-119.51 167.36,-109.17 162.7,-118.68 169.65,-119.51\"/>\n",
       "</g>\n",
       "<!-- Mek -->\n",
       "<g id=\"node3\" class=\"node\">\n",
       "<title>Mek</title>\n",
       "<polygon fill=\"none\" stroke=\"black\" points=\"132.4,-187 90.4,-187 90.4,-145 132.4,-145 132.4,-187\"/>\n",
       "<text text-anchor=\"middle\" x=\"111.4\" y=\"-162.3\" font-family=\"Times,serif\" font-size=\"14.00\">Mek</text>\n",
       "</g>\n",
       "<!-- PKA&#45;&gt;Mek -->\n",
       "<g id=\"edge6\" class=\"edge\">\n",
       "<title>PKA&#45;&gt;Mek</title>\n",
       "<path fill=\"none\" stroke=\"blue\" d=\"M137.42,-305.75C132.21,-277.95 123.04,-229.06 117.09,-197.36\"/>\n",
       "<polygon fill=\"blue\" stroke=\"blue\" points=\"120.5,-196.51 115.21,-187.32 113.62,-197.8 120.5,-196.51\"/>\n",
       "</g>\n",
       "<!-- PKA&#45;&gt;Akt -->\n",
       "<g id=\"edge4\" class=\"edge\">\n",
       "<title>PKA&#45;&gt;Akt</title>\n",
       "<path fill=\"none\" stroke=\"blue\" d=\"M150.8,-305.87C155.68,-294.28 161.44,-279.54 165.4,-266 189.82,-182.62 199.64,-159.82 196.4,-73 196.09,-64.72 195.51,-55.73 194.89,-47.52\"/>\n",
       "<polygon fill=\"blue\" stroke=\"blue\" points=\"198.36,-47 194.07,-37.31 191.38,-47.56 198.36,-47\"/>\n",
       "</g>\n",
       "<!-- Raf -->\n",
       "<g id=\"node6\" class=\"node\">\n",
       "<title>Raf</title>\n",
       "<polygon fill=\"none\" stroke=\"black\" points=\"111.4,-262.5 75.4,-262.5 75.4,-226.5 111.4,-226.5 111.4,-262.5\"/>\n",
       "<text text-anchor=\"middle\" x=\"93.4\" y=\"-240.8\" font-family=\"Times,serif\" font-size=\"14.00\">Raf</text>\n",
       "</g>\n",
       "<!-- PKA&#45;&gt;Raf -->\n",
       "<g id=\"edge12\" class=\"edge\">\n",
       "<title>PKA&#45;&gt;Raf</title>\n",
       "<path fill=\"none\" stroke=\"blue\" d=\"M128.79,-305.59C122.63,-295.12 115.16,-282.44 108.68,-271.44\"/>\n",
       "<polygon fill=\"blue\" stroke=\"blue\" points=\"111.6,-269.51 103.51,-262.67 105.57,-273.06 111.6,-269.51\"/>\n",
       "</g>\n",
       "<!-- Jnk -->\n",
       "<g id=\"node7\" class=\"node\">\n",
       "<title>Jnk</title>\n",
       "<polygon fill=\"none\" stroke=\"black\" points=\"279.4,-262.5 243.4,-262.5 243.4,-226.5 279.4,-226.5 279.4,-262.5\"/>\n",
       "<text text-anchor=\"middle\" x=\"261.4\" y=\"-240.8\" font-family=\"Times,serif\" font-size=\"14.00\">Jnk</text>\n",
       "</g>\n",
       "<!-- PKA&#45;&gt;Jnk -->\n",
       "<g id=\"edge9\" class=\"edge\">\n",
       "<title>PKA&#45;&gt;Jnk</title>\n",
       "<path fill=\"none\" stroke=\"blue\" d=\"M163.41,-312.05C183.51,-298.4 213.28,-278.19 234.72,-263.62\"/>\n",
       "<polygon fill=\"blue\" stroke=\"blue\" points=\"236.76,-266.47 243.07,-257.95 232.83,-260.68 236.76,-266.47\"/>\n",
       "</g>\n",
       "<!-- P38 -->\n",
       "<g id=\"node9\" class=\"node\">\n",
       "<title>P38</title>\n",
       "<polygon fill=\"none\" stroke=\"black\" points=\"57.4,-263.5 19.4,-263.5 19.4,-225.5 57.4,-225.5 57.4,-263.5\"/>\n",
       "<text text-anchor=\"middle\" x=\"38.4\" y=\"-240.8\" font-family=\"Times,serif\" font-size=\"14.00\">P38</text>\n",
       "</g>\n",
       "<!-- PKA&#45;&gt;P38 -->\n",
       "<g id=\"edge14\" class=\"edge\">\n",
       "<title>PKA&#45;&gt;P38</title>\n",
       "<path fill=\"none\" stroke=\"blue\" d=\"M119.31,-309.52C103.7,-297.17 82.68,-280.54 65.98,-267.32\"/>\n",
       "<polygon fill=\"blue\" stroke=\"blue\" points=\"67.7,-264.22 57.69,-260.76 63.36,-269.71 67.7,-264.22\"/>\n",
       "</g>\n",
       "<!-- Mek&#45;&gt;Erk -->\n",
       "<g id=\"edge2\" class=\"edge\">\n",
       "<title>Mek&#45;&gt;Erk</title>\n",
       "<path fill=\"none\" stroke=\"blue\" d=\"M127.56,-144.67C134.33,-136.14 142.28,-126.14 149.42,-117.15\"/>\n",
       "<polygon fill=\"blue\" stroke=\"blue\" points=\"152.21,-119.27 155.69,-109.26 146.73,-114.91 152.21,-119.27\"/>\n",
       "</g>\n",
       "<!-- PKC -->\n",
       "<g id=\"node5\" class=\"node\">\n",
       "<title>PKC</title>\n",
       "<polygon fill=\"none\" stroke=\"black\" points=\"112.9,-433 69.9,-433 69.9,-390 112.9,-390 112.9,-433\"/>\n",
       "<text text-anchor=\"middle\" x=\"91.4\" y=\"-407.8\" font-family=\"Times,serif\" font-size=\"14.00\">PKC</text>\n",
       "</g>\n",
       "<!-- PKC&#45;&gt;PKA -->\n",
       "<g id=\"edge5\" class=\"edge\">\n",
       "<title>PKC&#45;&gt;PKA</title>\n",
       "<path fill=\"none\" stroke=\"blue\" d=\"M104.02,-389.93C109.79,-380.52 116.74,-369.19 123.08,-358.87\"/>\n",
       "<polygon fill=\"blue\" stroke=\"blue\" points=\"126.19,-360.48 128.44,-350.13 120.23,-356.82 126.19,-360.48\"/>\n",
       "</g>\n",
       "<!-- PKC&#45;&gt;Mek -->\n",
       "<g id=\"edge7\" class=\"edge\">\n",
       "<title>PKC&#45;&gt;Mek</title>\n",
       "<path fill=\"none\" stroke=\"blue\" d=\"M70.13,-390C36.11,-354.64 -23.43,-280.44 10.4,-223 25.45,-197.45 56.81,-182.73 80.62,-174.86\"/>\n",
       "<polygon fill=\"blue\" stroke=\"blue\" points=\"81.76,-178.17 90.29,-171.89 79.71,-171.48 81.76,-178.17\"/>\n",
       "</g>\n",
       "<!-- PKC&#45;&gt;Raf -->\n",
       "<g id=\"edge13\" class=\"edge\">\n",
       "<title>PKC&#45;&gt;Raf</title>\n",
       "<path fill=\"none\" stroke=\"blue\" d=\"M91.65,-389.94C92.01,-360.44 92.67,-306.06 93.07,-273.1\"/>\n",
       "<polygon fill=\"blue\" stroke=\"blue\" points=\"96.57,-272.85 93.19,-262.8 89.57,-272.76 96.57,-272.85\"/>\n",
       "</g>\n",
       "<!-- PKC&#45;&gt;Jnk -->\n",
       "<g id=\"edge10\" class=\"edge\">\n",
       "<title>PKC&#45;&gt;Jnk</title>\n",
       "<path fill=\"none\" stroke=\"blue\" d=\"M113.24,-397.58C130.26,-386.98 154.03,-371 172.4,-354 200.16,-328.33 226.96,-293.91 243.78,-270.79\"/>\n",
       "<polygon fill=\"blue\" stroke=\"blue\" points=\"246.72,-272.68 249.71,-262.52 241.04,-268.6 246.72,-272.68\"/>\n",
       "</g>\n",
       "<!-- PKC&#45;&gt;P38 -->\n",
       "<g id=\"edge15\" class=\"edge\">\n",
       "<title>PKC&#45;&gt;P38</title>\n",
       "<path fill=\"none\" stroke=\"blue\" d=\"M84.8,-389.94C75.38,-360.63 58.07,-306.74 47.46,-273.71\"/>\n",
       "<polygon fill=\"blue\" stroke=\"blue\" points=\"50.67,-272.23 44.27,-263.78 44,-274.37 50.67,-272.23\"/>\n",
       "</g>\n",
       "<!-- Raf&#45;&gt;Mek -->\n",
       "<g id=\"edge8\" class=\"edge\">\n",
       "<title>Raf&#45;&gt;Mek</title>\n",
       "<path fill=\"none\" stroke=\"blue\" d=\"M97.49,-226.14C99.5,-217.57 102,-206.98 104.31,-197.14\"/>\n",
       "<polygon fill=\"blue\" stroke=\"blue\" points=\"107.75,-197.81 106.63,-187.27 100.93,-196.2 107.75,-197.81\"/>\n",
       "</g>\n",
       "<!-- (&#39;S&#39;, 0) -->\n",
       "<g id=\"node8\" class=\"node\">\n",
       "<title>(&#39;S&#39;, 0)</title>\n",
       "<polygon fill=\"none\" stroke=\"black\" points=\"287.4,-354 235.4,-354 235.4,-302 287.4,-302 287.4,-354\"/>\n",
       "<text text-anchor=\"middle\" x=\"261.4\" y=\"-324.3\" font-family=\"Times,serif\" font-size=\"14.00\">(&#39;S&#39;, 0)</text>\n",
       "</g>\n",
       "<!-- (&#39;S&#39;, 0)&#45;&gt;Jnk -->\n",
       "<g id=\"edge11\" class=\"edge\">\n",
       "<title>(&#39;S&#39;, 0)&#45;&gt;Jnk</title>\n",
       "<path fill=\"none\" stroke=\"blue\" d=\"M261.4,-301.66C261.4,-292.43 261.4,-281.95 261.4,-272.57\"/>\n",
       "<polygon fill=\"blue\" stroke=\"blue\" points=\"264.9,-272.57 261.4,-262.57 257.9,-272.57 264.9,-272.57\"/>\n",
       "</g>\n",
       "<!-- PIP2 -->\n",
       "<g id=\"node12\" class=\"node\">\n",
       "<title>PIP2</title>\n",
       "<polygon fill=\"none\" stroke=\"black\" points=\"348.9,-266 305.9,-266 305.9,-223 348.9,-223 348.9,-266\"/>\n",
       "<text text-anchor=\"middle\" x=\"327.4\" y=\"-240.8\" font-family=\"Times,serif\" font-size=\"14.00\">PIP2</text>\n",
       "</g>\n",
       "<!-- (&#39;S&#39;, 0)&#45;&gt;PIP2 -->\n",
       "<g id=\"edge19\" class=\"edge\">\n",
       "<title>(&#39;S&#39;, 0)&#45;&gt;PIP2</title>\n",
       "<path fill=\"none\" stroke=\"blue\" d=\"M281.92,-301.66C288.99,-292.93 296.96,-283.09 304.22,-274.12\"/>\n",
       "<polygon fill=\"blue\" stroke=\"blue\" points=\"307.08,-276.16 310.65,-266.18 301.64,-271.75 307.08,-276.16\"/>\n",
       "</g>\n",
       "<!-- PIP3 -->\n",
       "<g id=\"node10\" class=\"node\">\n",
       "<title>PIP3</title>\n",
       "<polygon fill=\"none\" stroke=\"black\" points=\"348.9,-349.5 305.9,-349.5 305.9,-306.5 348.9,-306.5 348.9,-349.5\"/>\n",
       "<text text-anchor=\"middle\" x=\"327.4\" y=\"-324.3\" font-family=\"Times,serif\" font-size=\"14.00\">PIP3</text>\n",
       "</g>\n",
       "<!-- PIP3&#45;&gt;PIP2 -->\n",
       "<g id=\"edge17\" class=\"edge\">\n",
       "<title>PIP3&#45;&gt;PIP2</title>\n",
       "<path fill=\"none\" stroke=\"blue\" d=\"M327.4,-306.43C327.4,-297.26 327.4,-286.27 327.4,-276.16\"/>\n",
       "<polygon fill=\"blue\" stroke=\"blue\" points=\"330.9,-276.06 327.4,-266.06 323.9,-276.06 330.9,-276.06\"/>\n",
       "</g>\n",
       "<!-- Plcg -->\n",
       "<g id=\"node11\" class=\"node\">\n",
       "<title>Plcg</title>\n",
       "<polygon fill=\"none\" stroke=\"black\" points=\"372.9,-432 331.9,-432 331.9,-391 372.9,-391 372.9,-432\"/>\n",
       "<text text-anchor=\"middle\" x=\"352.4\" y=\"-407.8\" font-family=\"Times,serif\" font-size=\"14.00\">Plcg</text>\n",
       "</g>\n",
       "<!-- Plcg&#45;&gt;PIP3 -->\n",
       "<g id=\"edge16\" class=\"edge\">\n",
       "<title>Plcg&#45;&gt;PIP3</title>\n",
       "<path fill=\"none\" stroke=\"blue\" d=\"M346.35,-390.77C343.46,-381.35 339.93,-369.86 336.71,-359.35\"/>\n",
       "<polygon fill=\"blue\" stroke=\"blue\" points=\"340.03,-358.22 333.75,-349.68 333.33,-360.27 340.03,-358.22\"/>\n",
       "</g>\n",
       "<!-- Plcg&#45;&gt;PIP2 -->\n",
       "<g id=\"edge18\" class=\"edge\">\n",
       "<title>Plcg&#45;&gt;PIP2</title>\n",
       "<path fill=\"none\" stroke=\"blue\" d=\"M356.99,-390.95C361.35,-368.95 366.18,-332.34 358.4,-302 356.01,-292.69 351.74,-283.26 347.11,-274.85\"/>\n",
       "<polygon fill=\"blue\" stroke=\"blue\" points=\"350.1,-273.02 342.02,-266.17 344.06,-276.56 350.1,-273.02\"/>\n",
       "</g>\n",
       "</g>\n",
       "</svg>\n"
      ],
      "text/plain": [
       "<graphviz.graphs.Digraph at 0x1851c7d30>"
      ]
     },
     "execution_count": 17,
     "metadata": {},
     "output_type": "execute_result"
    }
   ],
   "source": [
    "draw(G, direction='TD')"
   ]
  },
  {
   "cell_type": "code",
   "execution_count": 18,
   "metadata": {},
   "outputs": [],
   "source": [
    "# generate a random linear SCM dataset from the accepted ground-truth\n",
    "ground_truth_G_lin_lab = make_graph_linear_gaussian(ground_truth_G, random_state=seed)"
   ]
  },
  {
   "cell_type": "code",
   "execution_count": 19,
   "metadata": {},
   "outputs": [],
   "source": [
    "non_s_nodes = set(ground_truth_G_lin_lab.nodes).difference(set(s_nodes))\n",
    "# generate a dataset with invariances across domain\n",
    "ground_truth_G_lin_hospital = make_graph_linear_gaussian(ground_truth_G, random_state=seed)\n",
    "for node in non_s_nodes:\n",
    "    ground_truth_G_lin_hospital = set_node_attributes_with_G(ground_truth_G_lin_hospital, ground_truth_G_lin_hospital, node)\n"
   ]
  },
  {
   "cell_type": "code",
   "execution_count": 20,
   "metadata": {},
   "outputs": [],
   "source": [
    "data = []\n",
    "domain_ids = []\n",
    "intervention_targets = []"
   ]
  },
  {
   "cell_type": "code",
   "execution_count": 21,
   "metadata": {
    "tags": []
   },
   "outputs": [],
   "source": [
    "# sample both datasets\n",
    "lab_dataset = linear.sample_from_graph(ground_truth_G_lin_lab, n_samples=1000,\n",
    "                         n_jobs=n_jobs)\n",
    "hospital_dataset = linear.sample_from_graph(ground_truth_G_lin_hospital, n_samples=1000,\n",
    "                         n_jobs=n_jobs)\n",
    "\n",
    "data.extend([lab_dataset, hospital_dataset])\n",
    "domain_ids.extend([1, 2])\n",
    "intervention_targets.extend([set(), set()])"
   ]
  },
  {
   "cell_type": "code",
   "execution_count": 25,
   "metadata": {},
   "outputs": [],
   "source": [
    "\n",
    "# apply perturbations in the lab setting\n",
    "for target in perturbations:\n",
    "    # apply soft intervention\n",
    "    G = apply_soft_intervention(ground_truth_G_lin_lab, targets={target}, random_state=seed)\n",
    "    df = linear.sample_from_graph(ground_truth_G_lin_hospital, n_samples=1000,\n",
    "                         n_jobs=n_jobs)\n",
    "    \n",
    "    data.append(df)\n",
    "    domain_ids.append(1)\n",
    "    intervention_targets.append(target)\n",
    "    \n",
    "# apply one perturbation in the hospital setting\n"
   ]
  },
  {
   "cell_type": "markdown",
   "metadata": {},
   "source": [
    "## $\\Psi$-FCI analysis\n",
    "\n",
    "Since, $\\Psi$-FCI is the most general learning algorithm that accounts for interventions and observational data, we will leverage this as a naive baseline."
   ]
  },
  {
   "cell_type": "code",
   "execution_count": 26,
   "metadata": {},
   "outputs": [],
   "source": [
    "n_distributions = len(data)"
   ]
  },
  {
   "cell_type": "code",
   "execution_count": 27,
   "metadata": {},
   "outputs": [],
   "source": [
    "ci_estimator = KernelCITest()\n",
    "\n",
    "# Since our data is entirely discrete, we can also use the G^2 test as our\n",
    "# CD test.\n",
    "cd_estimator = KernelCDTest()\n"
   ]
  },
  {
   "cell_type": "code",
   "execution_count": 28,
   "metadata": {},
   "outputs": [],
   "source": [
    "alpha = 0.05\n",
    "learner = PsiFCI(ci_estimator=ci_estimator, cd_estimator=cd_estimator, alpha=alpha, n_jobs=-1)\n",
    "\n",
    "# create context with information about the interventions\n",
    "ctx_builder = make_context(create_using=InterventionalContextBuilder)\n",
    "ctx: Context = (\n",
    "    ctx_builder.variables(data=data[0]).num_distributions(n_distributions).obs_distribution(False).build()\n",
    ")"
   ]
  },
  {
   "cell_type": "code",
   "execution_count": null,
   "metadata": {},
   "outputs": [],
   "source": [
    "learner = learner.fit(data, ctx)"
   ]
  },
  {
   "cell_type": "code",
   "execution_count": null,
   "metadata": {},
   "outputs": [],
   "source": [
    "est_pag = learner.graph_\n",
    "\n",
    "print(f\"There are {len(est_pag.to_undirected().edges)} edges in the resulting PAG\")\n",
    "\n",
    "# %%\n",
    "# Visualize the graph without the F-nodes\n",
    "est_pag_no_fnodes = est_pag.subgraph(ctx.get_non_augmented_nodes())\n",
    "dot_graph = draw(est_pag_no_fnodes, direction=\"LR\")\n",
    "dot_graph.render(outfile=\"psi_pag.png\", view=True)"
   ]
  },
  {
   "cell_type": "markdown",
   "metadata": {},
   "source": [
    "### S-FCI analysis\n",
    "\n",
    "Next, we run S-FCI to compare the outputs of the two algorithms"
   ]
  },
  {
   "cell_type": "code",
   "execution_count": null,
   "metadata": {},
   "outputs": [],
   "source": []
  },
  {
   "cell_type": "markdown",
   "metadata": {},
   "source": [
    "# Comparing Outputs"
   ]
  },
  {
   "cell_type": "code",
   "execution_count": 86,
   "metadata": {},
   "outputs": [
    {
     "name": "stdout",
     "output_type": "stream",
     "text": [
      "[bnlearn] >Set node properties.\n",
      "[bnlearn] >Set edge properties.\n",
      "[bnlearn] >Plot based on Bayesian model\n"
     ]
    },
    {
     "data": {
      "image/png": "[encoded data removed]",
      "text/plain": [
       "<Figure size 1500x1000 with 1 Axes>"
      ]
     },
     "metadata": {},
     "output_type": "display_data"
    },
    {
     "name": "stdout",
     "output_type": "stream",
     "text": [
      "   Raf  Mek  Plcg  PIP2  PIP3  Erk  Akt  PKA  PKC  P38  Jnk  INT\n",
      "0    1    1     1     2     3    2    1    3    1    2    1    8\n",
      "1    1    1     1     1     3    3    2    3    1    2    1    8\n",
      "2    1    1     2     2     3    2    1    3    2    1    1    8\n",
      "3    1    1     1     1     3    2    1    3    1    3    1    8\n",
      "4    1    1     1     1     3    2    1    3    1    1    1    8\n",
      "(5400, 12)\n"
     ]
    }
   ],
   "source": [
    "# use pooch to download robustly from a url\n",
    "url = \"https://www.bnlearn.com/book-crc/code/sachs.interventional.txt.gz\"\n",
    "file_path = pooch.retrieve(\n",
    "    url=url,\n",
    "    known_hash=\"md5:39ee257f7eeb94cb60e6177cf80c9544\",\n",
    ")\n",
    "\n",
    "df = pd.read_csv(file_path, delimiter=\" \")\n",
    "\n",
    "# the ground-truth dag is shown here: XXX: comment in when errors are fixed\n",
    "ground_truth_dag = bnlearn.import_DAG(\"sachs\", verbose=False)\n",
    "fig = bnlearn.plot(ground_truth_dag)\n",
    "\n",
    "# .. note::\n",
    "#    The Sachs dataset has previously been preprocessed, and the steps are described\n",
    "#    in bnlearn, at the web-page https://www.bnlearn.com/research/sachs05/.\n",
    "print(df.head())\n",
    "print(df.shape)"
   ]
  },
  {
   "cell_type": "code",
   "execution_count": 113,
   "metadata": {},
   "outputs": [
    {
     "name": "stdout",
     "output_type": "stream",
     "text": [
      "6 6 6\n",
      "Graph with 26 nodes and 325 edges\n",
      "There are 284 edges in the resulting PAG\n"
     ]
    },
    {
     "data": {
      "text/plain": [
       "'s_pag.png'"
      ]
     },
     "execution_count": 113,
     "metadata": {},
     "output_type": "execute_result"
    }
   ],
   "source": [
    "# %%\n",
    "# Preprocess the dataset\n",
    "# ----------------------\n",
    "# Since the data is one dataframe, we need to process it into a form\n",
    "# that is acceptable by dodiscover's :class:`constraint.PsiFCI` algorithm. We\n",
    "# will form a list of separate dataframes.\n",
    "unique_ints = df[\"INT\"].unique()\n",
    "\n",
    "# get the list of intervention targets and list of dataframe associated with each intervention\n",
    "intervention_targets = [df.columns[idx] for idx in unique_ints]\n",
    "data_cols = [col for col in df.columns if col != \"INT\"]\n",
    "data = []\n",
    "domain_ids = np.array([0, 0, 0, 0, 0, 1])\n",
    "for interv_idx in unique_ints:\n",
    "    _data = df[df[\"INT\"] == interv_idx][data_cols]\n",
    "    data.append(_data)\n",
    "\n",
    "print(len(data), len(intervention_targets), len(domain_ids))\n",
    "# %%\n",
    "# Setup constraint-based learner\n",
    "# ------------------------------\n",
    "# Since we have access to interventional data, the causal discovery algorithm\n",
    "# we will use that leverages CI and CD tests to estimate causal constraints\n",
    "# is the Psi-FCI algorithm :footcite:`Jaber2020causal`.\n",
    "\n",
    "# Our dataset is comprised of discrete valued data, so we will utilize the\n",
    "# G^2 (Chi-square) CI test.\n",
    "ci_estimator = GSquareCITest(data_type=\"discrete\")\n",
    "\n",
    "# Since our data is entirely discrete, we can also use the G^2 test as our\n",
    "# CD test.\n",
    "cd_estimator = GSquareCITest(data_type=\"discrete\")\n",
    "\n",
    "alpha = 0.8\n",
    "learner = SFCI(\n",
    "    ci_estimator=ci_estimator, cd_estimator=cd_estimator, alpha=alpha, n_jobs=-1\n",
    ")\n",
    "\n",
    "# create context with information about the interventions\n",
    "ctx_builder = make_context(create_using=InterventionalContextBuilder)\n",
    "ctx: Context = ctx_builder.variables(data=data[0]).num_distributions(len(data)).build()\n",
    "\n",
    "print(ctx.init_graph)\n",
    "\n",
    "# %%\n",
    "# Run the learning process\n",
    "# ------------------------\n",
    "# We have setup our causal context and causal discovery learner, so we will now\n",
    "# run the algorithm using the :meth:`constraint.PsiFCI.fit` API, which is similar to scikit-learn's\n",
    "# `fit` design. All fitted attributes contain an underscore at the end.\n",
    "learner = learner.fit(\n",
    "    data, ctx, domain_indices=domain_ids, intervention_targets=intervention_targets\n",
    ")\n",
    "\n",
    "# %%\n",
    "# Analyze the results\n",
    "# ===================\n",
    "# Now that we have learned the graph, we will show it here. Note differences and similarities\n",
    "# to the ground-truth DAG that is \"assumed\". Moreover, note that this reproduces Supplementary\n",
    "# Figure 8 in :footcite:`Jaber2020causal`.\n",
    "est_pag = learner.graph_\n",
    "\n",
    "print(f\"There are {len(est_pag.to_undirected().edges)} edges in the resulting PAG\")\n",
    "\n",
    "# %%\n",
    "# Visualize the full graph including the F-node\n",
    "# dot_graph = draw(est_pag, direction=\"LR\")\n",
    "# dot_graph.render(outfile=\"_pag_full.png\", view=True)\n",
    "\n",
    "# %%\n",
    "# Visualize the graph without the F-nodes\n",
    "est_pag_no_fnodes = est_pag.subgraph(data_cols)\n",
    "dot_graph = draw(est_pag_no_fnodes, direction=\"LR\")\n",
    "dot_graph.render(outfile=\"s_pag.png\", view=True)"
   ]
  },
  {
   "cell_type": "code",
   "execution_count": 114,
   "metadata": {},
   "outputs": [
    {
     "name": "stdout",
     "output_type": "stream",
     "text": [
      "Graph with 26 nodes and 325 edges\n",
      "[('F', 0), ('F', 1), ('F', 2), ('F', 3), ('F', 4), ('F', 5), ('F', 6), ('F', 7), ('F', 8), ('F', 9), ('F', 10), ('F', 11), ('F', 12), ('F', 13), ('F', 14)]\n",
      "There are 167 edges in the resulting PAG\n"
     ]
    },
    {
     "data": {
      "text/plain": [
       "'psi_pag.png'"
      ]
     },
     "execution_count": 114,
     "metadata": {},
     "output_type": "execute_result"
    }
   ],
   "source": [
    "# Setup constraint-based learner\n",
    "# ------------------------------\n",
    "# Since we have access to interventional data, the causal discovery algorithm\n",
    "# we will use that leverages CI and CD tests to estimate causal constraints\n",
    "# is the Psi-FCI algorithm :footcite:`Jaber2020causal`.\n",
    "\n",
    "# Our dataset is comprised of discrete valued data, so we will utilize the\n",
    "# G^2 (Chi-square) CI test.\n",
    "ci_estimator = GSquareCITest(data_type=\"discrete\")\n",
    "\n",
    "# Since our data is entirely discrete, we can also use the G^2 test as our\n",
    "# CD test.\n",
    "cd_estimator = GSquareCITest(data_type=\"discrete\")\n",
    "\n",
    "alpha = 0.05\n",
    "learner = PsiFCI(\n",
    "    ci_estimator=ci_estimator, cd_estimator=cd_estimator, alpha=alpha, n_jobs=-1\n",
    ")\n",
    "\n",
    "# create context with information about the interventions\n",
    "ctx_builder = make_context(create_using=InterventionalContextBuilder)\n",
    "ctx: Context = (\n",
    "    ctx_builder.variables(data=data[0])\n",
    "    .num_distributions(6)\n",
    "    .obs_distribution(False)\n",
    "    .build()\n",
    ")\n",
    "\n",
    "print(ctx.init_graph)\n",
    "print(ctx.f_nodes)\n",
    "\n",
    "# %%\n",
    "# Run the learning process\n",
    "# ------------------------\n",
    "# We have setup our causal context and causal discovery learner, so we will now\n",
    "# run the algorithm using the :meth:`constraint.PsiFCI.fit` API, which is similar to scikit-learn's\n",
    "# `fit` design. All fitted attributes contain an underscore at the end.\n",
    "learner = learner.fit(data, ctx)\n",
    "\n",
    "# %%\n",
    "# Analyze the results\n",
    "# ===================\n",
    "# Now that we have learned the graph, we will show it here. Note differences and similarities\n",
    "# to the ground-truth DAG that is \"assumed\". Moreover, note that this reproduces Supplementary\n",
    "# Figure 8 in :footcite:`Jaber2020causal`.\n",
    "est_pag = learner.graph_\n",
    "\n",
    "print(f\"There are {len(est_pag.to_undirected().edges)} edges in the resulting PAG\")\n",
    "\n",
    "# %%\n",
    "# Visualize the full graph including the F-node\n",
    "dot_graph = draw(est_pag, direction=\"LR\")\n",
    "dot_graph.render(outfile=\"psi_pag_full.png\", view=True)\n",
    "\n",
    "# %%\n",
    "# Visualize the graph without the F-nodes\n",
    "est_pag_no_fnodes = est_pag.subgraph(ctx.get_non_augmented_nodes())\n",
    "dot_graph = draw(est_pag_no_fnodes, direction=\"LR\")\n",
    "dot_graph.render(outfile=\"psi_pag.png\", view=True)"
   ]
  },
  {
   "cell_type": "code",
   "execution_count": null,
   "metadata": {},
   "outputs": [],
   "source": []
  }
 ],
 "metadata": {
  "kernelspec": {
   "display_name": "pywhy-discover",
   "language": "python",
   "name": "pywhy-discover"
  },
  "language_info": {
   "codemirror_mode": {
    "name": "ipython",
    "version": 3
   },
   "file_extension": ".py",
   "mimetype": "text/x-python",
   "name": "python",
   "nbconvert_exporter": "python",
   "pygments_lexer": "ipython3",
   "version": "3.9.13"
  }
 },
 "nbformat": 4,
 "nbformat_minor": 4
}
